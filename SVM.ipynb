{
  "nbformat": 4,
  "nbformat_minor": 0,
  "metadata": {
    "colab": {
      "provenance": [],
      "authorship_tag": "ABX9TyPEy2n8UtnH04qCx3JJiy8g",
      "include_colab_link": true
    },
    "kernelspec": {
      "name": "python3",
      "display_name": "Python 3"
    },
    "language_info": {
      "name": "python"
    }
  },
  "cells": [
    {
      "cell_type": "markdown",
      "metadata": {
        "id": "view-in-github",
        "colab_type": "text"
      },
      "source": [
        "<a href=\"https://colab.research.google.com/github/lilyzhizhou/ML-Final-Project/blob/main/SVM.ipynb\" target=\"_parent\"><img src=\"https://colab.research.google.com/assets/colab-badge.svg\" alt=\"Open In Colab\"/></a>"
      ]
    },
    {
      "cell_type": "markdown",
      "source": [
        "# SVM for predicting prediabetes"
      ],
      "metadata": {
        "id": "ZVyfOF1atcGy"
      }
    },
    {
      "cell_type": "markdown",
      "source": [
        "### Import data and process"
      ],
      "metadata": {
        "id": "mc6o-fZuzEVF"
      }
    },
    {
      "cell_type": "code",
      "execution_count": 1,
      "metadata": {
        "id": "J_dECXgMkJL-"
      },
      "outputs": [],
      "source": [
        "# Import necessary libraries/modules\n",
        "from sklearn.model_selection import train_test_split  # For splitting data into training and testing sets\n",
        "from sklearn.svm import SVC  # Support Vector Classifier (SVM) for classification\n",
        "from sklearn.metrics import classification_report, accuracy_score  # For evaluating the classifier\n",
        "import plotly.express as px  # For data visualization with Plotly\n",
        "import numpy as np  # For numerical operations\n",
        "from sklearn.pipeline import Pipeline  # For creating a machine learning pipeline\n",
        "from sklearn.model_selection import GridSearchCV, KFold, StratifiedKFold  # For hyperparameter tuning and cross-validation\n",
        "import pandas as pd  # For working with data in a DataFrame format\n",
        "from sklearn.impute import SimpleImputer\n",
        "from sklearn.preprocessing import StandardScaler\n",
        "\n",
        "import warnings\n",
        "warnings.filterwarnings(\"ignore\")"
      ]
    },
    {
      "cell_type": "code",
      "source": [
        "# load data\n",
        "datapd = pd.read_csv('datapd.csv')\n",
        "\n",
        "# Drop Patient_ID\n",
        "datapd.drop('Patient_ID', axis = 1, inplace = True)\n",
        "datapd.drop('Unnamed: 0', axis = 1, inplace = True)\n",
        "\n",
        "datapd.head()"
      ],
      "metadata": {
        "colab": {
          "base_uri": "https://localhost:8080/",
          "height": 206
        },
        "id": "JzVUv03Xtbze",
        "outputId": "efd7d7a9-b7c2-4bc5-8d22-b3ad84c36b0f"
      },
      "execution_count": 2,
      "outputs": [
        {
          "output_type": "execute_result",
          "data": {
            "text/plain": [
              "   predm  Age_at_Exam   BMI  Total_Cholesterol  Depression  HTN  OA  COPD  \\\n",
              "0      1           63  30.9                NaN           0    1   0     1   \n",
              "1      1           66  23.6               3.54           1    1   1     0   \n",
              "2      0           68  34.3               5.55           1    1   1     0   \n",
              "3      1           73  28.5               3.78           1    1   0     1   \n",
              "4      0           53  33.4               5.38           0    1   1     0   \n",
              "\n",
              "   corstrd_bin  htnmed_bin  Sex  \n",
              "0            0           1    1  \n",
              "1            0           1    1  \n",
              "2            0           1    0  \n",
              "3            1           1    0  \n",
              "4            1           1    0  "
            ],
            "text/html": [
              "\n",
              "  <div id=\"df-f5c143b4-7a21-43a4-920c-d8e5bc85d60f\" class=\"colab-df-container\">\n",
              "    <div>\n",
              "<style scoped>\n",
              "    .dataframe tbody tr th:only-of-type {\n",
              "        vertical-align: middle;\n",
              "    }\n",
              "\n",
              "    .dataframe tbody tr th {\n",
              "        vertical-align: top;\n",
              "    }\n",
              "\n",
              "    .dataframe thead th {\n",
              "        text-align: right;\n",
              "    }\n",
              "</style>\n",
              "<table border=\"1\" class=\"dataframe\">\n",
              "  <thead>\n",
              "    <tr style=\"text-align: right;\">\n",
              "      <th></th>\n",
              "      <th>predm</th>\n",
              "      <th>Age_at_Exam</th>\n",
              "      <th>BMI</th>\n",
              "      <th>Total_Cholesterol</th>\n",
              "      <th>Depression</th>\n",
              "      <th>HTN</th>\n",
              "      <th>OA</th>\n",
              "      <th>COPD</th>\n",
              "      <th>corstrd_bin</th>\n",
              "      <th>htnmed_bin</th>\n",
              "      <th>Sex</th>\n",
              "    </tr>\n",
              "  </thead>\n",
              "  <tbody>\n",
              "    <tr>\n",
              "      <th>0</th>\n",
              "      <td>1</td>\n",
              "      <td>63</td>\n",
              "      <td>30.9</td>\n",
              "      <td>NaN</td>\n",
              "      <td>0</td>\n",
              "      <td>1</td>\n",
              "      <td>0</td>\n",
              "      <td>1</td>\n",
              "      <td>0</td>\n",
              "      <td>1</td>\n",
              "      <td>1</td>\n",
              "    </tr>\n",
              "    <tr>\n",
              "      <th>1</th>\n",
              "      <td>1</td>\n",
              "      <td>66</td>\n",
              "      <td>23.6</td>\n",
              "      <td>3.54</td>\n",
              "      <td>1</td>\n",
              "      <td>1</td>\n",
              "      <td>1</td>\n",
              "      <td>0</td>\n",
              "      <td>0</td>\n",
              "      <td>1</td>\n",
              "      <td>1</td>\n",
              "    </tr>\n",
              "    <tr>\n",
              "      <th>2</th>\n",
              "      <td>0</td>\n",
              "      <td>68</td>\n",
              "      <td>34.3</td>\n",
              "      <td>5.55</td>\n",
              "      <td>1</td>\n",
              "      <td>1</td>\n",
              "      <td>1</td>\n",
              "      <td>0</td>\n",
              "      <td>0</td>\n",
              "      <td>1</td>\n",
              "      <td>0</td>\n",
              "    </tr>\n",
              "    <tr>\n",
              "      <th>3</th>\n",
              "      <td>1</td>\n",
              "      <td>73</td>\n",
              "      <td>28.5</td>\n",
              "      <td>3.78</td>\n",
              "      <td>1</td>\n",
              "      <td>1</td>\n",
              "      <td>0</td>\n",
              "      <td>1</td>\n",
              "      <td>1</td>\n",
              "      <td>1</td>\n",
              "      <td>0</td>\n",
              "    </tr>\n",
              "    <tr>\n",
              "      <th>4</th>\n",
              "      <td>0</td>\n",
              "      <td>53</td>\n",
              "      <td>33.4</td>\n",
              "      <td>5.38</td>\n",
              "      <td>0</td>\n",
              "      <td>1</td>\n",
              "      <td>1</td>\n",
              "      <td>0</td>\n",
              "      <td>1</td>\n",
              "      <td>1</td>\n",
              "      <td>0</td>\n",
              "    </tr>\n",
              "  </tbody>\n",
              "</table>\n",
              "</div>\n",
              "    <div class=\"colab-df-buttons\">\n",
              "\n",
              "  <div class=\"colab-df-container\">\n",
              "    <button class=\"colab-df-convert\" onclick=\"convertToInteractive('df-f5c143b4-7a21-43a4-920c-d8e5bc85d60f')\"\n",
              "            title=\"Convert this dataframe to an interactive table.\"\n",
              "            style=\"display:none;\">\n",
              "\n",
              "  <svg xmlns=\"http://www.w3.org/2000/svg\" height=\"24px\" viewBox=\"0 -960 960 960\">\n",
              "    <path d=\"M120-120v-720h720v720H120Zm60-500h600v-160H180v160Zm220 220h160v-160H400v160Zm0 220h160v-160H400v160ZM180-400h160v-160H180v160Zm440 0h160v-160H620v160ZM180-180h160v-160H180v160Zm440 0h160v-160H620v160Z\"/>\n",
              "  </svg>\n",
              "    </button>\n",
              "\n",
              "  <style>\n",
              "    .colab-df-container {\n",
              "      display:flex;\n",
              "      gap: 12px;\n",
              "    }\n",
              "\n",
              "    .colab-df-convert {\n",
              "      background-color: #E8F0FE;\n",
              "      border: none;\n",
              "      border-radius: 50%;\n",
              "      cursor: pointer;\n",
              "      display: none;\n",
              "      fill: #1967D2;\n",
              "      height: 32px;\n",
              "      padding: 0 0 0 0;\n",
              "      width: 32px;\n",
              "    }\n",
              "\n",
              "    .colab-df-convert:hover {\n",
              "      background-color: #E2EBFA;\n",
              "      box-shadow: 0px 1px 2px rgba(60, 64, 67, 0.3), 0px 1px 3px 1px rgba(60, 64, 67, 0.15);\n",
              "      fill: #174EA6;\n",
              "    }\n",
              "\n",
              "    .colab-df-buttons div {\n",
              "      margin-bottom: 4px;\n",
              "    }\n",
              "\n",
              "    [theme=dark] .colab-df-convert {\n",
              "      background-color: #3B4455;\n",
              "      fill: #D2E3FC;\n",
              "    }\n",
              "\n",
              "    [theme=dark] .colab-df-convert:hover {\n",
              "      background-color: #434B5C;\n",
              "      box-shadow: 0px 1px 3px 1px rgba(0, 0, 0, 0.15);\n",
              "      filter: drop-shadow(0px 1px 2px rgba(0, 0, 0, 0.3));\n",
              "      fill: #FFFFFF;\n",
              "    }\n",
              "  </style>\n",
              "\n",
              "    <script>\n",
              "      const buttonEl =\n",
              "        document.querySelector('#df-f5c143b4-7a21-43a4-920c-d8e5bc85d60f button.colab-df-convert');\n",
              "      buttonEl.style.display =\n",
              "        google.colab.kernel.accessAllowed ? 'block' : 'none';\n",
              "\n",
              "      async function convertToInteractive(key) {\n",
              "        const element = document.querySelector('#df-f5c143b4-7a21-43a4-920c-d8e5bc85d60f');\n",
              "        const dataTable =\n",
              "          await google.colab.kernel.invokeFunction('convertToInteractive',\n",
              "                                                    [key], {});\n",
              "        if (!dataTable) return;\n",
              "\n",
              "        const docLinkHtml = 'Like what you see? Visit the ' +\n",
              "          '<a target=\"_blank\" href=https://colab.research.google.com/notebooks/data_table.ipynb>data table notebook</a>'\n",
              "          + ' to learn more about interactive tables.';\n",
              "        element.innerHTML = '';\n",
              "        dataTable['output_type'] = 'display_data';\n",
              "        await google.colab.output.renderOutput(dataTable, element);\n",
              "        const docLink = document.createElement('div');\n",
              "        docLink.innerHTML = docLinkHtml;\n",
              "        element.appendChild(docLink);\n",
              "      }\n",
              "    </script>\n",
              "  </div>\n",
              "\n",
              "\n",
              "<div id=\"df-080555c9-b5e9-450f-9722-bf51b98b1a92\">\n",
              "  <button class=\"colab-df-quickchart\" onclick=\"quickchart('df-080555c9-b5e9-450f-9722-bf51b98b1a92')\"\n",
              "            title=\"Suggest charts\"\n",
              "            style=\"display:none;\">\n",
              "\n",
              "<svg xmlns=\"http://www.w3.org/2000/svg\" height=\"24px\"viewBox=\"0 0 24 24\"\n",
              "     width=\"24px\">\n",
              "    <g>\n",
              "        <path d=\"M19 3H5c-1.1 0-2 .9-2 2v14c0 1.1.9 2 2 2h14c1.1 0 2-.9 2-2V5c0-1.1-.9-2-2-2zM9 17H7v-7h2v7zm4 0h-2V7h2v10zm4 0h-2v-4h2v4z\"/>\n",
              "    </g>\n",
              "</svg>\n",
              "  </button>\n",
              "\n",
              "<style>\n",
              "  .colab-df-quickchart {\n",
              "      --bg-color: #E8F0FE;\n",
              "      --fill-color: #1967D2;\n",
              "      --hover-bg-color: #E2EBFA;\n",
              "      --hover-fill-color: #174EA6;\n",
              "      --disabled-fill-color: #AAA;\n",
              "      --disabled-bg-color: #DDD;\n",
              "  }\n",
              "\n",
              "  [theme=dark] .colab-df-quickchart {\n",
              "      --bg-color: #3B4455;\n",
              "      --fill-color: #D2E3FC;\n",
              "      --hover-bg-color: #434B5C;\n",
              "      --hover-fill-color: #FFFFFF;\n",
              "      --disabled-bg-color: #3B4455;\n",
              "      --disabled-fill-color: #666;\n",
              "  }\n",
              "\n",
              "  .colab-df-quickchart {\n",
              "    background-color: var(--bg-color);\n",
              "    border: none;\n",
              "    border-radius: 50%;\n",
              "    cursor: pointer;\n",
              "    display: none;\n",
              "    fill: var(--fill-color);\n",
              "    height: 32px;\n",
              "    padding: 0;\n",
              "    width: 32px;\n",
              "  }\n",
              "\n",
              "  .colab-df-quickchart:hover {\n",
              "    background-color: var(--hover-bg-color);\n",
              "    box-shadow: 0 1px 2px rgba(60, 64, 67, 0.3), 0 1px 3px 1px rgba(60, 64, 67, 0.15);\n",
              "    fill: var(--button-hover-fill-color);\n",
              "  }\n",
              "\n",
              "  .colab-df-quickchart-complete:disabled,\n",
              "  .colab-df-quickchart-complete:disabled:hover {\n",
              "    background-color: var(--disabled-bg-color);\n",
              "    fill: var(--disabled-fill-color);\n",
              "    box-shadow: none;\n",
              "  }\n",
              "\n",
              "  .colab-df-spinner {\n",
              "    border: 2px solid var(--fill-color);\n",
              "    border-color: transparent;\n",
              "    border-bottom-color: var(--fill-color);\n",
              "    animation:\n",
              "      spin 1s steps(1) infinite;\n",
              "  }\n",
              "\n",
              "  @keyframes spin {\n",
              "    0% {\n",
              "      border-color: transparent;\n",
              "      border-bottom-color: var(--fill-color);\n",
              "      border-left-color: var(--fill-color);\n",
              "    }\n",
              "    20% {\n",
              "      border-color: transparent;\n",
              "      border-left-color: var(--fill-color);\n",
              "      border-top-color: var(--fill-color);\n",
              "    }\n",
              "    30% {\n",
              "      border-color: transparent;\n",
              "      border-left-color: var(--fill-color);\n",
              "      border-top-color: var(--fill-color);\n",
              "      border-right-color: var(--fill-color);\n",
              "    }\n",
              "    40% {\n",
              "      border-color: transparent;\n",
              "      border-right-color: var(--fill-color);\n",
              "      border-top-color: var(--fill-color);\n",
              "    }\n",
              "    60% {\n",
              "      border-color: transparent;\n",
              "      border-right-color: var(--fill-color);\n",
              "    }\n",
              "    80% {\n",
              "      border-color: transparent;\n",
              "      border-right-color: var(--fill-color);\n",
              "      border-bottom-color: var(--fill-color);\n",
              "    }\n",
              "    90% {\n",
              "      border-color: transparent;\n",
              "      border-bottom-color: var(--fill-color);\n",
              "    }\n",
              "  }\n",
              "</style>\n",
              "\n",
              "  <script>\n",
              "    async function quickchart(key) {\n",
              "      const quickchartButtonEl =\n",
              "        document.querySelector('#' + key + ' button');\n",
              "      quickchartButtonEl.disabled = true;  // To prevent multiple clicks.\n",
              "      quickchartButtonEl.classList.add('colab-df-spinner');\n",
              "      try {\n",
              "        const charts = await google.colab.kernel.invokeFunction(\n",
              "            'suggestCharts', [key], {});\n",
              "      } catch (error) {\n",
              "        console.error('Error during call to suggestCharts:', error);\n",
              "      }\n",
              "      quickchartButtonEl.classList.remove('colab-df-spinner');\n",
              "      quickchartButtonEl.classList.add('colab-df-quickchart-complete');\n",
              "    }\n",
              "    (() => {\n",
              "      let quickchartButtonEl =\n",
              "        document.querySelector('#df-080555c9-b5e9-450f-9722-bf51b98b1a92 button');\n",
              "      quickchartButtonEl.style.display =\n",
              "        google.colab.kernel.accessAllowed ? 'block' : 'none';\n",
              "    })();\n",
              "  </script>\n",
              "</div>\n",
              "\n",
              "    </div>\n",
              "  </div>\n"
            ]
          },
          "metadata": {},
          "execution_count": 2
        }
      ]
    },
    {
      "cell_type": "code",
      "source": [
        "#check dataset shape, variable types, and missing values\n",
        "print(datapd.shape)\n",
        "print(datapd.dtypes)\n",
        "print(datapd.isnull().sum())\n",
        "#there are 152 missing values for TG\n",
        "\n",
        "print((datapd['Total_Cholesterol'].isnull().sum() / len(datapd)) * 100)\n",
        "#this is around 2% of data"
      ],
      "metadata": {
        "colab": {
          "base_uri": "https://localhost:8080/"
        },
        "id": "TnN_p8x5uIw0",
        "outputId": "e04cbe1b-71ef-4d61-dc2f-9de2f12b72c9"
      },
      "execution_count": 3,
      "outputs": [
        {
          "output_type": "stream",
          "name": "stdout",
          "text": [
            "(6414, 11)\n",
            "predm                  int64\n",
            "Age_at_Exam            int64\n",
            "BMI                  float64\n",
            "Total_Cholesterol    float64\n",
            "Depression             int64\n",
            "HTN                    int64\n",
            "OA                     int64\n",
            "COPD                   int64\n",
            "corstrd_bin            int64\n",
            "htnmed_bin             int64\n",
            "Sex                    int64\n",
            "dtype: object\n",
            "predm                  0\n",
            "Age_at_Exam            0\n",
            "BMI                    0\n",
            "Total_Cholesterol    152\n",
            "Depression             0\n",
            "HTN                    0\n",
            "OA                     0\n",
            "COPD                   0\n",
            "corstrd_bin            0\n",
            "htnmed_bin             0\n",
            "Sex                    0\n",
            "dtype: int64\n",
            "2.369816027439975\n"
          ]
        }
      ]
    },
    {
      "cell_type": "code",
      "source": [
        "# 1. Split the data into features and target variable\n",
        "# specify x and y\n",
        "Xdf = datapd.drop('predm', axis=1)\n",
        "ydf = datapd['predm']\n",
        "# convert to numpy array for SVM\n",
        "X = np.stack(Xdf.values)\n",
        "y = ydf.values\n",
        "\n",
        "# 2. Split the data into training and testing sets\n",
        "X_train, X_test, y_train, y_test = train_test_split(X, y, test_size=0.2, random_state=42)\n",
        "\n",
        "# 3. Split the training set into a smaller training set and a validation set\n",
        "X_train, X_valid, y_train, y_valid = train_test_split(X_train, y_train, test_size=0.25, random_state=42)\n",
        "\n",
        "# 4. Imputation of missing values\n",
        "imputer = SimpleImputer(strategy='median')\n",
        "X_train = imputer.fit_transform(X_train)\n",
        "X_valid = imputer.fit_transform(X_valid)\n",
        "X_test = imputer.fit_transform(X_test)\n",
        "\n",
        "# 5. Normalization of the data\n",
        "scaler = StandardScaler()\n",
        "X_train = scaler.fit_transform(X_train)\n",
        "X_valid = scaler.fit_transform(X_valid)\n",
        "X_test = scaler.fit_transform(X_test)"
      ],
      "metadata": {
        "id": "h8ZolIp5zISe"
      },
      "execution_count": 4,
      "outputs": []
    },
    {
      "cell_type": "code",
      "source": [
        "# view outcome distribution in all sets\n",
        "\n",
        "train_distribution = np.mean(y_train == 1) * 100\n",
        "print(\"Training set\")\n",
        "print(train_distribution)\n",
        "\n",
        "test_distribution = np.mean(y_test == 1) * 100\n",
        "print(\"\\nTesting set\")\n",
        "print(test_distribution)\n",
        "\n",
        "valid_distribution = np.mean(y_valid == 1) * 100\n",
        "print(\"\\nValidation set\")\n",
        "print(valid_distribution)\n",
        "\n",
        "#each set has around 40% prediabetes, which is balanced"
      ],
      "metadata": {
        "colab": {
          "base_uri": "https://localhost:8080/"
        },
        "id": "9m4GXV7k3sqR",
        "outputId": "ac258431-c75d-4e06-c309-2a1f5486e142"
      },
      "execution_count": 5,
      "outputs": [
        {
          "output_type": "stream",
          "name": "stdout",
          "text": [
            "Training set\n",
            "41.29417879417879\n",
            "\n",
            "Testing set\n",
            "40.76383476227591\n",
            "\n",
            "Validation set\n",
            "39.28293063133281\n"
          ]
        }
      ]
    },
    {
      "cell_type": "markdown",
      "source": [
        "## SVM"
      ],
      "metadata": {
        "id": "n4otGzjv0lCK"
      }
    },
    {
      "cell_type": "code",
      "source": [
        "# Create and train an initial SVM classifier with linear kernel\n",
        "svm_classifier = SVC(kernel='linear')\n",
        "svm_classifier.fit(X_train, y_train)"
      ],
      "metadata": {
        "colab": {
          "base_uri": "https://localhost:8080/",
          "height": 75
        },
        "id": "7dn9vxsU0jyV",
        "outputId": "88457bdf-a393-4870-dc7f-257bc116371e"
      },
      "execution_count": 6,
      "outputs": [
        {
          "output_type": "execute_result",
          "data": {
            "text/plain": [
              "SVC(kernel='linear')"
            ],
            "text/html": [
              "<style>#sk-container-id-1 {color: black;background-color: white;}#sk-container-id-1 pre{padding: 0;}#sk-container-id-1 div.sk-toggleable {background-color: white;}#sk-container-id-1 label.sk-toggleable__label {cursor: pointer;display: block;width: 100%;margin-bottom: 0;padding: 0.3em;box-sizing: border-box;text-align: center;}#sk-container-id-1 label.sk-toggleable__label-arrow:before {content: \"▸\";float: left;margin-right: 0.25em;color: #696969;}#sk-container-id-1 label.sk-toggleable__label-arrow:hover:before {color: black;}#sk-container-id-1 div.sk-estimator:hover label.sk-toggleable__label-arrow:before {color: black;}#sk-container-id-1 div.sk-toggleable__content {max-height: 0;max-width: 0;overflow: hidden;text-align: left;background-color: #f0f8ff;}#sk-container-id-1 div.sk-toggleable__content pre {margin: 0.2em;color: black;border-radius: 0.25em;background-color: #f0f8ff;}#sk-container-id-1 input.sk-toggleable__control:checked~div.sk-toggleable__content {max-height: 200px;max-width: 100%;overflow: auto;}#sk-container-id-1 input.sk-toggleable__control:checked~label.sk-toggleable__label-arrow:before {content: \"▾\";}#sk-container-id-1 div.sk-estimator input.sk-toggleable__control:checked~label.sk-toggleable__label {background-color: #d4ebff;}#sk-container-id-1 div.sk-label input.sk-toggleable__control:checked~label.sk-toggleable__label {background-color: #d4ebff;}#sk-container-id-1 input.sk-hidden--visually {border: 0;clip: rect(1px 1px 1px 1px);clip: rect(1px, 1px, 1px, 1px);height: 1px;margin: -1px;overflow: hidden;padding: 0;position: absolute;width: 1px;}#sk-container-id-1 div.sk-estimator {font-family: monospace;background-color: #f0f8ff;border: 1px dotted black;border-radius: 0.25em;box-sizing: border-box;margin-bottom: 0.5em;}#sk-container-id-1 div.sk-estimator:hover {background-color: #d4ebff;}#sk-container-id-1 div.sk-parallel-item::after {content: \"\";width: 100%;border-bottom: 1px solid gray;flex-grow: 1;}#sk-container-id-1 div.sk-label:hover label.sk-toggleable__label {background-color: #d4ebff;}#sk-container-id-1 div.sk-serial::before {content: \"\";position: absolute;border-left: 1px solid gray;box-sizing: border-box;top: 0;bottom: 0;left: 50%;z-index: 0;}#sk-container-id-1 div.sk-serial {display: flex;flex-direction: column;align-items: center;background-color: white;padding-right: 0.2em;padding-left: 0.2em;position: relative;}#sk-container-id-1 div.sk-item {position: relative;z-index: 1;}#sk-container-id-1 div.sk-parallel {display: flex;align-items: stretch;justify-content: center;background-color: white;position: relative;}#sk-container-id-1 div.sk-item::before, #sk-container-id-1 div.sk-parallel-item::before {content: \"\";position: absolute;border-left: 1px solid gray;box-sizing: border-box;top: 0;bottom: 0;left: 50%;z-index: -1;}#sk-container-id-1 div.sk-parallel-item {display: flex;flex-direction: column;z-index: 1;position: relative;background-color: white;}#sk-container-id-1 div.sk-parallel-item:first-child::after {align-self: flex-end;width: 50%;}#sk-container-id-1 div.sk-parallel-item:last-child::after {align-self: flex-start;width: 50%;}#sk-container-id-1 div.sk-parallel-item:only-child::after {width: 0;}#sk-container-id-1 div.sk-dashed-wrapped {border: 1px dashed gray;margin: 0 0.4em 0.5em 0.4em;box-sizing: border-box;padding-bottom: 0.4em;background-color: white;}#sk-container-id-1 div.sk-label label {font-family: monospace;font-weight: bold;display: inline-block;line-height: 1.2em;}#sk-container-id-1 div.sk-label-container {text-align: center;}#sk-container-id-1 div.sk-container {/* jupyter's `normalize.less` sets `[hidden] { display: none; }` but bootstrap.min.css set `[hidden] { display: none !important; }` so we also need the `!important` here to be able to override the default hidden behavior on the sphinx rendered scikit-learn.org. See: https://github.com/scikit-learn/scikit-learn/issues/21755 */display: inline-block !important;position: relative;}#sk-container-id-1 div.sk-text-repr-fallback {display: none;}</style><div id=\"sk-container-id-1\" class=\"sk-top-container\"><div class=\"sk-text-repr-fallback\"><pre>SVC(kernel=&#x27;linear&#x27;)</pre><b>In a Jupyter environment, please rerun this cell to show the HTML representation or trust the notebook. <br />On GitHub, the HTML representation is unable to render, please try loading this page with nbviewer.org.</b></div><div class=\"sk-container\" hidden><div class=\"sk-item\"><div class=\"sk-estimator sk-toggleable\"><input class=\"sk-toggleable__control sk-hidden--visually\" id=\"sk-estimator-id-1\" type=\"checkbox\" checked><label for=\"sk-estimator-id-1\" class=\"sk-toggleable__label sk-toggleable__label-arrow\">SVC</label><div class=\"sk-toggleable__content\"><pre>SVC(kernel=&#x27;linear&#x27;)</pre></div></div></div></div></div>"
            ]
          },
          "metadata": {},
          "execution_count": 6
        }
      ]
    },
    {
      "cell_type": "code",
      "source": [
        "# Make predictions on the test set\n",
        "y_pred_train = svm_classifier.predict(X_train)\n",
        "y_pred_test = svm_classifier.predict(X_test)\n",
        "\n",
        "# Evaluate the model\n",
        "print('----------- Train --------------')\n",
        "print(\"Accuracy:\", accuracy_score(y_train, y_pred_train))\n",
        "print(\"\\nClassification Report:\\n\", classification_report(y_train, y_pred_train))\n",
        "\n",
        "print('----------- Test --------------')\n",
        "print(\"Accuracy:\", accuracy_score(y_test, y_pred_test))\n",
        "print(\"\\nClassification Report:\\n\", classification_report(y_test, y_pred_test))\n",
        "\n",
        "# pretty low initial recall and f1"
      ],
      "metadata": {
        "colab": {
          "base_uri": "https://localhost:8080/"
        },
        "id": "56OGMgPi2uGN",
        "outputId": "fefe4477-d293-44eb-8d54-73681ae42ba8"
      },
      "execution_count": 7,
      "outputs": [
        {
          "output_type": "stream",
          "name": "stdout",
          "text": [
            "----------- Train --------------\n",
            "Accuracy: 0.6385135135135135\n",
            "\n",
            "Classification Report:\n",
            "               precision    recall  f1-score   support\n",
            "\n",
            "           0       0.67      0.74      0.71      2259\n",
            "           1       0.57      0.49      0.53      1589\n",
            "\n",
            "    accuracy                           0.64      3848\n",
            "   macro avg       0.62      0.62      0.62      3848\n",
            "weighted avg       0.63      0.64      0.63      3848\n",
            "\n",
            "----------- Test --------------\n",
            "Accuracy: 0.6453624318004677\n",
            "\n",
            "Classification Report:\n",
            "               precision    recall  f1-score   support\n",
            "\n",
            "           0       0.68      0.74      0.71       760\n",
            "           1       0.57      0.50      0.54       523\n",
            "\n",
            "    accuracy                           0.65      1283\n",
            "   macro avg       0.63      0.62      0.62      1283\n",
            "weighted avg       0.64      0.65      0.64      1283\n",
            "\n"
          ]
        }
      ]
    },
    {
      "cell_type": "code",
      "source": [
        "#view parameters of initial SVM model\n",
        "model_params = svm_classifier.get_params()\n",
        "for param, value in model_params.items():\n",
        "    print(f\"{param}: {value}\")"
      ],
      "metadata": {
        "colab": {
          "base_uri": "https://localhost:8080/"
        },
        "id": "wliwAWVRhKmx",
        "outputId": "2f9d9674-373c-469c-c7df-b1634b1e401c"
      },
      "execution_count": 8,
      "outputs": [
        {
          "output_type": "stream",
          "name": "stdout",
          "text": [
            "C: 1.0\n",
            "break_ties: False\n",
            "cache_size: 200\n",
            "class_weight: None\n",
            "coef0: 0.0\n",
            "decision_function_shape: ovr\n",
            "degree: 3\n",
            "gamma: scale\n",
            "kernel: linear\n",
            "max_iter: -1\n",
            "probability: False\n",
            "random_state: None\n",
            "shrinking: True\n",
            "tol: 0.001\n",
            "verbose: False\n"
          ]
        }
      ]
    },
    {
      "cell_type": "markdown",
      "source": [
        "### Hyperparameter tuning"
      ],
      "metadata": {
        "id": "GgSHZQqi3BSJ"
      }
    },
    {
      "cell_type": "code",
      "source": [
        "### parameters\n",
        "# c: balances misclassification and maximizing the margin (high c = small margin, less misclass)\n",
        "# kernal: linear, polynomial, radial\n",
        "  # degree for polynomial\n",
        "  # gamma for polynomial and radial\n",
        "    # higher gamma = more fitted to training data\n",
        "\n",
        "# Create an instance of the Support Vector Classifier (SVC) with class weight balancing\n",
        "svm = SVC(class_weight='balanced')\n",
        "\n",
        "# Define a dictionary of hyperparameter values to search over\n",
        "param_dist = {\n",
        "    'class_weight': [None, 'balanced'],\n",
        "    'C': [0.01, 0.1, 1, 10],\n",
        "    'kernel': ['linear', 'sigmoid', {'poly': {'degree': 2}}, {'poly': {'degree': 3}}, 'rbf'],\n",
        "    'gamma': [0.01, 1, 10, 'scale', 'auto']\n",
        "}\n",
        "# parameter options include parameters of first model, plus additional options\n",
        "\n",
        "# Use Kfold (stratified not used because outcome class is balanced)\n",
        "\n",
        "# Create a StratifiedKFold cross-validation object with 3 folds\n",
        "kf = KFold(n_splits=3)\n",
        "\n",
        "# Perform a grid search with cross-validation to find the best hyperparameters\n",
        "random_search = GridSearchCV(\n",
        "    svm,  # SVM classifier instance\n",
        "    param_grid=param_dist,  # Hyperparameter grid to search\n",
        "    cv=kf,  # Cross-validation\n",
        "    scoring='f1_micro'  # Scoring metric ('f1_micro' for balanced evaluation)\n",
        ")"
      ],
      "metadata": {
        "id": "CtgMPOhZ27H2"
      },
      "execution_count": 9,
      "outputs": []
    },
    {
      "cell_type": "code",
      "source": [
        "# Perform a grid search with cross-validation to find the best hyperparameters for an SVM model.\n",
        "random_search.fit(X_train, y_train)\n",
        "\n",
        "# Create a DataFrame to store the results of the grid search.\n",
        "results = pd.DataFrame(random_search.cv_results_)\n",
        "\n",
        "# Filter and select the best-performing hyperparameter set based on the 'rank_test_score'.\n",
        "# The hyperparameter set with the lowest rank_test_score is considered the best.\n",
        "best_results = results[results['rank_test_score'] == 1]\n",
        "\n",
        "# runtime: 3 min"
      ],
      "metadata": {
        "id": "ctUs67HzfXY2"
      },
      "execution_count": 10,
      "outputs": []
    },
    {
      "cell_type": "code",
      "source": [
        "# view best parameters found by gridsearch\n",
        "pd.set_option('display.max_colwidth', None)\n",
        "print(best_results)\n",
        "pd.reset_option"
      ],
      "metadata": {
        "colab": {
          "base_uri": "https://localhost:8080/"
        },
        "id": "A7uW-VqNfzac",
        "outputId": "af2d4edd-91c0-4a38-9f12-b16c8a028d03"
      },
      "execution_count": 11,
      "outputs": [
        {
          "output_type": "stream",
          "name": "stdout",
          "text": [
            "     mean_fit_time  std_fit_time  mean_score_time  std_score_time param_C  \\\n",
            "119       0.290052      0.012452         0.189233        0.062981       1   \n",
            "\n",
            "    param_class_weight param_gamma param_kernel  \\\n",
            "119               None       scale          rbf   \n",
            "\n",
            "                                                                params  \\\n",
            "119  {'C': 1, 'class_weight': None, 'gamma': 'scale', 'kernel': 'rbf'}   \n",
            "\n",
            "     split0_test_score  split1_test_score  split2_test_score  mean_test_score  \\\n",
            "119            0.64848           0.643024           0.632605          0.64137   \n",
            "\n",
            "     std_test_score  rank_test_score  \n",
            "119        0.006586                1  \n"
          ]
        },
        {
          "output_type": "execute_result",
          "data": {
            "text/plain": [
              "<pandas._config.config.CallableDynamicDoc at 0x7b3ed77bd300>"
            ]
          },
          "metadata": {},
          "execution_count": 11
        }
      ]
    },
    {
      "cell_type": "markdown",
      "source": [
        "### Train, test, and validate SVM model"
      ],
      "metadata": {
        "id": "0rPBfabBg1Lb"
      }
    },
    {
      "cell_type": "code",
      "source": [
        "# Set the hyperparameters of the SVM model to the best parameters found during the random search.\n",
        "model = svm.set_params(**random_search.best_params_)\n",
        "\n",
        "# Train the SVM model using the training data.\n",
        "model = model.fit(X_train, y_train)"
      ],
      "metadata": {
        "id": "VN1Y_NJcg03g"
      },
      "execution_count": 12,
      "outputs": []
    },
    {
      "cell_type": "code",
      "source": [
        "# Use the trained model to predict the training, validation, and test data.\n",
        "y_pred_train = model.predict(X_train)\n",
        "y_pred_valid = model.predict(X_valid)\n",
        "y_pred_test = model.predict(X_test)\n",
        "\n",
        "# Print performance metrics for the training data.\n",
        "print('----------- Train --------------')\n",
        "print(\"Accuracy:\", accuracy_score(y_train, y_pred_train))\n",
        "print(\"\\nClassification Report:\\n\", classification_report(y_train, y_pred_train))\n",
        "\n",
        "# Print performance metrics for the validation data.\n",
        "print('----------- Validation --------------')\n",
        "print(\"Accuracy:\", accuracy_score(y_valid, y_pred_valid))\n",
        "print(\"\\nClassification Report:\\n\", classification_report(y_valid, y_pred_valid))\n",
        "\n",
        "# Print performance metrics for the test data.\n",
        "print('----------- Test --------------')\n",
        "print(\"Accuracy:\", accuracy_score(y_test, y_pred_test))\n",
        "print(\"\\nClassification Report:\\n\", classification_report(y_test, y_pred_test))\n",
        "\n",
        "# still not good"
      ],
      "metadata": {
        "colab": {
          "base_uri": "https://localhost:8080/"
        },
        "id": "_19tudmCg7t1",
        "outputId": "16e68f1c-ea82-4e90-affa-039d843815cf"
      },
      "execution_count": 13,
      "outputs": [
        {
          "output_type": "stream",
          "name": "stdout",
          "text": [
            "----------- Train --------------\n",
            "Accuracy: 0.6837318087318087\n",
            "\n",
            "Classification Report:\n",
            "               precision    recall  f1-score   support\n",
            "\n",
            "           0       0.70      0.80      0.75      2259\n",
            "           1       0.65      0.52      0.57      1589\n",
            "\n",
            "    accuracy                           0.68      3848\n",
            "   macro avg       0.67      0.66      0.66      3848\n",
            "weighted avg       0.68      0.68      0.68      3848\n",
            "\n",
            "----------- Validation --------------\n",
            "Accuracy: 0.6438035853468433\n",
            "\n",
            "Classification Report:\n",
            "               precision    recall  f1-score   support\n",
            "\n",
            "           0       0.69      0.77      0.72       779\n",
            "           1       0.56      0.46      0.50       504\n",
            "\n",
            "    accuracy                           0.64      1283\n",
            "   macro avg       0.62      0.61      0.61      1283\n",
            "weighted avg       0.63      0.64      0.64      1283\n",
            "\n",
            "----------- Test --------------\n",
            "Accuracy: 0.6609508963367108\n",
            "\n",
            "Classification Report:\n",
            "               precision    recall  f1-score   support\n",
            "\n",
            "           0       0.69      0.78      0.73       760\n",
            "           1       0.60      0.49      0.54       523\n",
            "\n",
            "    accuracy                           0.66      1283\n",
            "   macro avg       0.65      0.63      0.64      1283\n",
            "weighted avg       0.65      0.66      0.65      1283\n",
            "\n"
          ]
        }
      ]
    },
    {
      "cell_type": "code",
      "source": [
        "#confusion matrix\n",
        "import seaborn as sns\n",
        "import matplotlib.pyplot as plt\n",
        "from sklearn.metrics import confusion_matrix\n",
        "\n",
        "conf_matrix = confusion_matrix(y_pred_test, y_test)\n",
        "sns.heatmap(conf_matrix, annot=True, fmt='d')\n",
        "plt.ylabel('Actual')\n",
        "plt.xlabel('Predicted')\n",
        "plt.show()"
      ],
      "metadata": {
        "id": "jcCaGL6XR-iU",
        "outputId": "009c0fa4-6e21-4929-bfbf-f6ed023f93dc",
        "colab": {
          "base_uri": "https://localhost:8080/",
          "height": 449
        }
      },
      "execution_count": 15,
      "outputs": [
        {
          "output_type": "display_data",
          "data": {
            "text/plain": [
              "<Figure size 640x480 with 2 Axes>"
            ],
            "image/png": "[encoded data removed]"
          },
          "metadata": {}
        }
      ]
    },
    {
      "cell_type": "code",
      "source": [
        "#ROC curve AUC\n",
        "from sklearn.metrics import roc_auc_score, roc_curve\n",
        "#AUC\n",
        "roc_auc = roc_auc_score(y_test, y_pred_test)\n",
        "print(\"Test Set AUC:\", roc_auc)"
      ],
      "metadata": {
        "id": "isyTlHGQUK57",
        "outputId": "f4426a8d-b1a5-4b73-a494-a74470200061",
        "colab": {
          "base_uri": "https://localhost:8080/"
        }
      },
      "execution_count": 20,
      "outputs": [
        {
          "output_type": "stream",
          "name": "stdout",
          "text": [
            "Test Set AUC: 0.6336193016000806\n"
          ]
        }
      ]
    }
  ]
}