{
  "nbformat": 4,
  "nbformat_minor": 0,
  "metadata": {
    "colab": {
      "provenance": [],
      "authorship_tag": "ABX9TyMnQyEV0dBPSpLNv77Qv20+",
      "include_colab_link": true
    },
    "kernelspec": {
      "name": "python3",
      "display_name": "Python 3"
    },
    "language_info": {
      "name": "python"
    }
  },
  "cells": [
    {
      "cell_type": "markdown",
      "metadata": {
        "id": "view-in-github",
        "colab_type": "text"
      },
      "source": [
        "<a href=\"https://colab.research.google.com/github/lilyzhizhou/datathon-3/blob/main/Logistic_Regression_Model_.ipynb\" target=\"_parent\"><img src=\"https://colab.research.google.com/assets/colab-badge.svg\" alt=\"Open In Colab\"/></a>"
      ]
    },
    {
      "cell_type": "code",
      "execution_count": 8,
      "metadata": {
        "id": "rSfC3U6OmXU0"
      },
      "outputs": [],
      "source": [
        "# Import libraries\n",
        "import pandas as pd\n",
        "pd.set_option('display.max_columns', None)\n",
        "import numpy as np\n",
        "import plotly.express as px\n",
        "import io\n",
        "import matplotlib.pyplot as plt\n",
        "from sklearn.model_selection import train_test_split, KFold, cross_val_score\n",
        "from sklearn.model_selection import GridSearchCV\n",
        "from sklearn.linear_model import LogisticRegression\n",
        "from sklearn.feature_selection import RFECV\n",
        "from sklearn.impute import SimpleImputer\n",
        "from sklearn.preprocessing import StandardScaler\n",
        "from sklearn.preprocessing import LabelEncoder\n",
        "from sklearn.preprocessing import OneHotEncoder\n",
        "from sklearn.naive_bayes import CategoricalNB, GaussianNB, MultinomialNB\n",
        "from sklearn.discriminant_analysis import LinearDiscriminantAnalysis, QuadraticDiscriminantAnalysis\n",
        "from sklearn.metrics import confusion_matrix, classification_report, roc_auc_score, roc_curve\n",
        "from sklearn.metrics import RocCurveDisplay, auc, accuracy_score, precision_score, recall_score, f1_score\n",
        "import seaborn as sns\n",
        "import statsmodels.api as sm\n",
        "import warnings\n",
        "\n",
        "warnings.filterwarnings('ignore')"
      ]
    },
    {
      "cell_type": "code",
      "source": [
        "from google.colab import drive\n",
        "drive.mount('/content/drive')"
      ],
      "metadata": {
        "colab": {
          "base_uri": "https://localhost:8080/"
        },
        "id": "SzAkEPXUmc-s",
        "outputId": "3e7ed764-1cec-4a6c-e7fb-0493253ee351"
      },
      "execution_count": 9,
      "outputs": [
        {
          "output_type": "stream",
          "name": "stdout",
          "text": [
            "Drive already mounted at /content/drive; to attempt to forcibly remount, call drive.mount(\"/content/drive\", force_remount=True).\n"
          ]
        }
      ]
    },
    {
      "cell_type": "code",
      "source": [
        "# Import Pre-Diabetes Data\n",
        "datapd = pd.read_csv('/content/drive/MyDrive/Machine Learning /Datathon #3/datapd.csv')\n",
        "\n",
        "# Drop Patient_ID\n",
        "datapd.drop('Patient_ID', axis = 1, inplace = True)\n",
        "datapd.drop('Unnamed: 0', axis = 1, inplace = True)\n",
        "\n",
        "print(datapd.shape)\n",
        "datapd.head()"
      ],
      "metadata": {
        "colab": {
          "base_uri": "https://localhost:8080/",
          "height": 224
        },
        "id": "v5cpikD0mfvQ",
        "outputId": "1b4baafb-ac31-47a3-a603-dd450a00caff"
      },
      "execution_count": 10,
      "outputs": [
        {
          "output_type": "stream",
          "name": "stdout",
          "text": [
            "(6414, 11)\n"
          ]
        },
        {
          "output_type": "execute_result",
          "data": {
            "text/plain": [
              "   predm  Age_at_Exam   BMI  Total_Cholesterol  Depression  HTN  OA  COPD  \\\n",
              "0      1           63  30.9                NaN           0    1   0     1   \n",
              "1      1           66  23.6               3.54           1    1   1     0   \n",
              "2      0           68  34.3               5.55           1    1   1     0   \n",
              "3      1           73  28.5               3.78           1    1   0     1   \n",
              "4      0           53  33.4               5.38           0    1   1     0   \n",
              "\n",
              "   corstrd_bin  htnmed_bin  Sex  \n",
              "0            0           1    1  \n",
              "1            0           1    1  \n",
              "2            0           1    0  \n",
              "3            1           1    0  \n",
              "4            1           1    0  "
            ],
            "text/html": [
              "\n",
              "  <div id=\"df-74638141-e9df-48a2-84fd-fcad78647405\" class=\"colab-df-container\">\n",
              "    <div>\n",
              "<style scoped>\n",
              "    .dataframe tbody tr th:only-of-type {\n",
              "        vertical-align: middle;\n",
              "    }\n",
              "\n",
              "    .dataframe tbody tr th {\n",
              "        vertical-align: top;\n",
              "    }\n",
              "\n",
              "    .dataframe thead th {\n",
              "        text-align: right;\n",
              "    }\n",
              "</style>\n",
              "<table border=\"1\" class=\"dataframe\">\n",
              "  <thead>\n",
              "    <tr style=\"text-align: right;\">\n",
              "      <th></th>\n",
              "      <th>predm</th>\n",
              "      <th>Age_at_Exam</th>\n",
              "      <th>BMI</th>\n",
              "      <th>Total_Cholesterol</th>\n",
              "      <th>Depression</th>\n",
              "      <th>HTN</th>\n",
              "      <th>OA</th>\n",
              "      <th>COPD</th>\n",
              "      <th>corstrd_bin</th>\n",
              "      <th>htnmed_bin</th>\n",
              "      <th>Sex</th>\n",
              "    </tr>\n",
              "  </thead>\n",
              "  <tbody>\n",
              "    <tr>\n",
              "      <th>0</th>\n",
              "      <td>1</td>\n",
              "      <td>63</td>\n",
              "      <td>30.9</td>\n",
              "      <td>NaN</td>\n",
              "      <td>0</td>\n",
              "      <td>1</td>\n",
              "      <td>0</td>\n",
              "      <td>1</td>\n",
              "      <td>0</td>\n",
              "      <td>1</td>\n",
              "      <td>1</td>\n",
              "    </tr>\n",
              "    <tr>\n",
              "      <th>1</th>\n",
              "      <td>1</td>\n",
              "      <td>66</td>\n",
              "      <td>23.6</td>\n",
              "      <td>3.54</td>\n",
              "      <td>1</td>\n",
              "      <td>1</td>\n",
              "      <td>1</td>\n",
              "      <td>0</td>\n",
              "      <td>0</td>\n",
              "      <td>1</td>\n",
              "      <td>1</td>\n",
              "    </tr>\n",
              "    <tr>\n",
              "      <th>2</th>\n",
              "      <td>0</td>\n",
              "      <td>68</td>\n",
              "      <td>34.3</td>\n",
              "      <td>5.55</td>\n",
              "      <td>1</td>\n",
              "      <td>1</td>\n",
              "      <td>1</td>\n",
              "      <td>0</td>\n",
              "      <td>0</td>\n",
              "      <td>1</td>\n",
              "      <td>0</td>\n",
              "    </tr>\n",
              "    <tr>\n",
              "      <th>3</th>\n",
              "      <td>1</td>\n",
              "      <td>73</td>\n",
              "      <td>28.5</td>\n",
              "      <td>3.78</td>\n",
              "      <td>1</td>\n",
              "      <td>1</td>\n",
              "      <td>0</td>\n",
              "      <td>1</td>\n",
              "      <td>1</td>\n",
              "      <td>1</td>\n",
              "      <td>0</td>\n",
              "    </tr>\n",
              "    <tr>\n",
              "      <th>4</th>\n",
              "      <td>0</td>\n",
              "      <td>53</td>\n",
              "      <td>33.4</td>\n",
              "      <td>5.38</td>\n",
              "      <td>0</td>\n",
              "      <td>1</td>\n",
              "      <td>1</td>\n",
              "      <td>0</td>\n",
              "      <td>1</td>\n",
              "      <td>1</td>\n",
              "      <td>0</td>\n",
              "    </tr>\n",
              "  </tbody>\n",
              "</table>\n",
              "</div>\n",
              "    <div class=\"colab-df-buttons\">\n",
              "\n",
              "  <div class=\"colab-df-container\">\n",
              "    <button class=\"colab-df-convert\" onclick=\"convertToInteractive('df-74638141-e9df-48a2-84fd-fcad78647405')\"\n",
              "            title=\"Convert this dataframe to an interactive table.\"\n",
              "            style=\"display:none;\">\n",
              "\n",
              "  <svg xmlns=\"http://www.w3.org/2000/svg\" height=\"24px\" viewBox=\"0 -960 960 960\">\n",
              "    <path d=\"M120-120v-720h720v720H120Zm60-500h600v-160H180v160Zm220 220h160v-160H400v160Zm0 220h160v-160H400v160ZM180-400h160v-160H180v160Zm440 0h160v-160H620v160ZM180-180h160v-160H180v160Zm440 0h160v-160H620v160Z\"/>\n",
              "  </svg>\n",
              "    </button>\n",
              "\n",
              "  <style>\n",
              "    .colab-df-container {\n",
              "      display:flex;\n",
              "      gap: 12px;\n",
              "    }\n",
              "\n",
              "    .colab-df-convert {\n",
              "      background-color: #E8F0FE;\n",
              "      border: none;\n",
              "      border-radius: 50%;\n",
              "      cursor: pointer;\n",
              "      display: none;\n",
              "      fill: #1967D2;\n",
              "      height: 32px;\n",
              "      padding: 0 0 0 0;\n",
              "      width: 32px;\n",
              "    }\n",
              "\n",
              "    .colab-df-convert:hover {\n",
              "      background-color: #E2EBFA;\n",
              "      box-shadow: 0px 1px 2px rgba(60, 64, 67, 0.3), 0px 1px 3px 1px rgba(60, 64, 67, 0.15);\n",
              "      fill: #174EA6;\n",
              "    }\n",
              "\n",
              "    .colab-df-buttons div {\n",
              "      margin-bottom: 4px;\n",
              "    }\n",
              "\n",
              "    [theme=dark] .colab-df-convert {\n",
              "      background-color: #3B4455;\n",
              "      fill: #D2E3FC;\n",
              "    }\n",
              "\n",
              "    [theme=dark] .colab-df-convert:hover {\n",
              "      background-color: #434B5C;\n",
              "      box-shadow: 0px 1px 3px 1px rgba(0, 0, 0, 0.15);\n",
              "      filter: drop-shadow(0px 1px 2px rgba(0, 0, 0, 0.3));\n",
              "      fill: #FFFFFF;\n",
              "    }\n",
              "  </style>\n",
              "\n",
              "    <script>\n",
              "      const buttonEl =\n",
              "        document.querySelector('#df-74638141-e9df-48a2-84fd-fcad78647405 button.colab-df-convert');\n",
              "      buttonEl.style.display =\n",
              "        google.colab.kernel.accessAllowed ? 'block' : 'none';\n",
              "\n",
              "      async function convertToInteractive(key) {\n",
              "        const element = document.querySelector('#df-74638141-e9df-48a2-84fd-fcad78647405');\n",
              "        const dataTable =\n",
              "          await google.colab.kernel.invokeFunction('convertToInteractive',\n",
              "                                                    [key], {});\n",
              "        if (!dataTable) return;\n",
              "\n",
              "        const docLinkHtml = 'Like what you see? Visit the ' +\n",
              "          '<a target=\"_blank\" href=https://colab.research.google.com/notebooks/data_table.ipynb>data table notebook</a>'\n",
              "          + ' to learn more about interactive tables.';\n",
              "        element.innerHTML = '';\n",
              "        dataTable['output_type'] = 'display_data';\n",
              "        await google.colab.output.renderOutput(dataTable, element);\n",
              "        const docLink = document.createElement('div');\n",
              "        docLink.innerHTML = docLinkHtml;\n",
              "        element.appendChild(docLink);\n",
              "      }\n",
              "    </script>\n",
              "  </div>\n",
              "\n",
              "\n",
              "<div id=\"df-fa6486c4-0c0d-4682-a99a-88db4cbdfe43\">\n",
              "  <button class=\"colab-df-quickchart\" onclick=\"quickchart('df-fa6486c4-0c0d-4682-a99a-88db4cbdfe43')\"\n",
              "            title=\"Suggest charts.\"\n",
              "            style=\"display:none;\">\n",
              "\n",
              "<svg xmlns=\"http://www.w3.org/2000/svg\" height=\"24px\"viewBox=\"0 0 24 24\"\n",
              "     width=\"24px\">\n",
              "    <g>\n",
              "        <path d=\"M19 3H5c-1.1 0-2 .9-2 2v14c0 1.1.9 2 2 2h14c1.1 0 2-.9 2-2V5c0-1.1-.9-2-2-2zM9 17H7v-7h2v7zm4 0h-2V7h2v10zm4 0h-2v-4h2v4z\"/>\n",
              "    </g>\n",
              "</svg>\n",
              "  </button>\n",
              "\n",
              "<style>\n",
              "  .colab-df-quickchart {\n",
              "      --bg-color: #E8F0FE;\n",
              "      --fill-color: #1967D2;\n",
              "      --hover-bg-color: #E2EBFA;\n",
              "      --hover-fill-color: #174EA6;\n",
              "      --disabled-fill-color: #AAA;\n",
              "      --disabled-bg-color: #DDD;\n",
              "  }\n",
              "\n",
              "  [theme=dark] .colab-df-quickchart {\n",
              "      --bg-color: #3B4455;\n",
              "      --fill-color: #D2E3FC;\n",
              "      --hover-bg-color: #434B5C;\n",
              "      --hover-fill-color: #FFFFFF;\n",
              "      --disabled-bg-color: #3B4455;\n",
              "      --disabled-fill-color: #666;\n",
              "  }\n",
              "\n",
              "  .colab-df-quickchart {\n",
              "    background-color: var(--bg-color);\n",
              "    border: none;\n",
              "    border-radius: 50%;\n",
              "    cursor: pointer;\n",
              "    display: none;\n",
              "    fill: var(--fill-color);\n",
              "    height: 32px;\n",
              "    padding: 0;\n",
              "    width: 32px;\n",
              "  }\n",
              "\n",
              "  .colab-df-quickchart:hover {\n",
              "    background-color: var(--hover-bg-color);\n",
              "    box-shadow: 0 1px 2px rgba(60, 64, 67, 0.3), 0 1px 3px 1px rgba(60, 64, 67, 0.15);\n",
              "    fill: var(--button-hover-fill-color);\n",
              "  }\n",
              "\n",
              "  .colab-df-quickchart-complete:disabled,\n",
              "  .colab-df-quickchart-complete:disabled:hover {\n",
              "    background-color: var(--disabled-bg-color);\n",
              "    fill: var(--disabled-fill-color);\n",
              "    box-shadow: none;\n",
              "  }\n",
              "\n",
              "  .colab-df-spinner {\n",
              "    border: 2px solid var(--fill-color);\n",
              "    border-color: transparent;\n",
              "    border-bottom-color: var(--fill-color);\n",
              "    animation:\n",
              "      spin 1s steps(1) infinite;\n",
              "  }\n",
              "\n",
              "  @keyframes spin {\n",
              "    0% {\n",
              "      border-color: transparent;\n",
              "      border-bottom-color: var(--fill-color);\n",
              "      border-left-color: var(--fill-color);\n",
              "    }\n",
              "    20% {\n",
              "      border-color: transparent;\n",
              "      border-left-color: var(--fill-color);\n",
              "      border-top-color: var(--fill-color);\n",
              "    }\n",
              "    30% {\n",
              "      border-color: transparent;\n",
              "      border-left-color: var(--fill-color);\n",
              "      border-top-color: var(--fill-color);\n",
              "      border-right-color: var(--fill-color);\n",
              "    }\n",
              "    40% {\n",
              "      border-color: transparent;\n",
              "      border-right-color: var(--fill-color);\n",
              "      border-top-color: var(--fill-color);\n",
              "    }\n",
              "    60% {\n",
              "      border-color: transparent;\n",
              "      border-right-color: var(--fill-color);\n",
              "    }\n",
              "    80% {\n",
              "      border-color: transparent;\n",
              "      border-right-color: var(--fill-color);\n",
              "      border-bottom-color: var(--fill-color);\n",
              "    }\n",
              "    90% {\n",
              "      border-color: transparent;\n",
              "      border-bottom-color: var(--fill-color);\n",
              "    }\n",
              "  }\n",
              "</style>\n",
              "\n",
              "  <script>\n",
              "    async function quickchart(key) {\n",
              "      const quickchartButtonEl =\n",
              "        document.querySelector('#' + key + ' button');\n",
              "      quickchartButtonEl.disabled = true;  // To prevent multiple clicks.\n",
              "      quickchartButtonEl.classList.add('colab-df-spinner');\n",
              "      try {\n",
              "        const charts = await google.colab.kernel.invokeFunction(\n",
              "            'suggestCharts', [key], {});\n",
              "      } catch (error) {\n",
              "        console.error('Error during call to suggestCharts:', error);\n",
              "      }\n",
              "      quickchartButtonEl.classList.remove('colab-df-spinner');\n",
              "      quickchartButtonEl.classList.add('colab-df-quickchart-complete');\n",
              "    }\n",
              "    (() => {\n",
              "      let quickchartButtonEl =\n",
              "        document.querySelector('#df-fa6486c4-0c0d-4682-a99a-88db4cbdfe43 button');\n",
              "      quickchartButtonEl.style.display =\n",
              "        google.colab.kernel.accessAllowed ? 'block' : 'none';\n",
              "    })();\n",
              "  </script>\n",
              "</div>\n",
              "    </div>\n",
              "  </div>\n"
            ]
          },
          "metadata": {},
          "execution_count": 10
        }
      ]
    },
    {
      "cell_type": "code",
      "source": [
        "# Look for NA values\n",
        "print(datapd.isnull().sum())"
      ],
      "metadata": {
        "colab": {
          "base_uri": "https://localhost:8080/"
        },
        "id": "ckL3zcMEoNSg",
        "outputId": "022ca0dc-d769-4243-b83e-3747b3ad8dab"
      },
      "execution_count": null,
      "outputs": [
        {
          "output_type": "stream",
          "name": "stdout",
          "text": [
            "predm                  0\n",
            "Age_at_Exam            0\n",
            "BMI                    0\n",
            "Total_Cholesterol    152\n",
            "Depression             0\n",
            "HTN                    0\n",
            "OA                     0\n",
            "COPD                   0\n",
            "corstrd_bin            0\n",
            "htnmed_bin             0\n",
            "Sex                    0\n",
            "dtype: int64\n"
          ]
        }
      ]
    },
    {
      "cell_type": "markdown",
      "source": [
        "Determining Optimal Model parameters\n",
        "\n",
        "---\n",
        "\n"
      ],
      "metadata": {
        "id": "M-CH2K2O6IAv"
      }
    },
    {
      "cell_type": "code",
      "source": [
        "# 1. Split the data into features and target variable\n",
        "X = datapd.drop('predm', axis=1)\n",
        "y = datapd['predm']\n",
        "\n",
        "# 2. Split the data into training and testing sets\n",
        "X_train, X_test, y_train, y_test = train_test_split(X, y, test_size=0.25, random_state=42)\n",
        "\n",
        "# 3. Imputation of missing values\n",
        "imputer = SimpleImputer(strategy='median')\n",
        "X_train = imputer.fit_transform(X_train)\n",
        "X_test = imputer.fit_transform(X_test)\n",
        "# Selected median bc it works well with skewed continuous data and is less sensitive to outliers and overfitting\n",
        "\n",
        "# 4. Normalization of the data\n",
        "scaler = StandardScaler()\n",
        "X_train = scaler.fit_transform(X_train)\n",
        "X_test = scaler.fit_transform(X_test)\n",
        "\n",
        "# 5. Initialize a Logistic Regression model\n",
        "model = LogisticRegression()\n",
        "\n",
        "# Define a KFold cross-validation\n",
        "cv = KFold(10)\n",
        "\n",
        "# Initialize Recursive Feature Elimination with Cross-Validation (RFECV)\n",
        "rfecv = RFECV(\n",
        "    estimator=model,\n",
        "    step=1,\n",
        "    cv=cv,\n",
        "    scoring='roc_auc',  # Specify the scoring metric (ROC AUC in this case)\n",
        "    min_features_to_select=1,\n",
        ")\n",
        "rfecv.fit(X_train, y_train)\n",
        "\n",
        "# Print the optimal number of selected features\n",
        "print(f\"Optimal number of features: {rfecv.n_features_}\")"
      ],
      "metadata": {
        "colab": {
          "base_uri": "https://localhost:8080/"
        },
        "id": "S8Xr2KNU6PBs",
        "outputId": "70ebb889-13d5-44d7-fa07-30479b633236"
      },
      "execution_count": 12,
      "outputs": [
        {
          "output_type": "stream",
          "name": "stdout",
          "text": [
            "Optimal number of features: 7\n"
          ]
        }
      ]
    },
    {
      "cell_type": "markdown",
      "source": [
        "- the optimal number of features to include is 7\n",
        "- we currently have 10 predictors"
      ],
      "metadata": {
        "id": "RiWlcisZ8oSU"
      }
    },
    {
      "cell_type": "code",
      "source": [
        "# which columns used and which wasn't\n",
        "rfecv.support_"
      ],
      "metadata": {
        "colab": {
          "base_uri": "https://localhost:8080/"
        },
        "id": "C_qO7e6E8xWw",
        "outputId": "574f935e-20b2-457e-bcd7-df0d5153a768"
      },
      "execution_count": 15,
      "outputs": [
        {
          "output_type": "execute_result",
          "data": {
            "text/plain": [
              "array([ True,  True,  True, False,  True, False,  True, False,  True,\n",
              "        True])"
            ]
          },
          "metadata": {},
          "execution_count": 15
        }
      ]
    },
    {
      "cell_type": "code",
      "source": [
        "# features ranking low is better\n",
        "rfecv.ranking_"
      ],
      "metadata": {
        "colab": {
          "base_uri": "https://localhost:8080/"
        },
        "id": "_11v62Ja801V",
        "outputId": "f1d4c119-04ba-470b-bb7c-f8cc0511ba8d"
      },
      "execution_count": 16,
      "outputs": [
        {
          "output_type": "execute_result",
          "data": {
            "text/plain": [
              "array([1, 1, 1, 3, 1, 2, 1, 4, 1, 1])"
            ]
          },
          "metadata": {},
          "execution_count": 16
        }
      ]
    },
    {
      "cell_type": "markdown",
      "source": [
        "Using Gridsearch to determine hyperparameters for logistic regression\n",
        "\n",
        "---\n",
        "\n"
      ],
      "metadata": {
        "id": "xrlREkGfAIub"
      }
    },
    {
      "cell_type": "code",
      "source": [
        "import numpy as np\n",
        "from sklearn import linear_model, decomposition, datasets\n",
        "from sklearn.pipeline import Pipeline\n",
        "from sklearn.model_selection import GridSearchCV\n",
        "from sklearn.preprocessing import StandardScaler\n",
        "\n",
        "# 1. Select only the features that were chosen by RFECV\n",
        "X_train = X_train[:, rfecv.support_]\n",
        "X_test = X_test[:, rfecv.support_]\n",
        "\n",
        "# 3. Use pipeline for gridsearchCV\n",
        "std_slc = StandardScaler()\n",
        "pca = decomposition.PCA()\n",
        "logistic_Reg = linear_model.LogisticRegression()\n",
        "\n",
        "pipe = Pipeline(steps=[('std_slc', std_slc),\n",
        " ('pca', pca),\n",
        "  ('logistic_Reg', logistic_Reg)])\n",
        "\n",
        "C = np.logspace(-4, 4, 50)\n",
        "penalty = ['l1', 'l2','none']\n",
        "\n",
        "parameters = dict(logistic_Reg__C=C,\n",
        "                  logistic_Reg__penalty=penalty)\n",
        "\n",
        "# 4. Run gridsearch\n",
        "clf_GS = GridSearchCV(pipe, parameters, cv = cv)\n",
        "\n",
        "clf_GS.fit(X_train, y_train)\n",
        "\n",
        "# Extracting the results of the Grid Search into a DataFrame for analysis.\n",
        "results = pd.DataFrame(clf_GS.cv_results_)\n",
        "\n",
        "# Filtering to get the rows with the best performing hyperparameters.\n",
        "print(results[results['rank_test_score'] == 1])"
      ],
      "metadata": {
        "id": "GwKCyh1LAPNh",
        "outputId": "64880bde-1e4a-4b09-903d-0da63d7bfe9e",
        "colab": {
          "base_uri": "https://localhost:8080/"
        }
      },
      "execution_count": 17,
      "outputs": [
        {
          "output_type": "stream",
          "name": "stdout",
          "text": [
            "     mean_fit_time  std_fit_time  mean_score_time  std_score_time  \\\n",
            "2         0.052332      0.002676         0.002546        0.001390   \n",
            "5         0.055856      0.010427         0.002944        0.002813   \n",
            "8         0.013617      0.000533         0.001910        0.000151   \n",
            "11        0.028582      0.004741         0.002266        0.000975   \n",
            "14        0.024728      0.008699         0.002028        0.000197   \n",
            "..             ...           ...              ...             ...   \n",
            "143       0.031006      0.003643         0.002828        0.001476   \n",
            "145       0.022766      0.008635         0.003023        0.002008   \n",
            "146       0.029304      0.004144         0.002347        0.001430   \n",
            "148       0.015647      0.005550         0.002416        0.001644   \n",
            "149       0.020943      0.007822         0.001876        0.000120   \n",
            "\n",
            "    param_logistic_Reg__C param_logistic_Reg__penalty  \\\n",
            "2                  0.0001                        none   \n",
            "5                0.000146                        none   \n",
            "8                0.000212                        none   \n",
            "11               0.000309                        none   \n",
            "14                0.00045                        none   \n",
            "..                    ...                         ...   \n",
            "143           4714.866363                        none   \n",
            "145            6866.48845                          l2   \n",
            "146            6866.48845                        none   \n",
            "148               10000.0                          l2   \n",
            "149               10000.0                        none   \n",
            "\n",
            "                                                params  split0_test_score  \\\n",
            "2    {'logistic_Reg__C': 0.0001, 'logistic_Reg__pen...           0.669439   \n",
            "5    {'logistic_Reg__C': 0.00014563484775012445, 'l...           0.669439   \n",
            "8    {'logistic_Reg__C': 0.00021209508879201905, 'l...           0.669439   \n",
            "11   {'logistic_Reg__C': 0.00030888435964774815, 'l...           0.669439   \n",
            "14   {'logistic_Reg__C': 0.0004498432668969444, 'lo...           0.669439   \n",
            "..                                                 ...                ...   \n",
            "143  {'logistic_Reg__C': 4714.8663634573895, 'logis...           0.669439   \n",
            "145  {'logistic_Reg__C': 6866.488450042998, 'logist...           0.669439   \n",
            "146  {'logistic_Reg__C': 6866.488450042998, 'logist...           0.669439   \n",
            "148  {'logistic_Reg__C': 10000.0, 'logistic_Reg__pe...           0.669439   \n",
            "149  {'logistic_Reg__C': 10000.0, 'logistic_Reg__pe...           0.669439   \n",
            "\n",
            "     split1_test_score  split2_test_score  split3_test_score  \\\n",
            "2             0.636175           0.661123           0.632017   \n",
            "5             0.636175           0.661123           0.632017   \n",
            "8             0.636175           0.661123           0.632017   \n",
            "11            0.636175           0.661123           0.632017   \n",
            "14            0.636175           0.661123           0.632017   \n",
            "..                 ...                ...                ...   \n",
            "143           0.636175           0.661123           0.632017   \n",
            "145           0.636175           0.661123           0.632017   \n",
            "146           0.636175           0.661123           0.632017   \n",
            "148           0.636175           0.661123           0.632017   \n",
            "149           0.636175           0.661123           0.632017   \n",
            "\n",
            "     split4_test_score  split5_test_score  split6_test_score  \\\n",
            "2             0.629938           0.669439            0.62578   \n",
            "5             0.629938           0.669439            0.62578   \n",
            "8             0.629938           0.669439            0.62578   \n",
            "11            0.629938           0.669439            0.62578   \n",
            "14            0.629938           0.669439            0.62578   \n",
            "..                 ...                ...                ...   \n",
            "143           0.629938           0.669439            0.62578   \n",
            "145           0.629938           0.669439            0.62578   \n",
            "146           0.629938           0.669439            0.62578   \n",
            "148           0.629938           0.669439            0.62578   \n",
            "149           0.629938           0.669439            0.62578   \n",
            "\n",
            "     split7_test_score  split8_test_score  split9_test_score  mean_test_score  \\\n",
            "2             0.600832           0.621622           0.615385         0.636175   \n",
            "5             0.600832           0.621622           0.615385         0.636175   \n",
            "8             0.600832           0.621622           0.615385         0.636175   \n",
            "11            0.600832           0.621622           0.615385         0.636175   \n",
            "14            0.600832           0.621622           0.615385         0.636175   \n",
            "..                 ...                ...                ...              ...   \n",
            "143           0.600832           0.621622           0.615385         0.636175   \n",
            "145           0.600832           0.621622           0.615385         0.636175   \n",
            "146           0.600832           0.621622           0.615385         0.636175   \n",
            "148           0.600832           0.621622           0.615385         0.636175   \n",
            "149           0.600832           0.621622           0.615385         0.636175   \n",
            "\n",
            "     std_test_score  rank_test_score  \n",
            "2           0.02212                1  \n",
            "5           0.02212                1  \n",
            "8           0.02212                1  \n",
            "11          0.02212                1  \n",
            "14          0.02212                1  \n",
            "..              ...              ...  \n",
            "143         0.02212                1  \n",
            "145         0.02212                1  \n",
            "146         0.02212                1  \n",
            "148         0.02212                1  \n",
            "149         0.02212                1  \n",
            "\n",
            "[72 rows x 20 columns]\n"
          ]
        }
      ]
    },
    {
      "cell_type": "code",
      "source": [
        "print('Best Penalty:', clf_GS.best_estimator_.get_params()['logistic_Reg__penalty'])\n",
        "print('Best C:', clf_GS.best_estimator_.get_params()['logistic_Reg__C'])"
      ],
      "metadata": {
        "id": "z0Au8cpFGCy2",
        "outputId": "c9e21af6-59e2-4d54-b1cd-5a7c7425d2d0",
        "colab": {
          "base_uri": "https://localhost:8080/"
        }
      },
      "execution_count": null,
      "outputs": [
        {
          "output_type": "stream",
          "name": "stdout",
          "text": [
            "Best Penalty: none\n",
            "Best C: 0.0001\n"
          ]
        }
      ]
    },
    {
      "cell_type": "markdown",
      "source": [
        "- will use these parameters for final model"
      ],
      "metadata": {
        "id": "3Kbd0wlgC9cV"
      }
    },
    {
      "cell_type": "markdown",
      "source": [
        "Final Model Building\n",
        "\n",
        "---\n",
        "\n"
      ],
      "metadata": {
        "id": "dU37h4u0ymqy"
      }
    },
    {
      "cell_type": "code",
      "source": [
        "# 1. Training logistic regression model\n",
        "log_reg = LogisticRegression(penalty= 'none', C=0.0001, solver='lbfgs')\n",
        "log_reg.fit(X_train, y_train)\n",
        "\n",
        "# L2 regularization used as it will spread coefficient values more evenly across all predictors\n",
        "# lbfgs used as for it's robustness"
      ],
      "metadata": {
        "id": "87UZkQMaydSN",
        "outputId": "d89e0fa3-b69f-4df6-f792-5bf391ee8632",
        "colab": {
          "base_uri": "https://localhost:8080/",
          "height": 75
        }
      },
      "execution_count": 18,
      "outputs": [
        {
          "output_type": "execute_result",
          "data": {
            "text/plain": [
              "LogisticRegression(C=0.0001, penalty='none')"
            ],
            "text/html": [
              "<style>#sk-container-id-1 {color: black;background-color: white;}#sk-container-id-1 pre{padding: 0;}#sk-container-id-1 div.sk-toggleable {background-color: white;}#sk-container-id-1 label.sk-toggleable__label {cursor: pointer;display: block;width: 100%;margin-bottom: 0;padding: 0.3em;box-sizing: border-box;text-align: center;}#sk-container-id-1 label.sk-toggleable__label-arrow:before {content: \"▸\";float: left;margin-right: 0.25em;color: #696969;}#sk-container-id-1 label.sk-toggleable__label-arrow:hover:before {color: black;}#sk-container-id-1 div.sk-estimator:hover label.sk-toggleable__label-arrow:before {color: black;}#sk-container-id-1 div.sk-toggleable__content {max-height: 0;max-width: 0;overflow: hidden;text-align: left;background-color: #f0f8ff;}#sk-container-id-1 div.sk-toggleable__content pre {margin: 0.2em;color: black;border-radius: 0.25em;background-color: #f0f8ff;}#sk-container-id-1 input.sk-toggleable__control:checked~div.sk-toggleable__content {max-height: 200px;max-width: 100%;overflow: auto;}#sk-container-id-1 input.sk-toggleable__control:checked~label.sk-toggleable__label-arrow:before {content: \"▾\";}#sk-container-id-1 div.sk-estimator input.sk-toggleable__control:checked~label.sk-toggleable__label {background-color: #d4ebff;}#sk-container-id-1 div.sk-label input.sk-toggleable__control:checked~label.sk-toggleable__label {background-color: #d4ebff;}#sk-container-id-1 input.sk-hidden--visually {border: 0;clip: rect(1px 1px 1px 1px);clip: rect(1px, 1px, 1px, 1px);height: 1px;margin: -1px;overflow: hidden;padding: 0;position: absolute;width: 1px;}#sk-container-id-1 div.sk-estimator {font-family: monospace;background-color: #f0f8ff;border: 1px dotted black;border-radius: 0.25em;box-sizing: border-box;margin-bottom: 0.5em;}#sk-container-id-1 div.sk-estimator:hover {background-color: #d4ebff;}#sk-container-id-1 div.sk-parallel-item::after {content: \"\";width: 100%;border-bottom: 1px solid gray;flex-grow: 1;}#sk-container-id-1 div.sk-label:hover label.sk-toggleable__label {background-color: #d4ebff;}#sk-container-id-1 div.sk-serial::before {content: \"\";position: absolute;border-left: 1px solid gray;box-sizing: border-box;top: 0;bottom: 0;left: 50%;z-index: 0;}#sk-container-id-1 div.sk-serial {display: flex;flex-direction: column;align-items: center;background-color: white;padding-right: 0.2em;padding-left: 0.2em;position: relative;}#sk-container-id-1 div.sk-item {position: relative;z-index: 1;}#sk-container-id-1 div.sk-parallel {display: flex;align-items: stretch;justify-content: center;background-color: white;position: relative;}#sk-container-id-1 div.sk-item::before, #sk-container-id-1 div.sk-parallel-item::before {content: \"\";position: absolute;border-left: 1px solid gray;box-sizing: border-box;top: 0;bottom: 0;left: 50%;z-index: -1;}#sk-container-id-1 div.sk-parallel-item {display: flex;flex-direction: column;z-index: 1;position: relative;background-color: white;}#sk-container-id-1 div.sk-parallel-item:first-child::after {align-self: flex-end;width: 50%;}#sk-container-id-1 div.sk-parallel-item:last-child::after {align-self: flex-start;width: 50%;}#sk-container-id-1 div.sk-parallel-item:only-child::after {width: 0;}#sk-container-id-1 div.sk-dashed-wrapped {border: 1px dashed gray;margin: 0 0.4em 0.5em 0.4em;box-sizing: border-box;padding-bottom: 0.4em;background-color: white;}#sk-container-id-1 div.sk-label label {font-family: monospace;font-weight: bold;display: inline-block;line-height: 1.2em;}#sk-container-id-1 div.sk-label-container {text-align: center;}#sk-container-id-1 div.sk-container {/* jupyter's `normalize.less` sets `[hidden] { display: none; }` but bootstrap.min.css set `[hidden] { display: none !important; }` so we also need the `!important` here to be able to override the default hidden behavior on the sphinx rendered scikit-learn.org. See: https://github.com/scikit-learn/scikit-learn/issues/21755 */display: inline-block !important;position: relative;}#sk-container-id-1 div.sk-text-repr-fallback {display: none;}</style><div id=\"sk-container-id-1\" class=\"sk-top-container\"><div class=\"sk-text-repr-fallback\"><pre>LogisticRegression(C=0.0001, penalty=&#x27;none&#x27;)</pre><b>In a Jupyter environment, please rerun this cell to show the HTML representation or trust the notebook. <br />On GitHub, the HTML representation is unable to render, please try loading this page with nbviewer.org.</b></div><div class=\"sk-container\" hidden><div class=\"sk-item\"><div class=\"sk-estimator sk-toggleable\"><input class=\"sk-toggleable__control sk-hidden--visually\" id=\"sk-estimator-id-1\" type=\"checkbox\" checked><label for=\"sk-estimator-id-1\" class=\"sk-toggleable__label sk-toggleable__label-arrow\">LogisticRegression</label><div class=\"sk-toggleable__content\"><pre>LogisticRegression(C=0.0001, penalty=&#x27;none&#x27;)</pre></div></div></div></div></div>"
            ]
          },
          "metadata": {},
          "execution_count": 18
        }
      ]
    },
    {
      "cell_type": "code",
      "source": [
        "# Define a function to compute various scores for model evaluation\n",
        "def get_scores(Y_pred, Y):\n",
        "    # Calculate confusion matrix, classification report, ROC AUC, accuracy, recall, precision, fi\n",
        "    conf_matrix = confusion_matrix(Y_pred, Y)\n",
        "    auc = roc_auc_score(Y_pred, Y)\n",
        "    acc = accuracy_score(Y_pred, Y)\n",
        "    precision = precision_score(Y_pred, Y)\n",
        "    recall = recall_score(Y_pred, Y)\n",
        "    f1 = f1_score(Y_pred, Y)\n",
        "    class_report = classification_report(Y_pred, Y)\n",
        "\n",
        "    # Return the computed scores\n",
        "    return conf_matrix, auc, acc, precision, recall, f1, class_report\n",
        "\n",
        "# Define a function to print the computed scores\n",
        "def print_scores(conf_matrix, auc, acc, precision, recall, f1, class_report):\n",
        "    print(\"Confusion Matrix:\")\n",
        "    print(conf_matrix)\n",
        "    print('AUC : ', auc)\n",
        "    print('Accuracy : ', acc)\n",
        "    print(\"\\nPrecision:\")\n",
        "    print(precision)\n",
        "    print(\"\\nRecall:\")\n",
        "    print(recall)\n",
        "    print(\"\\nf1-score:\")\n",
        "    print(f1)\n",
        "    print(\"\\nClassification Report:\")\n",
        "    print(class_report)"
      ],
      "metadata": {
        "id": "ijFIjJMoT_t2"
      },
      "execution_count": 19,
      "outputs": []
    },
    {
      "cell_type": "code",
      "source": [
        "# 3.  Use the model to make predictions on the testing and training data\n",
        "y_pred_test = log_reg.predict(X_test)\n",
        "y_pred_train = log_reg.predict(X_train)\n",
        "\n",
        "# 4.  Evaluate the model\n",
        "conf_matrix_test, auc_test, acc_test, precision_test, recall_test, f1_test, class_report_test = get_scores(y_pred_test, y_test)\n",
        "conf_matrix_train, auc_train, acc_train, precision_train, recall_train, f1_train, class_report_train = get_scores(y_pred_train, y_train)\n",
        "\n",
        "# Print scores and evaluation metrics for the training set\n",
        "print('======== Training Set ==========')\n",
        "print_scores(conf_matrix_train, auc_train, acc_train, precision_train, recall_train, f1_train, class_report_train)\n",
        "\n",
        "# Print scores and evaluation metrics for the test set\n",
        "print('======== Test Set ==========')\n",
        "\n",
        "print_scores(conf_matrix_test, auc_test, acc_test, precision_test, recall_test, f1_test, class_report_test)"
      ],
      "metadata": {
        "id": "onjYibsNpQJD",
        "outputId": "ff3dced0-d151-4e65-b62d-5d05e83afc5d",
        "colab": {
          "base_uri": "https://localhost:8080/"
        }
      },
      "execution_count": 20,
      "outputs": [
        {
          "output_type": "stream",
          "name": "stdout",
          "text": [
            "======== Training Set ==========\n",
            "Confusion Matrix:\n",
            "[[2214 1109]\n",
            " [ 640  847]]\n",
            "AUC :  0.6179343253932517\n",
            "Accuracy :  0.6363825363825364\n",
            "\n",
            "Precision:\n",
            "0.4330265848670757\n",
            "\n",
            "Recall:\n",
            "0.5696032279757902\n",
            "\n",
            "f1-score:\n",
            "0.49201277955271566\n",
            "\n",
            "Classification Report:\n",
            "              precision    recall  f1-score   support\n",
            "\n",
            "           0       0.78      0.67      0.72      3323\n",
            "           1       0.43      0.57      0.49      1487\n",
            "\n",
            "    accuracy                           0.64      4810\n",
            "   macro avg       0.60      0.62      0.60      4810\n",
            "weighted avg       0.67      0.64      0.65      4810\n",
            "\n",
            "======== Test Set ==========\n",
            "Confusion Matrix:\n",
            "[[736 369]\n",
            " [208 291]]\n",
            "AUC :  0.6246148405408102\n",
            "Accuracy :  0.6402743142144638\n",
            "\n",
            "Precision:\n",
            "0.4409090909090909\n",
            "\n",
            "Recall:\n",
            "0.5831663326653307\n",
            "\n",
            "f1-score:\n",
            "0.5021570319240725\n",
            "\n",
            "Classification Report:\n",
            "              precision    recall  f1-score   support\n",
            "\n",
            "           0       0.78      0.67      0.72      1105\n",
            "           1       0.44      0.58      0.50       499\n",
            "\n",
            "    accuracy                           0.64      1604\n",
            "   macro avg       0.61      0.62      0.61      1604\n",
            "weighted avg       0.67      0.64      0.65      1604\n",
            "\n"
          ]
        }
      ]
    },
    {
      "cell_type": "markdown",
      "source": [
        "- since the goal is to identify pre-diabetics, we want the least false negatives\n",
        "- prioritize recall\n",
        "- recall for the the test model is 0.429 which is very low"
      ],
      "metadata": {
        "id": "PcSQeMqRk6Zs"
      }
    },
    {
      "cell_type": "code",
      "source": [
        "# Plot the ROC curve for the test set\n",
        "fpr, tpr, thresholds = roc_curve(y_pred_test, y_test)\n",
        "roc_auc = auc(fpr, tpr)\n",
        "display = RocCurveDisplay(fpr=fpr, tpr=tpr, roc_auc=roc_auc, estimator_name='Logistic Regression')\n",
        "display.plot()"
      ],
      "metadata": {
        "id": "x4GzUqJXWjE1",
        "outputId": "4e7ddbb4-0b74-42f9-fa0c-ee15cca4a9bc",
        "colab": {
          "base_uri": "https://localhost:8080/",
          "height": 467
        }
      },
      "execution_count": 21,
      "outputs": [
        {
          "output_type": "execute_result",
          "data": {
            "text/plain": [
              "<sklearn.metrics._plot.roc_curve.RocCurveDisplay at 0x7bbf7e5fb340>"
            ]
          },
          "metadata": {},
          "execution_count": 21
        },
        {
          "output_type": "display_data",
          "data": {
            "text/plain": [
              "<Figure size 640x480 with 1 Axes>"
            ],
            "image/png": "[encoded data removed]"
          },
          "metadata": {}
        }
      ]
    },
    {
      "cell_type": "code",
      "source": [
        "# Visualizing confusion matrix Test\n",
        "sns.heatmap(conf_matrix_test, annot=True, fmt='d')\n",
        "plt.ylabel('Actual')\n",
        "plt.xlabel('Predicted')\n",
        "plt.show()"
      ],
      "metadata": {
        "id": "WKMSmk9cpS71",
        "outputId": "7a1a5d44-d9f7-450a-c76d-c61b0fa92590",
        "colab": {
          "base_uri": "https://localhost:8080/",
          "height": 449
        }
      },
      "execution_count": 22,
      "outputs": [
        {
          "output_type": "display_data",
          "data": {
            "text/plain": [
              "<Figure size 640x480 with 2 Axes>"
            ],
            "image/png": "[encoded data removed]"
          },
          "metadata": {}
        }
      ]
    },
    {
      "cell_type": "code",
      "source": [
        "# Imputation of missing values\n",
        "datapd['Total_Cholesterol'].fillna(datapd['Total_Cholesterol'].median(), inplace = True)\n",
        "\n",
        "# Separate features and target variable\n",
        "X = datapd.drop('predm', axis=1)\n",
        "y = datapd['predm']\n",
        "\n",
        "# Add a constant term for the intercept\n",
        "X = sm.add_constant(X)\n",
        "\n",
        "# Create and fit logistic regression model\n",
        "log_reg = sm.Logit(y, X).fit()\n",
        "\n",
        "# Get summary report\n",
        "summary = log_reg.summary()\n",
        "print(summary)"
      ],
      "metadata": {
        "id": "CtVcmQxvpamR",
        "outputId": "0bb6080b-695c-489b-ec1d-a60da6cad398",
        "colab": {
          "base_uri": "https://localhost:8080/"
        }
      },
      "execution_count": 23,
      "outputs": [
        {
          "output_type": "stream",
          "name": "stdout",
          "text": [
            "Optimization terminated successfully.\n",
            "         Current function value: 0.624183\n",
            "         Iterations 5\n",
            "                           Logit Regression Results                           \n",
            "==============================================================================\n",
            "Dep. Variable:                  predm   No. Observations:                 6414\n",
            "Model:                          Logit   Df Residuals:                     6403\n",
            "Method:                           MLE   Df Model:                           10\n",
            "Date:                Mon, 30 Oct 2023   Pseudo R-squ.:                 0.07675\n",
            "Time:                        22:43:10   Log-Likelihood:                -4003.5\n",
            "converged:                       True   LL-Null:                       -4336.3\n",
            "Covariance Type:            nonrobust   LLR p-value:                1.514e-136\n",
            "=====================================================================================\n",
            "                        coef    std err          z      P>|z|      [0.025      0.975]\n",
            "-------------------------------------------------------------------------------------\n",
            "const                -3.4477      0.261    -13.226      0.000      -3.959      -2.937\n",
            "Age_at_Exam           0.0271      0.002     11.356      0.000       0.022       0.032\n",
            "BMI                   0.0486      0.004     11.167      0.000       0.040       0.057\n",
            "Total_Cholesterol    -0.1231      0.026     -4.786      0.000      -0.173      -0.073\n",
            "Depression           -0.0392      0.066     -0.595      0.552      -0.168       0.090\n",
            "HTN                   0.1413      0.075      1.879      0.060      -0.006       0.289\n",
            "OA                   -0.0437      0.061     -0.717      0.473      -0.163       0.076\n",
            "COPD                  0.1367      0.090      1.515      0.130      -0.040       0.314\n",
            "corstrd_bin          -0.0050      0.060     -0.082      0.934      -0.123       0.113\n",
            "htnmed_bin            0.5576      0.080      6.985      0.000       0.401       0.714\n",
            "Sex                   0.1441      0.056      2.582      0.010       0.035       0.253\n",
            "=====================================================================================\n"
          ]
        }
      ]
    },
    {
      "cell_type": "markdown",
      "source": [
        "variables that were significant:\n",
        "- Age\n",
        "- BMI\n",
        "- Total_Cholesterol\n",
        "- htnmed_bin\n",
        "\n",
        "Considerations for future iterations: stratify by sex"
      ],
      "metadata": {
        "id": "HXXBocqxI6-v"
      }
    }
  ]
}