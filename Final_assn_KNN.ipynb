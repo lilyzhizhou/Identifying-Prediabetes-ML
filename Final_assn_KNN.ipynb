{
  "nbformat": 4,
  "nbformat_minor": 0,
  "metadata": {
    "colab": {
      "provenance": [],
      "authorship_tag": "ABX9TyPFKalHxfJ8UXPzVFwlL5ja",
      "include_colab_link": true
    },
    "kernelspec": {
      "name": "python3",
      "display_name": "Python 3"
    },
    "language_info": {
      "name": "python"
    }
  },
  "cells": [
    {
      "cell_type": "markdown",
      "metadata": {
        "id": "view-in-github",
        "colab_type": "text"
      },
      "source": [
        "<a href=\"https://colab.research.google.com/github/lilyzhizhou/ML-Final-Project/blob/main/Final_assn_KNN.ipynb\" target=\"_parent\"><img src=\"https://colab.research.google.com/assets/colab-badge.svg\" alt=\"Open In Colab\"/></a>"
      ]
    },
    {
      "cell_type": "markdown",
      "source": [
        "Import Necessary Libraries"
      ],
      "metadata": {
        "id": "T1Kfu0nA9G3i"
      }
    },
    {
      "cell_type": "code",
      "source": [
        "import pandas as pd\n",
        "from sklearn.model_selection import train_test_split\n",
        "from sklearn.preprocessing import StandardScaler, LabelEncoder\n",
        "from sklearn.neighbors import KNeighborsClassifier\n",
        "from sklearn.metrics import classification_report, confusion_matrix\n",
        "from sklearn.model_selection import train_test_split\n",
        "from sklearn.metrics import accuracy_score\n",
        "import matplotlib.pyplot as plt\n",
        "import seaborn as sns"
      ],
      "metadata": {
        "id": "gHV5MAkY9Ddq"
      },
      "execution_count": null,
      "outputs": []
    },
    {
      "cell_type": "markdown",
      "source": [
        "Load the data"
      ],
      "metadata": {
        "id": "PKu8eJDt9MdZ"
      }
    },
    {
      "cell_type": "code",
      "execution_count": null,
      "metadata": {
        "colab": {
          "base_uri": "https://localhost:8080/",
          "height": 206
        },
        "id": "208oUENS9A0G",
        "outputId": "80232008-eb6d-4289-c233-86975329f58f"
      },
      "outputs": [
        {
          "output_type": "execute_result",
          "data": {
            "text/plain": [
              "   Unnamed: 0  predm  Age_at_Exam   BMI  Total_Cholesterol  Depression  HTN  \\\n",
              "0           2      1           63  30.9                NaN           0    1   \n",
              "1        2386      1           66  23.6               3.54           1    1   \n",
              "2        7781      0           68  34.3               5.55           1    1   \n",
              "3        7644      1           73  28.5               3.78           1    1   \n",
              "4        2290      0           53  33.4               5.38           0    1   \n",
              "\n",
              "   OA  COPD  corstrd_bin  htnmed_bin  Sex        Patient_ID  \n",
              "0   0     1            0           1    1  1001000000000054  \n",
              "1   1     0            0           1    1  1001000000004538  \n",
              "2   1     0            0           1    0  1001000000007331  \n",
              "3   0     1            1           1    0  1001000000007333  \n",
              "4   1     0            1           1    0  1001000000009032  "
            ],
            "text/html": [
              "\n",
              "  <div id=\"df-9d50ec49-36aa-497f-988d-95d20e82b85b\" class=\"colab-df-container\">\n",
              "    <div>\n",
              "<style scoped>\n",
              "    .dataframe tbody tr th:only-of-type {\n",
              "        vertical-align: middle;\n",
              "    }\n",
              "\n",
              "    .dataframe tbody tr th {\n",
              "        vertical-align: top;\n",
              "    }\n",
              "\n",
              "    .dataframe thead th {\n",
              "        text-align: right;\n",
              "    }\n",
              "</style>\n",
              "<table border=\"1\" class=\"dataframe\">\n",
              "  <thead>\n",
              "    <tr style=\"text-align: right;\">\n",
              "      <th></th>\n",
              "      <th>Unnamed: 0</th>\n",
              "      <th>predm</th>\n",
              "      <th>Age_at_Exam</th>\n",
              "      <th>BMI</th>\n",
              "      <th>Total_Cholesterol</th>\n",
              "      <th>Depression</th>\n",
              "      <th>HTN</th>\n",
              "      <th>OA</th>\n",
              "      <th>COPD</th>\n",
              "      <th>corstrd_bin</th>\n",
              "      <th>htnmed_bin</th>\n",
              "      <th>Sex</th>\n",
              "      <th>Patient_ID</th>\n",
              "    </tr>\n",
              "  </thead>\n",
              "  <tbody>\n",
              "    <tr>\n",
              "      <th>0</th>\n",
              "      <td>2</td>\n",
              "      <td>1</td>\n",
              "      <td>63</td>\n",
              "      <td>30.9</td>\n",
              "      <td>NaN</td>\n",
              "      <td>0</td>\n",
              "      <td>1</td>\n",
              "      <td>0</td>\n",
              "      <td>1</td>\n",
              "      <td>0</td>\n",
              "      <td>1</td>\n",
              "      <td>1</td>\n",
              "      <td>1001000000000054</td>\n",
              "    </tr>\n",
              "    <tr>\n",
              "      <th>1</th>\n",
              "      <td>2386</td>\n",
              "      <td>1</td>\n",
              "      <td>66</td>\n",
              "      <td>23.6</td>\n",
              "      <td>3.54</td>\n",
              "      <td>1</td>\n",
              "      <td>1</td>\n",
              "      <td>1</td>\n",
              "      <td>0</td>\n",
              "      <td>0</td>\n",
              "      <td>1</td>\n",
              "      <td>1</td>\n",
              "      <td>1001000000004538</td>\n",
              "    </tr>\n",
              "    <tr>\n",
              "      <th>2</th>\n",
              "      <td>7781</td>\n",
              "      <td>0</td>\n",
              "      <td>68</td>\n",
              "      <td>34.3</td>\n",
              "      <td>5.55</td>\n",
              "      <td>1</td>\n",
              "      <td>1</td>\n",
              "      <td>1</td>\n",
              "      <td>0</td>\n",
              "      <td>0</td>\n",
              "      <td>1</td>\n",
              "      <td>0</td>\n",
              "      <td>1001000000007331</td>\n",
              "    </tr>\n",
              "    <tr>\n",
              "      <th>3</th>\n",
              "      <td>7644</td>\n",
              "      <td>1</td>\n",
              "      <td>73</td>\n",
              "      <td>28.5</td>\n",
              "      <td>3.78</td>\n",
              "      <td>1</td>\n",
              "      <td>1</td>\n",
              "      <td>0</td>\n",
              "      <td>1</td>\n",
              "      <td>1</td>\n",
              "      <td>1</td>\n",
              "      <td>0</td>\n",
              "      <td>1001000000007333</td>\n",
              "    </tr>\n",
              "    <tr>\n",
              "      <th>4</th>\n",
              "      <td>2290</td>\n",
              "      <td>0</td>\n",
              "      <td>53</td>\n",
              "      <td>33.4</td>\n",
              "      <td>5.38</td>\n",
              "      <td>0</td>\n",
              "      <td>1</td>\n",
              "      <td>1</td>\n",
              "      <td>0</td>\n",
              "      <td>1</td>\n",
              "      <td>1</td>\n",
              "      <td>0</td>\n",
              "      <td>1001000000009032</td>\n",
              "    </tr>\n",
              "  </tbody>\n",
              "</table>\n",
              "</div>\n",
              "    <div class=\"colab-df-buttons\">\n",
              "\n",
              "  <div class=\"colab-df-container\">\n",
              "    <button class=\"colab-df-convert\" onclick=\"convertToInteractive('df-9d50ec49-36aa-497f-988d-95d20e82b85b')\"\n",
              "            title=\"Convert this dataframe to an interactive table.\"\n",
              "            style=\"display:none;\">\n",
              "\n",
              "  <svg xmlns=\"http://www.w3.org/2000/svg\" height=\"24px\" viewBox=\"0 -960 960 960\">\n",
              "    <path d=\"M120-120v-720h720v720H120Zm60-500h600v-160H180v160Zm220 220h160v-160H400v160Zm0 220h160v-160H400v160ZM180-400h160v-160H180v160Zm440 0h160v-160H620v160ZM180-180h160v-160H180v160Zm440 0h160v-160H620v160Z\"/>\n",
              "  </svg>\n",
              "    </button>\n",
              "\n",
              "  <style>\n",
              "    .colab-df-container {\n",
              "      display:flex;\n",
              "      gap: 12px;\n",
              "    }\n",
              "\n",
              "    .colab-df-convert {\n",
              "      background-color: #E8F0FE;\n",
              "      border: none;\n",
              "      border-radius: 50%;\n",
              "      cursor: pointer;\n",
              "      display: none;\n",
              "      fill: #1967D2;\n",
              "      height: 32px;\n",
              "      padding: 0 0 0 0;\n",
              "      width: 32px;\n",
              "    }\n",
              "\n",
              "    .colab-df-convert:hover {\n",
              "      background-color: #E2EBFA;\n",
              "      box-shadow: 0px 1px 2px rgba(60, 64, 67, 0.3), 0px 1px 3px 1px rgba(60, 64, 67, 0.15);\n",
              "      fill: #174EA6;\n",
              "    }\n",
              "\n",
              "    .colab-df-buttons div {\n",
              "      margin-bottom: 4px;\n",
              "    }\n",
              "\n",
              "    [theme=dark] .colab-df-convert {\n",
              "      background-color: #3B4455;\n",
              "      fill: #D2E3FC;\n",
              "    }\n",
              "\n",
              "    [theme=dark] .colab-df-convert:hover {\n",
              "      background-color: #434B5C;\n",
              "      box-shadow: 0px 1px 3px 1px rgba(0, 0, 0, 0.15);\n",
              "      filter: drop-shadow(0px 1px 2px rgba(0, 0, 0, 0.3));\n",
              "      fill: #FFFFFF;\n",
              "    }\n",
              "  </style>\n",
              "\n",
              "    <script>\n",
              "      const buttonEl =\n",
              "        document.querySelector('#df-9d50ec49-36aa-497f-988d-95d20e82b85b button.colab-df-convert');\n",
              "      buttonEl.style.display =\n",
              "        google.colab.kernel.accessAllowed ? 'block' : 'none';\n",
              "\n",
              "      async function convertToInteractive(key) {\n",
              "        const element = document.querySelector('#df-9d50ec49-36aa-497f-988d-95d20e82b85b');\n",
              "        const dataTable =\n",
              "          await google.colab.kernel.invokeFunction('convertToInteractive',\n",
              "                                                    [key], {});\n",
              "        if (!dataTable) return;\n",
              "\n",
              "        const docLinkHtml = 'Like what you see? Visit the ' +\n",
              "          '<a target=\"_blank\" href=https://colab.research.google.com/notebooks/data_table.ipynb>data table notebook</a>'\n",
              "          + ' to learn more about interactive tables.';\n",
              "        element.innerHTML = '';\n",
              "        dataTable['output_type'] = 'display_data';\n",
              "        await google.colab.output.renderOutput(dataTable, element);\n",
              "        const docLink = document.createElement('div');\n",
              "        docLink.innerHTML = docLinkHtml;\n",
              "        element.appendChild(docLink);\n",
              "      }\n",
              "    </script>\n",
              "  </div>\n",
              "\n",
              "\n",
              "<div id=\"df-61c2eef4-22a5-40ee-8930-68e71a47f8b8\">\n",
              "  <button class=\"colab-df-quickchart\" onclick=\"quickchart('df-61c2eef4-22a5-40ee-8930-68e71a47f8b8')\"\n",
              "            title=\"Suggest charts\"\n",
              "            style=\"display:none;\">\n",
              "\n",
              "<svg xmlns=\"http://www.w3.org/2000/svg\" height=\"24px\"viewBox=\"0 0 24 24\"\n",
              "     width=\"24px\">\n",
              "    <g>\n",
              "        <path d=\"M19 3H5c-1.1 0-2 .9-2 2v14c0 1.1.9 2 2 2h14c1.1 0 2-.9 2-2V5c0-1.1-.9-2-2-2zM9 17H7v-7h2v7zm4 0h-2V7h2v10zm4 0h-2v-4h2v4z\"/>\n",
              "    </g>\n",
              "</svg>\n",
              "  </button>\n",
              "\n",
              "<style>\n",
              "  .colab-df-quickchart {\n",
              "      --bg-color: #E8F0FE;\n",
              "      --fill-color: #1967D2;\n",
              "      --hover-bg-color: #E2EBFA;\n",
              "      --hover-fill-color: #174EA6;\n",
              "      --disabled-fill-color: #AAA;\n",
              "      --disabled-bg-color: #DDD;\n",
              "  }\n",
              "\n",
              "  [theme=dark] .colab-df-quickchart {\n",
              "      --bg-color: #3B4455;\n",
              "      --fill-color: #D2E3FC;\n",
              "      --hover-bg-color: #434B5C;\n",
              "      --hover-fill-color: #FFFFFF;\n",
              "      --disabled-bg-color: #3B4455;\n",
              "      --disabled-fill-color: #666;\n",
              "  }\n",
              "\n",
              "  .colab-df-quickchart {\n",
              "    background-color: var(--bg-color);\n",
              "    border: none;\n",
              "    border-radius: 50%;\n",
              "    cursor: pointer;\n",
              "    display: none;\n",
              "    fill: var(--fill-color);\n",
              "    height: 32px;\n",
              "    padding: 0;\n",
              "    width: 32px;\n",
              "  }\n",
              "\n",
              "  .colab-df-quickchart:hover {\n",
              "    background-color: var(--hover-bg-color);\n",
              "    box-shadow: 0 1px 2px rgba(60, 64, 67, 0.3), 0 1px 3px 1px rgba(60, 64, 67, 0.15);\n",
              "    fill: var(--button-hover-fill-color);\n",
              "  }\n",
              "\n",
              "  .colab-df-quickchart-complete:disabled,\n",
              "  .colab-df-quickchart-complete:disabled:hover {\n",
              "    background-color: var(--disabled-bg-color);\n",
              "    fill: var(--disabled-fill-color);\n",
              "    box-shadow: none;\n",
              "  }\n",
              "\n",
              "  .colab-df-spinner {\n",
              "    border: 2px solid var(--fill-color);\n",
              "    border-color: transparent;\n",
              "    border-bottom-color: var(--fill-color);\n",
              "    animation:\n",
              "      spin 1s steps(1) infinite;\n",
              "  }\n",
              "\n",
              "  @keyframes spin {\n",
              "    0% {\n",
              "      border-color: transparent;\n",
              "      border-bottom-color: var(--fill-color);\n",
              "      border-left-color: var(--fill-color);\n",
              "    }\n",
              "    20% {\n",
              "      border-color: transparent;\n",
              "      border-left-color: var(--fill-color);\n",
              "      border-top-color: var(--fill-color);\n",
              "    }\n",
              "    30% {\n",
              "      border-color: transparent;\n",
              "      border-left-color: var(--fill-color);\n",
              "      border-top-color: var(--fill-color);\n",
              "      border-right-color: var(--fill-color);\n",
              "    }\n",
              "    40% {\n",
              "      border-color: transparent;\n",
              "      border-right-color: var(--fill-color);\n",
              "      border-top-color: var(--fill-color);\n",
              "    }\n",
              "    60% {\n",
              "      border-color: transparent;\n",
              "      border-right-color: var(--fill-color);\n",
              "    }\n",
              "    80% {\n",
              "      border-color: transparent;\n",
              "      border-right-color: var(--fill-color);\n",
              "      border-bottom-color: var(--fill-color);\n",
              "    }\n",
              "    90% {\n",
              "      border-color: transparent;\n",
              "      border-bottom-color: var(--fill-color);\n",
              "    }\n",
              "  }\n",
              "</style>\n",
              "\n",
              "  <script>\n",
              "    async function quickchart(key) {\n",
              "      const quickchartButtonEl =\n",
              "        document.querySelector('#' + key + ' button');\n",
              "      quickchartButtonEl.disabled = true;  // To prevent multiple clicks.\n",
              "      quickchartButtonEl.classList.add('colab-df-spinner');\n",
              "      try {\n",
              "        const charts = await google.colab.kernel.invokeFunction(\n",
              "            'suggestCharts', [key], {});\n",
              "      } catch (error) {\n",
              "        console.error('Error during call to suggestCharts:', error);\n",
              "      }\n",
              "      quickchartButtonEl.classList.remove('colab-df-spinner');\n",
              "      quickchartButtonEl.classList.add('colab-df-quickchart-complete');\n",
              "    }\n",
              "    (() => {\n",
              "      let quickchartButtonEl =\n",
              "        document.querySelector('#df-61c2eef4-22a5-40ee-8930-68e71a47f8b8 button');\n",
              "      quickchartButtonEl.style.display =\n",
              "        google.colab.kernel.accessAllowed ? 'block' : 'none';\n",
              "    })();\n",
              "  </script>\n",
              "</div>\n",
              "    </div>\n",
              "  </div>\n"
            ]
          },
          "metadata": {},
          "execution_count": 1
        }
      ],
      "source": [
        "# Read CSV file into Pandas df\n",
        "import pandas as pd\n",
        "\n",
        "df = pd.read_csv('datapd.csv')\n",
        "df.head()"
      ]
    },
    {
      "cell_type": "markdown",
      "source": [
        "Data Exploration/Cleaning"
      ],
      "metadata": {
        "id": "DrqRyPI19ZWv"
      }
    },
    {
      "cell_type": "code",
      "source": [
        "# checking the data types\n",
        "df.dtypes"
      ],
      "metadata": {
        "colab": {
          "base_uri": "https://localhost:8080/"
        },
        "id": "A_3cdvyo9Cez",
        "outputId": "dad4e925-007d-4cb4-87a5-3d5efb6d0b2c"
      },
      "execution_count": null,
      "outputs": [
        {
          "output_type": "execute_result",
          "data": {
            "text/plain": [
              "Unnamed: 0             int64\n",
              "predm                  int64\n",
              "Age_at_Exam            int64\n",
              "BMI                  float64\n",
              "Total_Cholesterol    float64\n",
              "Depression             int64\n",
              "HTN                    int64\n",
              "OA                     int64\n",
              "COPD                   int64\n",
              "corstrd_bin            int64\n",
              "htnmed_bin             int64\n",
              "Sex                    int64\n",
              "Patient_ID             int64\n",
              "dtype: object"
            ]
          },
          "metadata": {},
          "execution_count": 2
        }
      ]
    },
    {
      "cell_type": "code",
      "source": [
        "print(df.isna().sum())"
      ],
      "metadata": {
        "colab": {
          "base_uri": "https://localhost:8080/"
        },
        "id": "5mcPRYRZ9d6v",
        "outputId": "f319bff5-2116-4c67-a2b7-966d494c582f"
      },
      "execution_count": null,
      "outputs": [
        {
          "output_type": "stream",
          "name": "stdout",
          "text": [
            "Unnamed: 0             0\n",
            "predm                  0\n",
            "Age_at_Exam            0\n",
            "BMI                    0\n",
            "Total_Cholesterol    152\n",
            "Depression             0\n",
            "HTN                    0\n",
            "OA                     0\n",
            "COPD                   0\n",
            "corstrd_bin            0\n",
            "htnmed_bin             0\n",
            "Sex                    0\n",
            "Patient_ID             0\n",
            "dtype: int64\n"
          ]
        }
      ]
    },
    {
      "cell_type": "code",
      "source": [
        "#impute missing data in the cholesterol column with median\n",
        "df['Total_Cholesterol']=df['Total_Cholesterol'].fillna(df['Total_Cholesterol'].median())\n",
        "\n",
        "df.info()\n",
        "\n",
        "# Print the cleaned DataFrame\n",
        "print(df)"
      ],
      "metadata": {
        "colab": {
          "base_uri": "https://localhost:8080/"
        },
        "id": "b4qlebHP9hUH",
        "outputId": "0bef5363-d303-4b69-8579-d9b2a8ff946e"
      },
      "execution_count": null,
      "outputs": [
        {
          "output_type": "stream",
          "name": "stdout",
          "text": [
            "<class 'pandas.core.frame.DataFrame'>\n",
            "RangeIndex: 6414 entries, 0 to 6413\n",
            "Data columns (total 13 columns):\n",
            " #   Column             Non-Null Count  Dtype  \n",
            "---  ------             --------------  -----  \n",
            " 0   Unnamed: 0         6414 non-null   int64  \n",
            " 1   predm              6414 non-null   int64  \n",
            " 2   Age_at_Exam        6414 non-null   int64  \n",
            " 3   BMI                6414 non-null   float64\n",
            " 4   Total_Cholesterol  6414 non-null   float64\n",
            " 5   Depression         6414 non-null   int64  \n",
            " 6   HTN                6414 non-null   int64  \n",
            " 7   OA                 6414 non-null   int64  \n",
            " 8   COPD               6414 non-null   int64  \n",
            " 9   corstrd_bin        6414 non-null   int64  \n",
            " 10  htnmed_bin         6414 non-null   int64  \n",
            " 11  Sex                6414 non-null   int64  \n",
            " 12  Patient_ID         6414 non-null   int64  \n",
            "dtypes: float64(2), int64(11)\n",
            "memory usage: 651.5 KB\n",
            "      Unnamed: 0  predm  Age_at_Exam   BMI  Total_Cholesterol  Depression  \\\n",
            "0              2      1           63  30.9               4.69           0   \n",
            "1           2386      1           66  23.6               3.54           1   \n",
            "2           7781      0           68  34.3               5.55           1   \n",
            "3           7644      1           73  28.5               3.78           1   \n",
            "4           2290      0           53  33.4               5.38           0   \n",
            "...          ...    ...          ...   ...                ...         ...   \n",
            "6409        6213      1           64  24.5               3.93           1   \n",
            "6410        6166      0           85  27.9               3.50           0   \n",
            "6411        1141      1           68  34.7               5.65           0   \n",
            "6412        1159      0           36  35.6               6.32           0   \n",
            "6413        6234      1           55  42.4               5.24           0   \n",
            "\n",
            "      HTN  OA  COPD  corstrd_bin  htnmed_bin  Sex         Patient_ID  \n",
            "0       1   0     1            0           1    1   1001000000000054  \n",
            "1       1   1     0            0           1    1   1001000000004538  \n",
            "2       1   1     0            0           1    0   1001000000007331  \n",
            "3       1   0     1            1           1    0   1001000000007333  \n",
            "4       1   1     0            1           1    0   1001000000009032  \n",
            "...   ...  ..   ...          ...         ...  ...                ...  \n",
            "6409    0   0     0            0           0    0  10001000000002952  \n",
            "6410    0   1     0            0           1    1  10001000000002980  \n",
            "6411    0   0     0            0           1    0  10001000000003260  \n",
            "6412    0   0     0            0           0    0  10001000000003816  \n",
            "6413    1   1     1            1           1    0  10001000000003852  \n",
            "\n",
            "[6414 rows x 13 columns]\n"
          ]
        }
      ]
    },
    {
      "cell_type": "code",
      "source": [
        "#double check if there are not missing values anymore\n",
        "print(df.isna().sum())"
      ],
      "metadata": {
        "colab": {
          "base_uri": "https://localhost:8080/"
        },
        "id": "nooNumq19iOL",
        "outputId": "11baabf6-a19d-49d0-bbb4-98e840ffb7f0"
      },
      "execution_count": null,
      "outputs": [
        {
          "output_type": "stream",
          "name": "stdout",
          "text": [
            "Unnamed: 0           0\n",
            "predm                0\n",
            "Age_at_Exam          0\n",
            "BMI                  0\n",
            "Total_Cholesterol    0\n",
            "Depression           0\n",
            "HTN                  0\n",
            "OA                   0\n",
            "COPD                 0\n",
            "corstrd_bin          0\n",
            "htnmed_bin           0\n",
            "Sex                  0\n",
            "Patient_ID           0\n",
            "dtype: int64\n"
          ]
        }
      ]
    },
    {
      "cell_type": "code",
      "source": [
        "#remove \"Patient_ID\" column\n",
        "df=df.drop('Patient_ID', axis=1)"
      ],
      "metadata": {
        "id": "U_mQd-ct9leQ"
      },
      "execution_count": null,
      "outputs": []
    },
    {
      "cell_type": "code",
      "source": [
        "#check if patient id column is gone\n",
        "df.dtypes"
      ],
      "metadata": {
        "colab": {
          "base_uri": "https://localhost:8080/"
        },
        "id": "p18TC0pJ9nuw",
        "outputId": "4901deb3-321e-479b-ffae-29e635e94535"
      },
      "execution_count": null,
      "outputs": [
        {
          "output_type": "execute_result",
          "data": {
            "text/plain": [
              "Unnamed: 0             int64\n",
              "predm                  int64\n",
              "Age_at_Exam            int64\n",
              "BMI                  float64\n",
              "Total_Cholesterol    float64\n",
              "Depression             int64\n",
              "HTN                    int64\n",
              "OA                     int64\n",
              "COPD                   int64\n",
              "corstrd_bin            int64\n",
              "htnmed_bin             int64\n",
              "Sex                    int64\n",
              "dtype: object"
            ]
          },
          "metadata": {},
          "execution_count": 7
        }
      ]
    },
    {
      "cell_type": "markdown",
      "source": [
        "Preprocess the data"
      ],
      "metadata": {
        "id": "5xzQblKP91Ye"
      }
    },
    {
      "cell_type": "code",
      "source": [
        "#split data into features and labels\n",
        "X = df[['Depression', 'HTN', 'OA', 'COPD', 'Sex', 'corstrd_bin','htnmed_bin', 'Age_at_Exam','BMI','Total_Cholesterol']]\n",
        "y = df['predm']"
      ],
      "metadata": {
        "id": "fAevjyU-9vLK"
      },
      "execution_count": null,
      "outputs": []
    },
    {
      "cell_type": "markdown",
      "source": [
        "Split data into training and testing"
      ],
      "metadata": {
        "id": "72U-ILfR-eSx"
      }
    },
    {
      "cell_type": "code",
      "source": [
        "X_train, X_test, y_train, y_test = train_test_split(X, y, test_size=0.2, random_state=42)"
      ],
      "metadata": {
        "id": "WA5d4TzB-diZ"
      },
      "execution_count": null,
      "outputs": []
    },
    {
      "cell_type": "markdown",
      "source": [
        "Scaling"
      ],
      "metadata": {
        "id": "mXV_Epcj_hKc"
      }
    },
    {
      "cell_type": "code",
      "source": [
        "scaler = StandardScaler()\n",
        "X_train = scaler.fit_transform(X_train)\n",
        "X_test = scaler.transform(X_test)"
      ],
      "metadata": {
        "id": "Dbduzdp5_je_"
      },
      "execution_count": null,
      "outputs": []
    },
    {
      "cell_type": "markdown",
      "source": [
        "Check Error rate for k=1 to 40"
      ],
      "metadata": {
        "id": "7tiV2LOJ_yqU"
      }
    },
    {
      "cell_type": "code",
      "source": [
        "# Distance metric used\n",
        "met = 'manhattan'\n",
        "\n",
        "# Check error rate for k = 1 to 40\n",
        "error_rate = []\n",
        "\n",
        "for k in range(1, 40):\n",
        "  knn = KNeighborsClassifier(n_neighbors = k, metric = met)\n",
        "  knn.fit(X_train, y_train)\n",
        "  y_pred = knn.predict(X_test)\n",
        "  error_rate.append(1 - accuracy_score(y_test, y_pred))\n",
        "\n",
        "# Plot line graph of error rate\n",
        "sns.lineplot(error_rate, marker = 'o')\n",
        "plt.grid(True)\n",
        "plt.xlabel('k')\n",
        "plt.ylabel('Error Rate')\n",
        "plt.title('Error Rate vs. k Value\\ntest_size = 0.2; metric = manhattan')\n",
        "\n",
        "plt.show()"
      ],
      "metadata": {
        "colab": {
          "base_uri": "https://localhost:8080/",
          "height": 493
        },
        "id": "rgpF_2JI_95a",
        "outputId": "e334e7f4-bff8-4381-fbea-e66528dd5c98"
      },
      "execution_count": null,
      "outputs": [
        {
          "output_type": "display_data",
          "data": {
            "text/plain": [
              "<Figure size 640x480 with 1 Axes>"
            ],
            "image/png": "[encoded data removed]"
          },
          "metadata": {}
        }
      ]
    },
    {
      "cell_type": "markdown",
      "source": [
        "Run KNN"
      ],
      "metadata": {
        "id": "6j1wa68dApI-"
      }
    },
    {
      "cell_type": "code",
      "source": [
        "# Scale features\n",
        "scaler = StandardScaler()\n",
        "X_train = scaler.fit_transform(X_train)\n",
        "X_test = scaler.transform(X_test)\n",
        "\n",
        "# Distance metric used\n",
        "met = 'manhattan'\n",
        "\n",
        "# Initialize K-NN classifier and fit the model\n",
        "knn = KNeighborsClassifier(n_neighbors = 1, metric = met)   # Set K = 5 (lowest error rate)\n",
        "knn.fit(X_train, y_train)                                   # Set metric = 'manhattan'\n",
        "\n",
        "# Predict using test data\n",
        "y_pred = knn.predict(X_test)\n",
        "\n",
        "# Evaluate the model\n",
        "print(confusion_matrix(y_test, y_pred))\n",
        "print(classification_report(y_test, y_pred))\n",
        "\n",
        "# Visualize K-NN results using confusion matrix heatmap\n",
        "import seaborn as sns\n",
        "import matplotlib.pyplot as plt\n",
        "\n",
        "# Get unique classes\n",
        "classes = df['predm'].unique()\n",
        "\n",
        "# Plotting the confusion matrix\n",
        "sns.heatmap(confusion_matrix(y_test, y_pred, labels = classes), annot = True,\n",
        "            xticklabels = classes, yticklabels = classes, cmap = 'Blues')\n",
        "\n",
        "plt.xlabel('Predicted')\n",
        "plt.ylabel('Actual')\n",
        "title = 'Confusion Matrix\\nk = 1; metric = ' + met\n",
        "plt.title(title)\n",
        "\n",
        "plt.show()"
      ],
      "metadata": {
        "colab": {
          "base_uri": "https://localhost:8080/",
          "height": 693
        },
        "id": "9BrBhdSPAoMF",
        "outputId": "14a8a64d-9703-4708-9304-e8d8586d66b5"
      },
      "execution_count": null,
      "outputs": [
        {
          "output_type": "stream",
          "name": "stdout",
          "text": [
            "[[507 253]\n",
            " [243 280]]\n",
            "              precision    recall  f1-score   support\n",
            "\n",
            "           0       0.68      0.67      0.67       760\n",
            "           1       0.53      0.54      0.53       523\n",
            "\n",
            "    accuracy                           0.61      1283\n",
            "   macro avg       0.60      0.60      0.60      1283\n",
            "weighted avg       0.61      0.61      0.61      1283\n",
            "\n"
          ]
        },
        {
          "output_type": "display_data",
          "data": {
            "text/plain": [
              "<Figure size 640x480 with 2 Axes>"
            ],
            "image/png": "[encoded data removed]"
          },
          "metadata": {}
        }
      ]
    },
    {
      "cell_type": "markdown",
      "source": [
        "minkowski and euclidean:\n",
        "recall for 0= 0.65\n",
        "recall for 1= 0.54\n",
        "manhattan:\n",
        "recall for 0= 0.67\n",
        "recall for 1= 0.54"
      ],
      "metadata": {
        "id": "oiQLfI-tBkKK"
      }
    }
  ]
}