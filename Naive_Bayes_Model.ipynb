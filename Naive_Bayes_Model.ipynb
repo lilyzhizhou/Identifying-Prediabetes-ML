{
  "nbformat": 4,
  "nbformat_minor": 0,
  "metadata": {
    "colab": {
      "provenance": [],
      "authorship_tag": "ABX9TyN9xEThoP2jByRGWq1vmi2+",
      "include_colab_link": true
    },
    "kernelspec": {
      "name": "python3",
      "display_name": "Python 3"
    },
    "language_info": {
      "name": "python"
    }
  },
  "cells": [
    {
      "cell_type": "markdown",
      "metadata": {
        "id": "view-in-github",
        "colab_type": "text"
      },
      "source": [
        "<a href=\"https://colab.research.google.com/github/lilyzhizhou/ML-Final-Project/blob/main/Naive_Bayes_Model.ipynb\" target=\"_parent\"><img src=\"https://colab.research.google.com/assets/colab-badge.svg\" alt=\"Open In Colab\"/></a>"
      ]
    },
    {
      "cell_type": "code",
      "execution_count": 51,
      "metadata": {
        "id": "jVbsL8_y8L6e"
      },
      "outputs": [],
      "source": [
        "# Import libraries\n",
        "import pandas as pd\n",
        "pd.set_option('display.max_columns', None)\n",
        "import numpy as np\n",
        "import plotly.express as px\n",
        "import io\n",
        "import matplotlib.pyplot as plt\n",
        "from sklearn.model_selection import train_test_split, KFold, cross_val_score\n",
        "from sklearn.linear_model import LogisticRegression\n",
        "from sklearn.feature_selection import RFECV\n",
        "from sklearn.impute import SimpleImputer\n",
        "from sklearn.preprocessing import StandardScaler\n",
        "from sklearn.preprocessing import LabelEncoder\n",
        "from sklearn.preprocessing import OneHotEncoder\n",
        "from sklearn.naive_bayes import CategoricalNB, GaussianNB, MultinomialNB\n",
        "from sklearn.discriminant_analysis import LinearDiscriminantAnalysis, QuadraticDiscriminantAnalysis\n",
        "from sklearn.metrics import confusion_matrix, classification_report, roc_auc_score, roc_curve\n",
        "from sklearn.metrics import RocCurveDisplay, auc, accuracy_score, precision_score, recall_score, f1_score\n",
        "from sklearn.model_selection import GridSearchCV\n",
        "import seaborn as sns\n",
        "import statsmodels.api as sm\n",
        "import warnings\n",
        "\n",
        "warnings.filterwarnings('ignore')"
      ]
    },
    {
      "cell_type": "code",
      "source": [
        "from google.colab import drive\n",
        "drive.mount('/content/drive')"
      ],
      "metadata": {
        "colab": {
          "base_uri": "https://localhost:8080/",
          "height": 0
        },
        "id": "Q1IN8SLn8Vnr",
        "outputId": "2fa73549-7366-4e51-952f-e9d3f4761084"
      },
      "execution_count": 2,
      "outputs": [
        {
          "output_type": "stream",
          "name": "stdout",
          "text": [
            "Mounted at /content/drive\n"
          ]
        }
      ]
    },
    {
      "cell_type": "code",
      "source": [
        "# Import Pre-Diabetes Data\n",
        "datapd = pd.read_csv('/content/drive/MyDrive/Machine Learning /Datathon #3/datapd.csv')\n",
        "\n",
        "# Drop Patient_ID\n",
        "datapd.drop('Patient_ID', axis = 1, inplace = True)\n",
        "datapd.drop('Unnamed: 0', axis = 1, inplace = True)\n",
        "\n",
        "print(datapd.shape)\n",
        "datapd.head()"
      ],
      "metadata": {
        "colab": {
          "base_uri": "https://localhost:8080/",
          "height": 224
        },
        "id": "h0voZelx8Yx4",
        "outputId": "016e7c40-61b7-4460-bfd1-59798f470225"
      },
      "execution_count": 3,
      "outputs": [
        {
          "output_type": "stream",
          "name": "stdout",
          "text": [
            "(6414, 11)\n"
          ]
        },
        {
          "output_type": "execute_result",
          "data": {
            "text/plain": [
              "   predm  Age_at_Exam   BMI  Total_Cholesterol  Depression  HTN  OA  COPD  \\\n",
              "0      1           63  30.9                NaN           0    1   0     1   \n",
              "1      1           66  23.6               3.54           1    1   1     0   \n",
              "2      0           68  34.3               5.55           1    1   1     0   \n",
              "3      1           73  28.5               3.78           1    1   0     1   \n",
              "4      0           53  33.4               5.38           0    1   1     0   \n",
              "\n",
              "   corstrd_bin  htnmed_bin  Sex  \n",
              "0            0           1    1  \n",
              "1            0           1    1  \n",
              "2            0           1    0  \n",
              "3            1           1    0  \n",
              "4            1           1    0  "
            ],
            "text/html": [
              "\n",
              "  <div id=\"df-30a7bafa-1b07-491f-8f47-ed5f5e1eb0f7\" class=\"colab-df-container\">\n",
              "    <div>\n",
              "<style scoped>\n",
              "    .dataframe tbody tr th:only-of-type {\n",
              "        vertical-align: middle;\n",
              "    }\n",
              "\n",
              "    .dataframe tbody tr th {\n",
              "        vertical-align: top;\n",
              "    }\n",
              "\n",
              "    .dataframe thead th {\n",
              "        text-align: right;\n",
              "    }\n",
              "</style>\n",
              "<table border=\"1\" class=\"dataframe\">\n",
              "  <thead>\n",
              "    <tr style=\"text-align: right;\">\n",
              "      <th></th>\n",
              "      <th>predm</th>\n",
              "      <th>Age_at_Exam</th>\n",
              "      <th>BMI</th>\n",
              "      <th>Total_Cholesterol</th>\n",
              "      <th>Depression</th>\n",
              "      <th>HTN</th>\n",
              "      <th>OA</th>\n",
              "      <th>COPD</th>\n",
              "      <th>corstrd_bin</th>\n",
              "      <th>htnmed_bin</th>\n",
              "      <th>Sex</th>\n",
              "    </tr>\n",
              "  </thead>\n",
              "  <tbody>\n",
              "    <tr>\n",
              "      <th>0</th>\n",
              "      <td>1</td>\n",
              "      <td>63</td>\n",
              "      <td>30.9</td>\n",
              "      <td>NaN</td>\n",
              "      <td>0</td>\n",
              "      <td>1</td>\n",
              "      <td>0</td>\n",
              "      <td>1</td>\n",
              "      <td>0</td>\n",
              "      <td>1</td>\n",
              "      <td>1</td>\n",
              "    </tr>\n",
              "    <tr>\n",
              "      <th>1</th>\n",
              "      <td>1</td>\n",
              "      <td>66</td>\n",
              "      <td>23.6</td>\n",
              "      <td>3.54</td>\n",
              "      <td>1</td>\n",
              "      <td>1</td>\n",
              "      <td>1</td>\n",
              "      <td>0</td>\n",
              "      <td>0</td>\n",
              "      <td>1</td>\n",
              "      <td>1</td>\n",
              "    </tr>\n",
              "    <tr>\n",
              "      <th>2</th>\n",
              "      <td>0</td>\n",
              "      <td>68</td>\n",
              "      <td>34.3</td>\n",
              "      <td>5.55</td>\n",
              "      <td>1</td>\n",
              "      <td>1</td>\n",
              "      <td>1</td>\n",
              "      <td>0</td>\n",
              "      <td>0</td>\n",
              "      <td>1</td>\n",
              "      <td>0</td>\n",
              "    </tr>\n",
              "    <tr>\n",
              "      <th>3</th>\n",
              "      <td>1</td>\n",
              "      <td>73</td>\n",
              "      <td>28.5</td>\n",
              "      <td>3.78</td>\n",
              "      <td>1</td>\n",
              "      <td>1</td>\n",
              "      <td>0</td>\n",
              "      <td>1</td>\n",
              "      <td>1</td>\n",
              "      <td>1</td>\n",
              "      <td>0</td>\n",
              "    </tr>\n",
              "    <tr>\n",
              "      <th>4</th>\n",
              "      <td>0</td>\n",
              "      <td>53</td>\n",
              "      <td>33.4</td>\n",
              "      <td>5.38</td>\n",
              "      <td>0</td>\n",
              "      <td>1</td>\n",
              "      <td>1</td>\n",
              "      <td>0</td>\n",
              "      <td>1</td>\n",
              "      <td>1</td>\n",
              "      <td>0</td>\n",
              "    </tr>\n",
              "  </tbody>\n",
              "</table>\n",
              "</div>\n",
              "    <div class=\"colab-df-buttons\">\n",
              "\n",
              "  <div class=\"colab-df-container\">\n",
              "    <button class=\"colab-df-convert\" onclick=\"convertToInteractive('df-30a7bafa-1b07-491f-8f47-ed5f5e1eb0f7')\"\n",
              "            title=\"Convert this dataframe to an interactive table.\"\n",
              "            style=\"display:none;\">\n",
              "\n",
              "  <svg xmlns=\"http://www.w3.org/2000/svg\" height=\"24px\" viewBox=\"0 -960 960 960\">\n",
              "    <path d=\"M120-120v-720h720v720H120Zm60-500h600v-160H180v160Zm220 220h160v-160H400v160Zm0 220h160v-160H400v160ZM180-400h160v-160H180v160Zm440 0h160v-160H620v160ZM180-180h160v-160H180v160Zm440 0h160v-160H620v160Z\"/>\n",
              "  </svg>\n",
              "    </button>\n",
              "\n",
              "  <style>\n",
              "    .colab-df-container {\n",
              "      display:flex;\n",
              "      gap: 12px;\n",
              "    }\n",
              "\n",
              "    .colab-df-convert {\n",
              "      background-color: #E8F0FE;\n",
              "      border: none;\n",
              "      border-radius: 50%;\n",
              "      cursor: pointer;\n",
              "      display: none;\n",
              "      fill: #1967D2;\n",
              "      height: 32px;\n",
              "      padding: 0 0 0 0;\n",
              "      width: 32px;\n",
              "    }\n",
              "\n",
              "    .colab-df-convert:hover {\n",
              "      background-color: #E2EBFA;\n",
              "      box-shadow: 0px 1px 2px rgba(60, 64, 67, 0.3), 0px 1px 3px 1px rgba(60, 64, 67, 0.15);\n",
              "      fill: #174EA6;\n",
              "    }\n",
              "\n",
              "    .colab-df-buttons div {\n",
              "      margin-bottom: 4px;\n",
              "    }\n",
              "\n",
              "    [theme=dark] .colab-df-convert {\n",
              "      background-color: #3B4455;\n",
              "      fill: #D2E3FC;\n",
              "    }\n",
              "\n",
              "    [theme=dark] .colab-df-convert:hover {\n",
              "      background-color: #434B5C;\n",
              "      box-shadow: 0px 1px 3px 1px rgba(0, 0, 0, 0.15);\n",
              "      filter: drop-shadow(0px 1px 2px rgba(0, 0, 0, 0.3));\n",
              "      fill: #FFFFFF;\n",
              "    }\n",
              "  </style>\n",
              "\n",
              "    <script>\n",
              "      const buttonEl =\n",
              "        document.querySelector('#df-30a7bafa-1b07-491f-8f47-ed5f5e1eb0f7 button.colab-df-convert');\n",
              "      buttonEl.style.display =\n",
              "        google.colab.kernel.accessAllowed ? 'block' : 'none';\n",
              "\n",
              "      async function convertToInteractive(key) {\n",
              "        const element = document.querySelector('#df-30a7bafa-1b07-491f-8f47-ed5f5e1eb0f7');\n",
              "        const dataTable =\n",
              "          await google.colab.kernel.invokeFunction('convertToInteractive',\n",
              "                                                    [key], {});\n",
              "        if (!dataTable) return;\n",
              "\n",
              "        const docLinkHtml = 'Like what you see? Visit the ' +\n",
              "          '<a target=\"_blank\" href=https://colab.research.google.com/notebooks/data_table.ipynb>data table notebook</a>'\n",
              "          + ' to learn more about interactive tables.';\n",
              "        element.innerHTML = '';\n",
              "        dataTable['output_type'] = 'display_data';\n",
              "        await google.colab.output.renderOutput(dataTable, element);\n",
              "        const docLink = document.createElement('div');\n",
              "        docLink.innerHTML = docLinkHtml;\n",
              "        element.appendChild(docLink);\n",
              "      }\n",
              "    </script>\n",
              "  </div>\n",
              "\n",
              "\n",
              "<div id=\"df-6aa94147-8ade-4de9-be80-73a5046c3f43\">\n",
              "  <button class=\"colab-df-quickchart\" onclick=\"quickchart('df-6aa94147-8ade-4de9-be80-73a5046c3f43')\"\n",
              "            title=\"Suggest charts\"\n",
              "            style=\"display:none;\">\n",
              "\n",
              "<svg xmlns=\"http://www.w3.org/2000/svg\" height=\"24px\"viewBox=\"0 0 24 24\"\n",
              "     width=\"24px\">\n",
              "    <g>\n",
              "        <path d=\"M19 3H5c-1.1 0-2 .9-2 2v14c0 1.1.9 2 2 2h14c1.1 0 2-.9 2-2V5c0-1.1-.9-2-2-2zM9 17H7v-7h2v7zm4 0h-2V7h2v10zm4 0h-2v-4h2v4z\"/>\n",
              "    </g>\n",
              "</svg>\n",
              "  </button>\n",
              "\n",
              "<style>\n",
              "  .colab-df-quickchart {\n",
              "      --bg-color: #E8F0FE;\n",
              "      --fill-color: #1967D2;\n",
              "      --hover-bg-color: #E2EBFA;\n",
              "      --hover-fill-color: #174EA6;\n",
              "      --disabled-fill-color: #AAA;\n",
              "      --disabled-bg-color: #DDD;\n",
              "  }\n",
              "\n",
              "  [theme=dark] .colab-df-quickchart {\n",
              "      --bg-color: #3B4455;\n",
              "      --fill-color: #D2E3FC;\n",
              "      --hover-bg-color: #434B5C;\n",
              "      --hover-fill-color: #FFFFFF;\n",
              "      --disabled-bg-color: #3B4455;\n",
              "      --disabled-fill-color: #666;\n",
              "  }\n",
              "\n",
              "  .colab-df-quickchart {\n",
              "    background-color: var(--bg-color);\n",
              "    border: none;\n",
              "    border-radius: 50%;\n",
              "    cursor: pointer;\n",
              "    display: none;\n",
              "    fill: var(--fill-color);\n",
              "    height: 32px;\n",
              "    padding: 0;\n",
              "    width: 32px;\n",
              "  }\n",
              "\n",
              "  .colab-df-quickchart:hover {\n",
              "    background-color: var(--hover-bg-color);\n",
              "    box-shadow: 0 1px 2px rgba(60, 64, 67, 0.3), 0 1px 3px 1px rgba(60, 64, 67, 0.15);\n",
              "    fill: var(--button-hover-fill-color);\n",
              "  }\n",
              "\n",
              "  .colab-df-quickchart-complete:disabled,\n",
              "  .colab-df-quickchart-complete:disabled:hover {\n",
              "    background-color: var(--disabled-bg-color);\n",
              "    fill: var(--disabled-fill-color);\n",
              "    box-shadow: none;\n",
              "  }\n",
              "\n",
              "  .colab-df-spinner {\n",
              "    border: 2px solid var(--fill-color);\n",
              "    border-color: transparent;\n",
              "    border-bottom-color: var(--fill-color);\n",
              "    animation:\n",
              "      spin 1s steps(1) infinite;\n",
              "  }\n",
              "\n",
              "  @keyframes spin {\n",
              "    0% {\n",
              "      border-color: transparent;\n",
              "      border-bottom-color: var(--fill-color);\n",
              "      border-left-color: var(--fill-color);\n",
              "    }\n",
              "    20% {\n",
              "      border-color: transparent;\n",
              "      border-left-color: var(--fill-color);\n",
              "      border-top-color: var(--fill-color);\n",
              "    }\n",
              "    30% {\n",
              "      border-color: transparent;\n",
              "      border-left-color: var(--fill-color);\n",
              "      border-top-color: var(--fill-color);\n",
              "      border-right-color: var(--fill-color);\n",
              "    }\n",
              "    40% {\n",
              "      border-color: transparent;\n",
              "      border-right-color: var(--fill-color);\n",
              "      border-top-color: var(--fill-color);\n",
              "    }\n",
              "    60% {\n",
              "      border-color: transparent;\n",
              "      border-right-color: var(--fill-color);\n",
              "    }\n",
              "    80% {\n",
              "      border-color: transparent;\n",
              "      border-right-color: var(--fill-color);\n",
              "      border-bottom-color: var(--fill-color);\n",
              "    }\n",
              "    90% {\n",
              "      border-color: transparent;\n",
              "      border-bottom-color: var(--fill-color);\n",
              "    }\n",
              "  }\n",
              "</style>\n",
              "\n",
              "  <script>\n",
              "    async function quickchart(key) {\n",
              "      const quickchartButtonEl =\n",
              "        document.querySelector('#' + key + ' button');\n",
              "      quickchartButtonEl.disabled = true;  // To prevent multiple clicks.\n",
              "      quickchartButtonEl.classList.add('colab-df-spinner');\n",
              "      try {\n",
              "        const charts = await google.colab.kernel.invokeFunction(\n",
              "            'suggestCharts', [key], {});\n",
              "      } catch (error) {\n",
              "        console.error('Error during call to suggestCharts:', error);\n",
              "      }\n",
              "      quickchartButtonEl.classList.remove('colab-df-spinner');\n",
              "      quickchartButtonEl.classList.add('colab-df-quickchart-complete');\n",
              "    }\n",
              "    (() => {\n",
              "      let quickchartButtonEl =\n",
              "        document.querySelector('#df-6aa94147-8ade-4de9-be80-73a5046c3f43 button');\n",
              "      quickchartButtonEl.style.display =\n",
              "        google.colab.kernel.accessAllowed ? 'block' : 'none';\n",
              "    })();\n",
              "  </script>\n",
              "</div>\n",
              "    </div>\n",
              "  </div>\n"
            ]
          },
          "metadata": {},
          "execution_count": 3
        }
      ]
    },
    {
      "cell_type": "code",
      "source": [
        "datapd.dtypes"
      ],
      "metadata": {
        "colab": {
          "base_uri": "https://localhost:8080/",
          "height": 0
        },
        "id": "Fqyb6FykKKNO",
        "outputId": "54bd20b9-6770-49dd-d3d5-41009feecd68"
      },
      "execution_count": 4,
      "outputs": [
        {
          "output_type": "execute_result",
          "data": {
            "text/plain": [
              "predm                  int64\n",
              "Age_at_Exam            int64\n",
              "BMI                  float64\n",
              "Total_Cholesterol    float64\n",
              "Depression             int64\n",
              "HTN                    int64\n",
              "OA                     int64\n",
              "COPD                   int64\n",
              "corstrd_bin            int64\n",
              "htnmed_bin             int64\n",
              "Sex                    int64\n",
              "dtype: object"
            ]
          },
          "metadata": {},
          "execution_count": 4
        }
      ]
    },
    {
      "cell_type": "code",
      "source": [
        "# Look for NA values\n",
        "print(datapd.isnull().sum())"
      ],
      "metadata": {
        "colab": {
          "base_uri": "https://localhost:8080/",
          "height": 0
        },
        "id": "jIGJ-eFm8wRV",
        "outputId": "9438ce34-6573-43c1-9919-154dff1b5176"
      },
      "execution_count": 5,
      "outputs": [
        {
          "output_type": "stream",
          "name": "stdout",
          "text": [
            "predm                  0\n",
            "Age_at_Exam            0\n",
            "BMI                    0\n",
            "Total_Cholesterol    152\n",
            "Depression             0\n",
            "HTN                    0\n",
            "OA                     0\n",
            "COPD                   0\n",
            "corstrd_bin            0\n",
            "htnmed_bin             0\n",
            "Sex                    0\n",
            "dtype: int64\n"
          ]
        }
      ]
    },
    {
      "cell_type": "markdown",
      "source": [
        "Separate data into continuous and categorical variables\n",
        "\n",
        "---\n",
        "\n"
      ],
      "metadata": {
        "id": "UZqbPorSFtQE"
      }
    },
    {
      "cell_type": "code",
      "source": [
        "target_column = 'predm'\n",
        "categorical_columns = ['Depression', 'HTN','OA', 'COPD', 'Sex','corstrd_bin','htnmed_bin']\n",
        "#multinomial_columns = [] there are none\n",
        "numerical_columns = ['Age_at_Exam','BMI','Total_Cholesterol']"
      ],
      "metadata": {
        "id": "vVqbpoRyCs8z"
      },
      "execution_count": 6,
      "outputs": []
    },
    {
      "cell_type": "markdown",
      "source": [
        "Split Data\n",
        "\n",
        "---\n",
        "\n"
      ],
      "metadata": {
        "id": "kLPFXA9E_bqD"
      }
    },
    {
      "cell_type": "code",
      "source": [
        "# Splitting the original dataset into training, validation, and test sets\n",
        "\n",
        "# Taking 70% of the data for training\n",
        "train_df = datapd.sample(frac = 0.75)\n",
        "\n",
        "# Removing the training data from the original dataset to get the combined validation and test data\n",
        "test_df = datapd.drop(train_df.index)\n",
        "\n",
        "# Splitting the combined validation and test data into two equal parts for validation and testing, respectively\n",
        "valid_df = test_df.sample(frac = 0.5)\n",
        "test_df = test_df.drop(valid_df.index)"
      ],
      "metadata": {
        "id": "ZsWUnbmw836O"
      },
      "execution_count": 7,
      "outputs": []
    },
    {
      "cell_type": "code",
      "source": [
        "# Impute Missing Values\n",
        "imputer = SimpleImputer(strategy='median')\n",
        "train_df[numerical_columns] = imputer.fit_transform(train_df[numerical_columns])\n",
        "valid_df[numerical_columns] = imputer.fit_transform(valid_df[numerical_columns])\n",
        "\n",
        "# Selected median bc it works well with skewed continuous data and is less sensitive to outliers and overfitting"
      ],
      "metadata": {
        "id": "cGl6Fh8rGtym"
      },
      "execution_count": 9,
      "outputs": []
    },
    {
      "cell_type": "code",
      "source": [
        "# Normalize Data\n",
        "scaler = StandardScaler()\n",
        "train_df[numerical_columns] = scaler.fit_transform(train_df[numerical_columns])\n",
        "valid_df[numerical_columns] = scaler.fit_transform(valid_df[numerical_columns])"
      ],
      "metadata": {
        "id": "U_D5QGO8HRc0"
      },
      "execution_count": 10,
      "outputs": []
    },
    {
      "cell_type": "code",
      "source": [
        "# Convert continuous vars from float64 to int64\n",
        "train_df[numerical_columns] = train_df[numerical_columns].astype('int64')\n",
        "valid_df[numerical_columns] = valid_df[numerical_columns].astype('int64')\n",
        "test_df[numerical_columns] = test_df[numerical_columns].astype('int64')"
      ],
      "metadata": {
        "id": "jMuBxhIzKrEv"
      },
      "execution_count": 11,
      "outputs": []
    },
    {
      "cell_type": "markdown",
      "source": [
        "Fit Model\n",
        "\n",
        "---\n",
        "\n"
      ],
      "metadata": {
        "id": "wTsBGA7iHf6x"
      }
    },
    {
      "cell_type": "code",
      "source": [
        "# Define a function to compute various scores for model evaluation\n",
        "def get_scores(Y_pred, Y):\n",
        "    # Calculate confusion matrix, classification report, ROC AUC, accuracy, recall, precision, fi\n",
        "    conf_matrix = confusion_matrix(Y_pred, Y)\n",
        "    auc = roc_auc_score(Y_pred, Y)\n",
        "    acc = accuracy_score(Y_pred, Y)\n",
        "    precision = precision_score(Y_pred, Y)\n",
        "    recall = recall_score(Y_pred, Y)\n",
        "    f1 = f1_score(Y_pred, Y)\n",
        "    class_report = classification_report(Y_pred, Y)\n",
        "\n",
        "    # Return the computed scores\n",
        "    return conf_matrix, auc, acc, precision, recall, f1, class_report\n",
        "\n",
        "# Define a function to print the computed scores\n",
        "def print_scores(conf_matrix, auc, acc, precision, recall, f1, class_report):\n",
        "    print(\"Confusion Matrix:\")\n",
        "    print(conf_matrix)\n",
        "    print('AUC : ', auc)\n",
        "    print('Accuracy : ', acc)\n",
        "    print(\"\\nPrecision:\")\n",
        "    print(precision)\n",
        "    print(\"\\nRecall:\")\n",
        "    print(recall)\n",
        "    print(\"\\nf1-score:\")\n",
        "    print(f1)\n",
        "    print(\"\\nClassification Report:\")\n",
        "    print(class_report)"
      ],
      "metadata": {
        "id": "Q0SKfU290DO3"
      },
      "execution_count": 53,
      "outputs": []
    },
    {
      "cell_type": "code",
      "source": [
        "# Train a Gaussian Naive Bayes model for numerical columns\n",
        "gnb = GaussianNB()\n",
        "gnb = gnb.fit(train_df[numerical_columns].to_numpy(), train_df[target_column])\n",
        "\n",
        "# Train a Categorical Naive Bayes model for categorical columns\n",
        "cnb = CategoricalNB(alpha = 1)\n",
        "cnb = cnb.fit(train_df[categorical_columns].to_numpy(), train_df[target_column])\n",
        "\n",
        "# Get joint log probabilities for each model\n",
        "gnb_log_pred = gnb.predict_joint_log_proba(train_df[numerical_columns])\n",
        "cnb_log_pred = cnb.predict_joint_log_proba(train_df[categorical_columns])\n",
        "\n",
        "# Combine the log probabilities\n",
        "y_hat_prob = gnb_log_pred + cnb_log_pred\n",
        "\n",
        "# Convert log probabilities back to probabilities\n",
        "y_hat_prob = np.exp(y_hat_prob)\n",
        "y_hat_prob = y_hat_prob / y_hat_prob.sum(1, keepdims=True)  # normalize to get valid probabilities\n",
        "\n",
        "# Get the predicted class labels\n",
        "y_hat = np.argmax(y_hat_prob, axis=1)\n",
        "\n",
        "# Evaluate the combined model using custom functions\n",
        "# conf_matrix, class_report, auc, acc = get_scores(train_df[target_column], y_hat)\n",
        "conf_matrix, auc, acc, precision, recall, f1, class_report = get_scores(train_df[target_column], y_hat)\n",
        "print_scores(conf_matrix, auc, acc, precision, recall, f1, class_report)\n",
        "\n",
        "# Plot the ROC curve\n",
        "fpr, tpr, thresholds = roc_curve(train_df[target_column], y_hat_prob[:, 1])\n",
        "display = RocCurveDisplay(fpr=fpr, tpr=tpr, roc_auc=auc, estimator_name='Naive Bayes')\n",
        "display.plot()\n",
        "ax = plt.gca()\n",
        "ax.get_lines()[0].set_color('#9325c2')"
      ],
      "metadata": {
        "colab": {
          "base_uri": "https://localhost:8080/",
          "height": 883
        },
        "id": "qsMUAbbNGj1Y",
        "outputId": "794a97b2-0a91-4fad-cdba-414eebc742c2"
      },
      "execution_count": 54,
      "outputs": [
        {
          "output_type": "stream",
          "name": "stdout",
          "text": [
            "Confusion Matrix:\n",
            "[[2195  649]\n",
            " [1179  787]]\n",
            "AUC :  0.586052734746671\n",
            "Accuracy :  0.6199584199584199\n",
            "\n",
            "Precision:\n",
            "0.5480501392757661\n",
            "\n",
            "Recall:\n",
            "0.40030518819938965\n",
            "\n",
            "f1-score:\n",
            "0.4626690182245738\n",
            "\n",
            "Classification Report:\n",
            "              precision    recall  f1-score   support\n",
            "\n",
            "           0       0.65      0.77      0.71      2844\n",
            "           1       0.55      0.40      0.46      1966\n",
            "\n",
            "    accuracy                           0.62      4810\n",
            "   macro avg       0.60      0.59      0.58      4810\n",
            "weighted avg       0.61      0.62      0.61      4810\n",
            "\n"
          ]
        },
        {
          "output_type": "display_data",
          "data": {
            "text/plain": [
              "<Figure size 640x480 with 1 Axes>"
            ],
            "image/png": "[encoded data removed]"
          },
          "metadata": {}
        }
      ]
    },
    {
      "cell_type": "markdown",
      "source": [
        "Evaluating the Model on Validation Data\n",
        "\n",
        "---\n",
        "\n"
      ],
      "metadata": {
        "id": "Inid0gpFxAaU"
      }
    },
    {
      "cell_type": "code",
      "source": [
        "# Predicting probabilities and class labels for the validation data.\n",
        "y_hat_prob = cnb.predict_proba(valid_df[categorical_columns])\n",
        "y_hat = cnb.predict(valid_df[categorical_columns])\n",
        "\n",
        "# Evaluating the model's performance on the validation data using the previously defined scoring functions.\n",
        "conf_matrix, auc, acc, precision, recall, f1, class_report = get_scores(valid_df[target_column], y_hat)\n",
        "print_scores(conf_matrix, auc, acc, precision, recall, f1, class_report)\n",
        "\n",
        "# Plotting the ROC curve for the model's performance on the validation dataset.\n",
        "fpr, tpr, thresholds = roc_curve(valid_df[target_column], y_hat_prob[:, 1])\n",
        "display = RocCurveDisplay(fpr=fpr, tpr=tpr, roc_auc=auc, estimator_name='Naive Bayes')\n",
        "display.plot()\n",
        "ax = plt.gca()\n",
        "ax.get_lines()[0].set_color('#9325c2')"
      ],
      "metadata": {
        "colab": {
          "base_uri": "https://localhost:8080/",
          "height": 883
        },
        "id": "ZQc-VPJiw-g_",
        "outputId": "7f4e7d68-6a4f-49d9-f5ea-4fad8a78b997"
      },
      "execution_count": 57,
      "outputs": [
        {
          "output_type": "stream",
          "name": "stdout",
          "text": [
            "Confusion Matrix:\n",
            "[[278 214]\n",
            " [100 210]]\n",
            "AUC :  0.6212300026226069\n",
            "Accuracy :  0.6084788029925187\n",
            "\n",
            "Precision:\n",
            "0.49528301886792453\n",
            "\n",
            "Recall:\n",
            "0.6774193548387096\n",
            "\n",
            "f1-score:\n",
            "0.5722070844686648\n",
            "\n",
            "Classification Report:\n",
            "              precision    recall  f1-score   support\n",
            "\n",
            "           0       0.74      0.57      0.64       492\n",
            "           1       0.50      0.68      0.57       310\n",
            "\n",
            "    accuracy                           0.61       802\n",
            "   macro avg       0.62      0.62      0.61       802\n",
            "weighted avg       0.64      0.61      0.61       802\n",
            "\n"
          ]
        },
        {
          "output_type": "display_data",
          "data": {
            "text/plain": [
              "<Figure size 640x480 with 1 Axes>"
            ],
            "image/png": "[encoded data removed]"
          },
          "metadata": {}
        }
      ]
    },
    {
      "cell_type": "markdown",
      "source": [
        "Tune paramaters\n",
        "\n",
        "---\n",
        "\n"
      ],
      "metadata": {
        "id": "KhNeh8uokrfi"
      }
    },
    {
      "cell_type": "code",
      "source": [
        "# using random search to tune smoothing parameters of categorical variables\n",
        "from sklearn.model_selection import RandomizedSearchCV\n",
        "from scipy.stats import uniform\n",
        "\n",
        "param_dist = {'alpha': uniform(loc=1, scale=100)}\n",
        "\n",
        "random_search = RandomizedSearchCV(estimator=CategoricalNB(), param_distributions=param_dist, n_iter=100, cv=5)\n",
        "\n",
        "random_search.fit(train_df[categorical_columns].to_numpy(), train_df[target_column])\n"
      ],
      "metadata": {
        "id": "ttju-nECks4I",
        "colab": {
          "base_uri": "https://localhost:8080/",
          "height": 118
        },
        "outputId": "b6c13fa1-4fe7-4936-fd9c-798b9b3591db"
      },
      "execution_count": 28,
      "outputs": [
        {
          "output_type": "execute_result",
          "data": {
            "text/plain": [
              "RandomizedSearchCV(cv=5, estimator=CategoricalNB(), n_iter=100,\n",
              "                   param_distributions={'alpha': <scipy.stats._distn_infrastructure.rv_continuous_frozen object at 0x7a54919db130>})"
            ],
            "text/html": [
              "<style>#sk-container-id-4 {color: black;background-color: white;}#sk-container-id-4 pre{padding: 0;}#sk-container-id-4 div.sk-toggleable {background-color: white;}#sk-container-id-4 label.sk-toggleable__label {cursor: pointer;display: block;width: 100%;margin-bottom: 0;padding: 0.3em;box-sizing: border-box;text-align: center;}#sk-container-id-4 label.sk-toggleable__label-arrow:before {content: \"▸\";float: left;margin-right: 0.25em;color: #696969;}#sk-container-id-4 label.sk-toggleable__label-arrow:hover:before {color: black;}#sk-container-id-4 div.sk-estimator:hover label.sk-toggleable__label-arrow:before {color: black;}#sk-container-id-4 div.sk-toggleable__content {max-height: 0;max-width: 0;overflow: hidden;text-align: left;background-color: #f0f8ff;}#sk-container-id-4 div.sk-toggleable__content pre {margin: 0.2em;color: black;border-radius: 0.25em;background-color: #f0f8ff;}#sk-container-id-4 input.sk-toggleable__control:checked~div.sk-toggleable__content {max-height: 200px;max-width: 100%;overflow: auto;}#sk-container-id-4 input.sk-toggleable__control:checked~label.sk-toggleable__label-arrow:before {content: \"▾\";}#sk-container-id-4 div.sk-estimator input.sk-toggleable__control:checked~label.sk-toggleable__label {background-color: #d4ebff;}#sk-container-id-4 div.sk-label input.sk-toggleable__control:checked~label.sk-toggleable__label {background-color: #d4ebff;}#sk-container-id-4 input.sk-hidden--visually {border: 0;clip: rect(1px 1px 1px 1px);clip: rect(1px, 1px, 1px, 1px);height: 1px;margin: -1px;overflow: hidden;padding: 0;position: absolute;width: 1px;}#sk-container-id-4 div.sk-estimator {font-family: monospace;background-color: #f0f8ff;border: 1px dotted black;border-radius: 0.25em;box-sizing: border-box;margin-bottom: 0.5em;}#sk-container-id-4 div.sk-estimator:hover {background-color: #d4ebff;}#sk-container-id-4 div.sk-parallel-item::after {content: \"\";width: 100%;border-bottom: 1px solid gray;flex-grow: 1;}#sk-container-id-4 div.sk-label:hover label.sk-toggleable__label {background-color: #d4ebff;}#sk-container-id-4 div.sk-serial::before {content: \"\";position: absolute;border-left: 1px solid gray;box-sizing: border-box;top: 0;bottom: 0;left: 50%;z-index: 0;}#sk-container-id-4 div.sk-serial {display: flex;flex-direction: column;align-items: center;background-color: white;padding-right: 0.2em;padding-left: 0.2em;position: relative;}#sk-container-id-4 div.sk-item {position: relative;z-index: 1;}#sk-container-id-4 div.sk-parallel {display: flex;align-items: stretch;justify-content: center;background-color: white;position: relative;}#sk-container-id-4 div.sk-item::before, #sk-container-id-4 div.sk-parallel-item::before {content: \"\";position: absolute;border-left: 1px solid gray;box-sizing: border-box;top: 0;bottom: 0;left: 50%;z-index: -1;}#sk-container-id-4 div.sk-parallel-item {display: flex;flex-direction: column;z-index: 1;position: relative;background-color: white;}#sk-container-id-4 div.sk-parallel-item:first-child::after {align-self: flex-end;width: 50%;}#sk-container-id-4 div.sk-parallel-item:last-child::after {align-self: flex-start;width: 50%;}#sk-container-id-4 div.sk-parallel-item:only-child::after {width: 0;}#sk-container-id-4 div.sk-dashed-wrapped {border: 1px dashed gray;margin: 0 0.4em 0.5em 0.4em;box-sizing: border-box;padding-bottom: 0.4em;background-color: white;}#sk-container-id-4 div.sk-label label {font-family: monospace;font-weight: bold;display: inline-block;line-height: 1.2em;}#sk-container-id-4 div.sk-label-container {text-align: center;}#sk-container-id-4 div.sk-container {/* jupyter's `normalize.less` sets `[hidden] { display: none; }` but bootstrap.min.css set `[hidden] { display: none !important; }` so we also need the `!important` here to be able to override the default hidden behavior on the sphinx rendered scikit-learn.org. See: https://github.com/scikit-learn/scikit-learn/issues/21755 */display: inline-block !important;position: relative;}#sk-container-id-4 div.sk-text-repr-fallback {display: none;}</style><div id=\"sk-container-id-4\" class=\"sk-top-container\"><div class=\"sk-text-repr-fallback\"><pre>RandomizedSearchCV(cv=5, estimator=CategoricalNB(), n_iter=100,\n",
              "                   param_distributions={&#x27;alpha&#x27;: &lt;scipy.stats._distn_infrastructure.rv_continuous_frozen object at 0x7a54919db130&gt;})</pre><b>In a Jupyter environment, please rerun this cell to show the HTML representation or trust the notebook. <br />On GitHub, the HTML representation is unable to render, please try loading this page with nbviewer.org.</b></div><div class=\"sk-container\" hidden><div class=\"sk-item sk-dashed-wrapped\"><div class=\"sk-label-container\"><div class=\"sk-label sk-toggleable\"><input class=\"sk-toggleable__control sk-hidden--visually\" id=\"sk-estimator-id-10\" type=\"checkbox\" ><label for=\"sk-estimator-id-10\" class=\"sk-toggleable__label sk-toggleable__label-arrow\">RandomizedSearchCV</label><div class=\"sk-toggleable__content\"><pre>RandomizedSearchCV(cv=5, estimator=CategoricalNB(), n_iter=100,\n",
              "                   param_distributions={&#x27;alpha&#x27;: &lt;scipy.stats._distn_infrastructure.rv_continuous_frozen object at 0x7a54919db130&gt;})</pre></div></div></div><div class=\"sk-parallel\"><div class=\"sk-parallel-item\"><div class=\"sk-item\"><div class=\"sk-label-container\"><div class=\"sk-label sk-toggleable\"><input class=\"sk-toggleable__control sk-hidden--visually\" id=\"sk-estimator-id-11\" type=\"checkbox\" ><label for=\"sk-estimator-id-11\" class=\"sk-toggleable__label sk-toggleable__label-arrow\">estimator: CategoricalNB</label><div class=\"sk-toggleable__content\"><pre>CategoricalNB()</pre></div></div></div><div class=\"sk-serial\"><div class=\"sk-item\"><div class=\"sk-estimator sk-toggleable\"><input class=\"sk-toggleable__control sk-hidden--visually\" id=\"sk-estimator-id-12\" type=\"checkbox\" ><label for=\"sk-estimator-id-12\" class=\"sk-toggleable__label sk-toggleable__label-arrow\">CategoricalNB</label><div class=\"sk-toggleable__content\"><pre>CategoricalNB()</pre></div></div></div></div></div></div></div></div></div></div>"
            ]
          },
          "metadata": {},
          "execution_count": 28
        }
      ]
    },
    {
      "cell_type": "code",
      "source": [
        "best_alpha = random_search.best_params_['alpha']\n",
        "best_model = random_search.best_estimator_\n",
        "\n",
        "print(best_alpha)\n",
        "print(best_model)"
      ],
      "metadata": {
        "colab": {
          "base_uri": "https://localhost:8080/",
          "height": 0
        },
        "id": "YnncrQDGukuk",
        "outputId": "17df1e1b-444d-456a-cfe2-748c87770361"
      },
      "execution_count": 29,
      "outputs": [
        {
          "output_type": "stream",
          "name": "stdout",
          "text": [
            "66.4812576892365\n",
            "CategoricalNB(alpha=66.4812576892365)\n"
          ]
        }
      ]
    },
    {
      "cell_type": "markdown",
      "source": [
        "Use new parameters for model\n",
        "\n",
        "---\n",
        "\n"
      ],
      "metadata": {
        "id": "MdH4bs8VxNB4"
      }
    },
    {
      "cell_type": "code",
      "source": [
        "# Train a Gaussian Naive Bayes model for numerical columns\n",
        "gnb = GaussianNB()\n",
        "gnb = gnb.fit(train_df[numerical_columns].to_numpy(), train_df[target_column])\n",
        "\n",
        "# Train a Categorical Naive Bayes model for categorical columns\n",
        "cnb = CategoricalNB(alpha = 3\n",
        "                    #best_alpha\n",
        "                    )\n",
        "cnb = cnb.fit(train_df[categorical_columns].to_numpy(), train_df[target_column])\n",
        "\n",
        "# Get joint log probabilities for each model\n",
        "gnb_log_pred = gnb.predict_joint_log_proba(train_df[numerical_columns])\n",
        "cnb_log_pred = cnb.predict_joint_log_proba(train_df[categorical_columns])\n",
        "\n",
        "# Combine the log probabilities\n",
        "y_hat_prob = gnb_log_pred + cnb_log_pred\n",
        "\n",
        "# Convert log probabilities back to probabilities\n",
        "y_hat_prob = np.exp(y_hat_prob)\n",
        "y_hat_prob = y_hat_prob / y_hat_prob.sum(1, keepdims=True)  # normalize to get valid probabilities\n",
        "\n",
        "# Get the predicted class labels\n",
        "y_hat = np.argmax(y_hat_prob, axis=1)\n",
        "\n",
        "# Evaluate the combined model using custom functions\n",
        "conf_matrix, auc, acc, precision, recall, f1, class_report = get_scores(train_df[target_column], y_hat)\n",
        "print_scores(conf_matrix, auc, acc, precision, recall, f1, class_report)\n",
        "\n",
        "# Plot the ROC curve\n",
        "fpr, tpr, thresholds = roc_curve(train_df[target_column], y_hat_prob[:, 1])\n",
        "display = RocCurveDisplay(fpr=fpr, tpr=tpr, roc_auc=auc, estimator_name='Naive Bayes')\n",
        "display.plot()\n",
        "ax = plt.gca()\n",
        "ax.get_lines()[0].set_color('#9325c2')"
      ],
      "metadata": {
        "id": "F0qobyT4lom3",
        "colab": {
          "base_uri": "https://localhost:8080/",
          "height": 883
        },
        "outputId": "d29911b2-bb85-44bc-c49b-e1a83d679d6f"
      },
      "execution_count": 68,
      "outputs": [
        {
          "output_type": "stream",
          "name": "stdout",
          "text": [
            "Confusion Matrix:\n",
            "[[2196  648]\n",
            " [1179  787]]\n",
            "AUC :  0.5862285434667834\n",
            "Accuracy :  0.6201663201663201\n",
            "\n",
            "Precision:\n",
            "0.5484320557491289\n",
            "\n",
            "Recall:\n",
            "0.40030518819938965\n",
            "\n",
            "f1-score:\n",
            "0.46280505733607763\n",
            "\n",
            "Classification Report:\n",
            "              precision    recall  f1-score   support\n",
            "\n",
            "           0       0.65      0.77      0.71      2844\n",
            "           1       0.55      0.40      0.46      1966\n",
            "\n",
            "    accuracy                           0.62      4810\n",
            "   macro avg       0.60      0.59      0.58      4810\n",
            "weighted avg       0.61      0.62      0.61      4810\n",
            "\n"
          ]
        },
        {
          "output_type": "display_data",
          "data": {
            "text/plain": [
              "<Figure size 640x480 with 1 Axes>"
            ],
            "image/png": "[encoded data removed]"
          },
          "metadata": {}
        }
      ]
    },
    {
      "cell_type": "markdown",
      "source": [
        "Test on validation data\n",
        "\n",
        "---\n",
        "\n"
      ],
      "metadata": {
        "id": "Z5_UqmDTx8mp"
      }
    },
    {
      "cell_type": "code",
      "source": [
        "# Predicting probabilities and class labels for the validation data.\n",
        "y_hat_prob = cnb.predict_proba(valid_df[categorical_columns])\n",
        "y_hat = cnb.predict(valid_df[categorical_columns])\n",
        "\n",
        "# Evaluating the model's performance on the validation data using the previously defined scoring functions.\n",
        "conf_matrix, auc, acc, precision, recall, f1, class_report = get_scores(valid_df[target_column], y_hat)\n",
        "print_scores(conf_matrix, auc, acc, precision, recall, f1, class_report)\n",
        "\n",
        "# Plotting the ROC curve for the model's performance on the validation dataset.\n",
        "fpr, tpr, thresholds = roc_curve(valid_df[target_column], y_hat_prob[:, 1])\n",
        "display = RocCurveDisplay(fpr=fpr, tpr=tpr, roc_auc=auc, estimator_name='Naive Bayes')\n",
        "display.plot()\n",
        "ax = plt.gca()\n",
        "ax.get_lines()[0].set_color('#9325c2')"
      ],
      "metadata": {
        "id": "BpqeyWqzlqWi",
        "colab": {
          "base_uri": "https://localhost:8080/",
          "height": 883
        },
        "outputId": "3afba6e0-f78d-4693-cf2c-51925405d308"
      },
      "execution_count": 69,
      "outputs": [
        {
          "output_type": "stream",
          "name": "stdout",
          "text": [
            "Confusion Matrix:\n",
            "[[278 214]\n",
            " [100 210]]\n",
            "AUC :  0.6212300026226069\n",
            "Accuracy :  0.6084788029925187\n",
            "\n",
            "Precision:\n",
            "0.49528301886792453\n",
            "\n",
            "Recall:\n",
            "0.6774193548387096\n",
            "\n",
            "f1-score:\n",
            "0.5722070844686648\n",
            "\n",
            "Classification Report:\n",
            "              precision    recall  f1-score   support\n",
            "\n",
            "           0       0.74      0.57      0.64       492\n",
            "           1       0.50      0.68      0.57       310\n",
            "\n",
            "    accuracy                           0.61       802\n",
            "   macro avg       0.62      0.62      0.61       802\n",
            "weighted avg       0.64      0.61      0.61       802\n",
            "\n"
          ]
        },
        {
          "output_type": "display_data",
          "data": {
            "text/plain": [
              "<Figure size 640x480 with 1 Axes>"
            ],
            "image/png": "[encoded data removed]"
          },
          "metadata": {}
        }
      ]
    },
    {
      "cell_type": "markdown",
      "source": [
        "- model performance is worse after using best parameters\n",
        "- random search is faster but one caveat is that it might not find the absolute best parameters in some cases, because it doesn't try all combinations\n",
        "\n",
        "- continued to perform manual testing of smoothing parameters and highest AUC is alpha: 1-3\n",
        "- recall remains at 68% for all 3"
      ],
      "metadata": {
        "id": "bL04Sr-4yFHk"
      }
    },
    {
      "cell_type": "markdown",
      "source": [
        "Final test with Test data\n",
        "\n",
        "---\n",
        "\n"
      ],
      "metadata": {
        "id": "YYKuPsyuyocm"
      }
    },
    {
      "cell_type": "code",
      "source": [
        "# Predicting probabilities and class labels for the test data.\n",
        "y_hat_prob = cnb.predict_proba(test_df[categorical_columns])\n",
        "y_hat = cnb.predict(test_df[categorical_columns])\n",
        "\n",
        "# Evaluating the model's performance on the test data using the previously defined scoring functions.\n",
        "conf_matrix, auc, acc, precision, recall, f1, class_report = get_scores(test_df[target_column], y_hat)\n",
        "print_scores(conf_matrix, auc, acc, precision, recall, f1, class_report)\n",
        "\n",
        "# Plotting the ROC curve for the model's performance on the test dataset.\n",
        "fpr, tpr, thresholds = roc_curve(test_df[target_column], y_hat_prob[:, 1])\n",
        "display = RocCurveDisplay(fpr=fpr, tpr=tpr, roc_auc=auc, estimator_name='Naive Bayes')\n",
        "display.plot()\n",
        "ax = plt.gca()\n",
        "ax.get_lines()[0].set_color('#9325c2')"
      ],
      "metadata": {
        "colab": {
          "base_uri": "https://localhost:8080/",
          "height": 883
        },
        "id": "HcfN7fbOyn8Y",
        "outputId": "85d6f5d4-e237-4c8b-f9c8-237503de4de4"
      },
      "execution_count": 71,
      "outputs": [
        {
          "output_type": "stream",
          "name": "stdout",
          "text": [
            "Confusion Matrix:\n",
            "[[271 191]\n",
            " [107 233]]\n",
            "AUC :  0.6359371021135727\n",
            "Accuracy :  0.628428927680798\n",
            "\n",
            "Precision:\n",
            "0.5495283018867925\n",
            "\n",
            "Recall:\n",
            "0.6852941176470588\n",
            "\n",
            "f1-score:\n",
            "0.6099476439790575\n",
            "\n",
            "Classification Report:\n",
            "              precision    recall  f1-score   support\n",
            "\n",
            "           0       0.72      0.59      0.65       462\n",
            "           1       0.55      0.69      0.61       340\n",
            "\n",
            "    accuracy                           0.63       802\n",
            "   macro avg       0.63      0.64      0.63       802\n",
            "weighted avg       0.65      0.63      0.63       802\n",
            "\n"
          ]
        },
        {
          "output_type": "display_data",
          "data": {
            "text/plain": [
              "<Figure size 640x480 with 1 Axes>"
            ],
            "image/png": "[encoded data removed]"
          },
          "metadata": {}
        }
      ]
    },
    {
      "cell_type": "markdown",
      "source": [
        "- test performance was best"
      ],
      "metadata": {
        "id": "ssVFRogY4AA6"
      }
    }
  ]
}