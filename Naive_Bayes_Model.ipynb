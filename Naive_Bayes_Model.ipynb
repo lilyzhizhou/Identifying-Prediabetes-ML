{
  "nbformat": 4,
  "nbformat_minor": 0,
  "metadata": {
    "colab": {
      "provenance": [],
      "authorship_tag": "ABX9TyP9RJxOn8jM8XF2AAXRYJry",
      "include_colab_link": true
    },
    "kernelspec": {
      "name": "python3",
      "display_name": "Python 3"
    },
    "language_info": {
      "name": "python"
    }
  },
  "cells": [
    {
      "cell_type": "markdown",
      "metadata": {
        "id": "view-in-github",
        "colab_type": "text"
      },
      "source": [
        "<a href=\"https://colab.research.google.com/github/lilyzhizhou/ML-Final-Project/blob/main/Naive_Bayes_Model.ipynb\" target=\"_parent\"><img src=\"https://colab.research.google.com/assets/colab-badge.svg\" alt=\"Open In Colab\"/></a>"
      ]
    },
    {
      "cell_type": "code",
      "execution_count": 1,
      "metadata": {
        "id": "jVbsL8_y8L6e"
      },
      "outputs": [],
      "source": [
        "# Import libraries\n",
        "import pandas as pd\n",
        "pd.set_option('display.max_columns', None)\n",
        "import numpy as np\n",
        "import plotly.express as px\n",
        "import io\n",
        "import matplotlib.pyplot as plt\n",
        "from sklearn.model_selection import train_test_split, KFold, cross_val_score\n",
        "from sklearn.linear_model import LogisticRegression\n",
        "from sklearn.feature_selection import RFECV\n",
        "from sklearn.impute import SimpleImputer\n",
        "from sklearn.preprocessing import StandardScaler\n",
        "from sklearn.preprocessing import LabelEncoder\n",
        "from sklearn.preprocessing import OneHotEncoder\n",
        "from sklearn.naive_bayes import CategoricalNB, GaussianNB, MultinomialNB\n",
        "from sklearn.discriminant_analysis import LinearDiscriminantAnalysis, QuadraticDiscriminantAnalysis\n",
        "from sklearn.metrics import confusion_matrix, classification_report, roc_auc_score, roc_curve\n",
        "from sklearn.metrics import RocCurveDisplay, auc, accuracy_score, precision_score, recall_score, f1_score\n",
        "from sklearn.model_selection import GridSearchCV\n",
        "import seaborn as sns\n",
        "import statsmodels.api as sm\n",
        "import warnings\n",
        "\n",
        "warnings.filterwarnings('ignore')"
      ]
    },
    {
      "cell_type": "code",
      "source": [
        "from google.colab import drive\n",
        "drive.mount('/content/drive')"
      ],
      "metadata": {
        "colab": {
          "base_uri": "https://localhost:8080/"
        },
        "id": "Q1IN8SLn8Vnr",
        "outputId": "74d8a467-53a6-41a4-e1d8-b69a9a2f5009"
      },
      "execution_count": 2,
      "outputs": [
        {
          "output_type": "stream",
          "name": "stdout",
          "text": [
            "Mounted at /content/drive\n"
          ]
        }
      ]
    },
    {
      "cell_type": "code",
      "source": [
        "# Import Pre-Diabetes Data\n",
        "datapd = pd.read_csv('/content/drive/MyDrive/Machine Learning /Datathon #3/datapd.csv')\n",
        "\n",
        "# Drop Patient_ID\n",
        "datapd.drop('Patient_ID', axis = 1, inplace = True)\n",
        "datapd.drop('Unnamed: 0', axis = 1, inplace = True)\n",
        "\n",
        "print(datapd.shape)\n",
        "datapd.head()"
      ],
      "metadata": {
        "colab": {
          "base_uri": "https://localhost:8080/",
          "height": 224
        },
        "id": "h0voZelx8Yx4",
        "outputId": "fe327baa-52dd-44ea-acf2-665ca1b366d5"
      },
      "execution_count": 3,
      "outputs": [
        {
          "output_type": "stream",
          "name": "stdout",
          "text": [
            "(6414, 11)\n"
          ]
        },
        {
          "output_type": "execute_result",
          "data": {
            "text/plain": [
              "   predm  Age_at_Exam   BMI  Total_Cholesterol  Depression  HTN  OA  COPD  \\\n",
              "0      1           63  30.9                NaN           0    1   0     1   \n",
              "1      1           66  23.6               3.54           1    1   1     0   \n",
              "2      0           68  34.3               5.55           1    1   1     0   \n",
              "3      1           73  28.5               3.78           1    1   0     1   \n",
              "4      0           53  33.4               5.38           0    1   1     0   \n",
              "\n",
              "   corstrd_bin  htnmed_bin  Sex  \n",
              "0            0           1    1  \n",
              "1            0           1    1  \n",
              "2            0           1    0  \n",
              "3            1           1    0  \n",
              "4            1           1    0  "
            ],
            "text/html": [
              "\n",
              "  <div id=\"df-ad59467b-48c8-49bc-9d37-88e52460c950\" class=\"colab-df-container\">\n",
              "    <div>\n",
              "<style scoped>\n",
              "    .dataframe tbody tr th:only-of-type {\n",
              "        vertical-align: middle;\n",
              "    }\n",
              "\n",
              "    .dataframe tbody tr th {\n",
              "        vertical-align: top;\n",
              "    }\n",
              "\n",
              "    .dataframe thead th {\n",
              "        text-align: right;\n",
              "    }\n",
              "</style>\n",
              "<table border=\"1\" class=\"dataframe\">\n",
              "  <thead>\n",
              "    <tr style=\"text-align: right;\">\n",
              "      <th></th>\n",
              "      <th>predm</th>\n",
              "      <th>Age_at_Exam</th>\n",
              "      <th>BMI</th>\n",
              "      <th>Total_Cholesterol</th>\n",
              "      <th>Depression</th>\n",
              "      <th>HTN</th>\n",
              "      <th>OA</th>\n",
              "      <th>COPD</th>\n",
              "      <th>corstrd_bin</th>\n",
              "      <th>htnmed_bin</th>\n",
              "      <th>Sex</th>\n",
              "    </tr>\n",
              "  </thead>\n",
              "  <tbody>\n",
              "    <tr>\n",
              "      <th>0</th>\n",
              "      <td>1</td>\n",
              "      <td>63</td>\n",
              "      <td>30.9</td>\n",
              "      <td>NaN</td>\n",
              "      <td>0</td>\n",
              "      <td>1</td>\n",
              "      <td>0</td>\n",
              "      <td>1</td>\n",
              "      <td>0</td>\n",
              "      <td>1</td>\n",
              "      <td>1</td>\n",
              "    </tr>\n",
              "    <tr>\n",
              "      <th>1</th>\n",
              "      <td>1</td>\n",
              "      <td>66</td>\n",
              "      <td>23.6</td>\n",
              "      <td>3.54</td>\n",
              "      <td>1</td>\n",
              "      <td>1</td>\n",
              "      <td>1</td>\n",
              "      <td>0</td>\n",
              "      <td>0</td>\n",
              "      <td>1</td>\n",
              "      <td>1</td>\n",
              "    </tr>\n",
              "    <tr>\n",
              "      <th>2</th>\n",
              "      <td>0</td>\n",
              "      <td>68</td>\n",
              "      <td>34.3</td>\n",
              "      <td>5.55</td>\n",
              "      <td>1</td>\n",
              "      <td>1</td>\n",
              "      <td>1</td>\n",
              "      <td>0</td>\n",
              "      <td>0</td>\n",
              "      <td>1</td>\n",
              "      <td>0</td>\n",
              "    </tr>\n",
              "    <tr>\n",
              "      <th>3</th>\n",
              "      <td>1</td>\n",
              "      <td>73</td>\n",
              "      <td>28.5</td>\n",
              "      <td>3.78</td>\n",
              "      <td>1</td>\n",
              "      <td>1</td>\n",
              "      <td>0</td>\n",
              "      <td>1</td>\n",
              "      <td>1</td>\n",
              "      <td>1</td>\n",
              "      <td>0</td>\n",
              "    </tr>\n",
              "    <tr>\n",
              "      <th>4</th>\n",
              "      <td>0</td>\n",
              "      <td>53</td>\n",
              "      <td>33.4</td>\n",
              "      <td>5.38</td>\n",
              "      <td>0</td>\n",
              "      <td>1</td>\n",
              "      <td>1</td>\n",
              "      <td>0</td>\n",
              "      <td>1</td>\n",
              "      <td>1</td>\n",
              "      <td>0</td>\n",
              "    </tr>\n",
              "  </tbody>\n",
              "</table>\n",
              "</div>\n",
              "    <div class=\"colab-df-buttons\">\n",
              "\n",
              "  <div class=\"colab-df-container\">\n",
              "    <button class=\"colab-df-convert\" onclick=\"convertToInteractive('df-ad59467b-48c8-49bc-9d37-88e52460c950')\"\n",
              "            title=\"Convert this dataframe to an interactive table.\"\n",
              "            style=\"display:none;\">\n",
              "\n",
              "  <svg xmlns=\"http://www.w3.org/2000/svg\" height=\"24px\" viewBox=\"0 -960 960 960\">\n",
              "    <path d=\"M120-120v-720h720v720H120Zm60-500h600v-160H180v160Zm220 220h160v-160H400v160Zm0 220h160v-160H400v160ZM180-400h160v-160H180v160Zm440 0h160v-160H620v160ZM180-180h160v-160H180v160Zm440 0h160v-160H620v160Z\"/>\n",
              "  </svg>\n",
              "    </button>\n",
              "\n",
              "  <style>\n",
              "    .colab-df-container {\n",
              "      display:flex;\n",
              "      gap: 12px;\n",
              "    }\n",
              "\n",
              "    .colab-df-convert {\n",
              "      background-color: #E8F0FE;\n",
              "      border: none;\n",
              "      border-radius: 50%;\n",
              "      cursor: pointer;\n",
              "      display: none;\n",
              "      fill: #1967D2;\n",
              "      height: 32px;\n",
              "      padding: 0 0 0 0;\n",
              "      width: 32px;\n",
              "    }\n",
              "\n",
              "    .colab-df-convert:hover {\n",
              "      background-color: #E2EBFA;\n",
              "      box-shadow: 0px 1px 2px rgba(60, 64, 67, 0.3), 0px 1px 3px 1px rgba(60, 64, 67, 0.15);\n",
              "      fill: #174EA6;\n",
              "    }\n",
              "\n",
              "    .colab-df-buttons div {\n",
              "      margin-bottom: 4px;\n",
              "    }\n",
              "\n",
              "    [theme=dark] .colab-df-convert {\n",
              "      background-color: #3B4455;\n",
              "      fill: #D2E3FC;\n",
              "    }\n",
              "\n",
              "    [theme=dark] .colab-df-convert:hover {\n",
              "      background-color: #434B5C;\n",
              "      box-shadow: 0px 1px 3px 1px rgba(0, 0, 0, 0.15);\n",
              "      filter: drop-shadow(0px 1px 2px rgba(0, 0, 0, 0.3));\n",
              "      fill: #FFFFFF;\n",
              "    }\n",
              "  </style>\n",
              "\n",
              "    <script>\n",
              "      const buttonEl =\n",
              "        document.querySelector('#df-ad59467b-48c8-49bc-9d37-88e52460c950 button.colab-df-convert');\n",
              "      buttonEl.style.display =\n",
              "        google.colab.kernel.accessAllowed ? 'block' : 'none';\n",
              "\n",
              "      async function convertToInteractive(key) {\n",
              "        const element = document.querySelector('#df-ad59467b-48c8-49bc-9d37-88e52460c950');\n",
              "        const dataTable =\n",
              "          await google.colab.kernel.invokeFunction('convertToInteractive',\n",
              "                                                    [key], {});\n",
              "        if (!dataTable) return;\n",
              "\n",
              "        const docLinkHtml = 'Like what you see? Visit the ' +\n",
              "          '<a target=\"_blank\" href=https://colab.research.google.com/notebooks/data_table.ipynb>data table notebook</a>'\n",
              "          + ' to learn more about interactive tables.';\n",
              "        element.innerHTML = '';\n",
              "        dataTable['output_type'] = 'display_data';\n",
              "        await google.colab.output.renderOutput(dataTable, element);\n",
              "        const docLink = document.createElement('div');\n",
              "        docLink.innerHTML = docLinkHtml;\n",
              "        element.appendChild(docLink);\n",
              "      }\n",
              "    </script>\n",
              "  </div>\n",
              "\n",
              "\n",
              "<div id=\"df-68a3c2f6-9a64-4cb0-b1a5-545e49fcbe30\">\n",
              "  <button class=\"colab-df-quickchart\" onclick=\"quickchart('df-68a3c2f6-9a64-4cb0-b1a5-545e49fcbe30')\"\n",
              "            title=\"Suggest charts\"\n",
              "            style=\"display:none;\">\n",
              "\n",
              "<svg xmlns=\"http://www.w3.org/2000/svg\" height=\"24px\"viewBox=\"0 0 24 24\"\n",
              "     width=\"24px\">\n",
              "    <g>\n",
              "        <path d=\"M19 3H5c-1.1 0-2 .9-2 2v14c0 1.1.9 2 2 2h14c1.1 0 2-.9 2-2V5c0-1.1-.9-2-2-2zM9 17H7v-7h2v7zm4 0h-2V7h2v10zm4 0h-2v-4h2v4z\"/>\n",
              "    </g>\n",
              "</svg>\n",
              "  </button>\n",
              "\n",
              "<style>\n",
              "  .colab-df-quickchart {\n",
              "      --bg-color: #E8F0FE;\n",
              "      --fill-color: #1967D2;\n",
              "      --hover-bg-color: #E2EBFA;\n",
              "      --hover-fill-color: #174EA6;\n",
              "      --disabled-fill-color: #AAA;\n",
              "      --disabled-bg-color: #DDD;\n",
              "  }\n",
              "\n",
              "  [theme=dark] .colab-df-quickchart {\n",
              "      --bg-color: #3B4455;\n",
              "      --fill-color: #D2E3FC;\n",
              "      --hover-bg-color: #434B5C;\n",
              "      --hover-fill-color: #FFFFFF;\n",
              "      --disabled-bg-color: #3B4455;\n",
              "      --disabled-fill-color: #666;\n",
              "  }\n",
              "\n",
              "  .colab-df-quickchart {\n",
              "    background-color: var(--bg-color);\n",
              "    border: none;\n",
              "    border-radius: 50%;\n",
              "    cursor: pointer;\n",
              "    display: none;\n",
              "    fill: var(--fill-color);\n",
              "    height: 32px;\n",
              "    padding: 0;\n",
              "    width: 32px;\n",
              "  }\n",
              "\n",
              "  .colab-df-quickchart:hover {\n",
              "    background-color: var(--hover-bg-color);\n",
              "    box-shadow: 0 1px 2px rgba(60, 64, 67, 0.3), 0 1px 3px 1px rgba(60, 64, 67, 0.15);\n",
              "    fill: var(--button-hover-fill-color);\n",
              "  }\n",
              "\n",
              "  .colab-df-quickchart-complete:disabled,\n",
              "  .colab-df-quickchart-complete:disabled:hover {\n",
              "    background-color: var(--disabled-bg-color);\n",
              "    fill: var(--disabled-fill-color);\n",
              "    box-shadow: none;\n",
              "  }\n",
              "\n",
              "  .colab-df-spinner {\n",
              "    border: 2px solid var(--fill-color);\n",
              "    border-color: transparent;\n",
              "    border-bottom-color: var(--fill-color);\n",
              "    animation:\n",
              "      spin 1s steps(1) infinite;\n",
              "  }\n",
              "\n",
              "  @keyframes spin {\n",
              "    0% {\n",
              "      border-color: transparent;\n",
              "      border-bottom-color: var(--fill-color);\n",
              "      border-left-color: var(--fill-color);\n",
              "    }\n",
              "    20% {\n",
              "      border-color: transparent;\n",
              "      border-left-color: var(--fill-color);\n",
              "      border-top-color: var(--fill-color);\n",
              "    }\n",
              "    30% {\n",
              "      border-color: transparent;\n",
              "      border-left-color: var(--fill-color);\n",
              "      border-top-color: var(--fill-color);\n",
              "      border-right-color: var(--fill-color);\n",
              "    }\n",
              "    40% {\n",
              "      border-color: transparent;\n",
              "      border-right-color: var(--fill-color);\n",
              "      border-top-color: var(--fill-color);\n",
              "    }\n",
              "    60% {\n",
              "      border-color: transparent;\n",
              "      border-right-color: var(--fill-color);\n",
              "    }\n",
              "    80% {\n",
              "      border-color: transparent;\n",
              "      border-right-color: var(--fill-color);\n",
              "      border-bottom-color: var(--fill-color);\n",
              "    }\n",
              "    90% {\n",
              "      border-color: transparent;\n",
              "      border-bottom-color: var(--fill-color);\n",
              "    }\n",
              "  }\n",
              "</style>\n",
              "\n",
              "  <script>\n",
              "    async function quickchart(key) {\n",
              "      const quickchartButtonEl =\n",
              "        document.querySelector('#' + key + ' button');\n",
              "      quickchartButtonEl.disabled = true;  // To prevent multiple clicks.\n",
              "      quickchartButtonEl.classList.add('colab-df-spinner');\n",
              "      try {\n",
              "        const charts = await google.colab.kernel.invokeFunction(\n",
              "            'suggestCharts', [key], {});\n",
              "      } catch (error) {\n",
              "        console.error('Error during call to suggestCharts:', error);\n",
              "      }\n",
              "      quickchartButtonEl.classList.remove('colab-df-spinner');\n",
              "      quickchartButtonEl.classList.add('colab-df-quickchart-complete');\n",
              "    }\n",
              "    (() => {\n",
              "      let quickchartButtonEl =\n",
              "        document.querySelector('#df-68a3c2f6-9a64-4cb0-b1a5-545e49fcbe30 button');\n",
              "      quickchartButtonEl.style.display =\n",
              "        google.colab.kernel.accessAllowed ? 'block' : 'none';\n",
              "    })();\n",
              "  </script>\n",
              "</div>\n",
              "    </div>\n",
              "  </div>\n"
            ]
          },
          "metadata": {},
          "execution_count": 3
        }
      ]
    },
    {
      "cell_type": "code",
      "source": [
        "datapd.dtypes"
      ],
      "metadata": {
        "colab": {
          "base_uri": "https://localhost:8080/"
        },
        "id": "Fqyb6FykKKNO",
        "outputId": "a785c3e3-6e3c-487e-a456-c45c3fe3a766"
      },
      "execution_count": null,
      "outputs": [
        {
          "output_type": "execute_result",
          "data": {
            "text/plain": [
              "predm                  int64\n",
              "Age_at_Exam            int64\n",
              "BMI                  float64\n",
              "Total_Cholesterol    float64\n",
              "Depression             int64\n",
              "HTN                    int64\n",
              "OA                     int64\n",
              "COPD                   int64\n",
              "corstrd_bin            int64\n",
              "htnmed_bin             int64\n",
              "Sex                    int64\n",
              "dtype: object"
            ]
          },
          "metadata": {},
          "execution_count": 4
        }
      ]
    },
    {
      "cell_type": "code",
      "source": [
        "# Look for NA values\n",
        "print(datapd.isnull().sum())"
      ],
      "metadata": {
        "colab": {
          "base_uri": "https://localhost:8080/"
        },
        "id": "jIGJ-eFm8wRV",
        "outputId": "5c662f96-071e-4000-bb02-adb5750ef6a7"
      },
      "execution_count": null,
      "outputs": [
        {
          "output_type": "stream",
          "name": "stdout",
          "text": [
            "predm                  0\n",
            "Age_at_Exam            0\n",
            "BMI                    0\n",
            "Total_Cholesterol    152\n",
            "Depression             0\n",
            "HTN                    0\n",
            "OA                     0\n",
            "COPD                   0\n",
            "corstrd_bin            0\n",
            "htnmed_bin             0\n",
            "Sex                    0\n",
            "dtype: int64\n"
          ]
        }
      ]
    },
    {
      "cell_type": "markdown",
      "source": [
        "Separate data into continuous and categorical variables\n",
        "\n",
        "---\n",
        "\n"
      ],
      "metadata": {
        "id": "UZqbPorSFtQE"
      }
    },
    {
      "cell_type": "code",
      "source": [
        "target_column = 'predm'\n",
        "categorical_columns = ['Depression', 'HTN','OA', 'COPD', 'Sex','corstrd_bin','htnmed_bin']\n",
        "#multinomial_columns = [] there are none\n",
        "numerical_columns = ['Age_at_Exam','BMI','Total_Cholesterol']"
      ],
      "metadata": {
        "id": "vVqbpoRyCs8z"
      },
      "execution_count": 4,
      "outputs": []
    },
    {
      "cell_type": "markdown",
      "source": [
        "Split Data\n",
        "\n",
        "---\n",
        "\n"
      ],
      "metadata": {
        "id": "kLPFXA9E_bqD"
      }
    },
    {
      "cell_type": "code",
      "source": [
        "# Splitting the original dataset into training, validation, and test sets\n",
        "\n",
        "# Taking 70% of the data for training\n",
        "train_df = datapd.sample(frac = 0.75)\n",
        "\n",
        "# Removing the training data from the original dataset to get the combined validation and test data\n",
        "test_df = datapd.drop(train_df.index)\n",
        "\n",
        "# Splitting the combined validation and test data into two equal parts for validation and testing, respectively\n",
        "valid_df = test_df.sample(frac = 0.5)\n",
        "test_df = test_df.drop(valid_df.index)"
      ],
      "metadata": {
        "id": "ZsWUnbmw836O"
      },
      "execution_count": 5,
      "outputs": []
    },
    {
      "cell_type": "code",
      "source": [
        "# Impute Missing Values\n",
        "imputer = SimpleImputer(strategy='median')\n",
        "train_df[numerical_columns] = imputer.fit_transform(train_df[numerical_columns])\n",
        "valid_df[numerical_columns] = imputer.fit_transform(valid_df[numerical_columns])\n",
        "test_df[numerical_columns] = imputer.fit_transform(test_df[numerical_columns])\n",
        "\n",
        "# Selected median bc it works well with skewed continuous data and is less sensitive to outliers and overfitting"
      ],
      "metadata": {
        "id": "cGl6Fh8rGtym"
      },
      "execution_count": 6,
      "outputs": []
    },
    {
      "cell_type": "code",
      "source": [
        "# Normalize Data\n",
        "scaler = StandardScaler()\n",
        "train_df[numerical_columns] = scaler.fit_transform(train_df[numerical_columns])\n",
        "valid_df[numerical_columns] = scaler.fit_transform(valid_df[numerical_columns])"
      ],
      "metadata": {
        "id": "U_D5QGO8HRc0"
      },
      "execution_count": 7,
      "outputs": []
    },
    {
      "cell_type": "code",
      "source": [
        "# Convert continuous vars from float64 to int64\n",
        "train_df[numerical_columns] = train_df[numerical_columns].astype('int64')\n",
        "valid_df[numerical_columns] = valid_df[numerical_columns].astype('int64')\n",
        "\n",
        "test_df = test_df.dropna() # drop na values\n",
        "test_df[numerical_columns] = test_df[numerical_columns].astype('int64')"
      ],
      "metadata": {
        "id": "jMuBxhIzKrEv"
      },
      "execution_count": 8,
      "outputs": []
    },
    {
      "cell_type": "markdown",
      "source": [
        "Fit Model\n",
        "\n",
        "---\n",
        "\n"
      ],
      "metadata": {
        "id": "wTsBGA7iHf6x"
      }
    },
    {
      "cell_type": "code",
      "source": [
        "# Define a function to compute various scores for model evaluation\n",
        "def get_scores(Y_pred, Y):\n",
        "    # Calculate confusion matrix, classification report, ROC AUC, accuracy, recall, precision, fi\n",
        "    conf_matrix = confusion_matrix(Y_pred, Y)\n",
        "    auc = roc_auc_score(Y_pred, Y)\n",
        "    acc = accuracy_score(Y_pred, Y)\n",
        "    precision = precision_score(Y_pred, Y)\n",
        "    recall = recall_score(Y_pred, Y)\n",
        "    f1 = f1_score(Y_pred, Y)\n",
        "    class_report = classification_report(Y_pred, Y)\n",
        "\n",
        "    # Return the computed scores\n",
        "    return conf_matrix, auc, acc, precision, recall, f1, class_report\n",
        "\n",
        "# Define a function to print the computed scores\n",
        "def print_scores(conf_matrix, auc, acc, precision, recall, f1, class_report):\n",
        "    print(\"Confusion Matrix:\")\n",
        "    print(conf_matrix)\n",
        "    print('AUC : ', auc)\n",
        "    print('Accuracy : ', acc)\n",
        "    print(\"\\nPrecision:\")\n",
        "    print(precision)\n",
        "    print(\"\\nRecall:\")\n",
        "    print(recall)\n",
        "    print(\"\\nf1-score:\")\n",
        "    print(f1)\n",
        "    print(\"\\nClassification Report:\")\n",
        "    print(class_report)"
      ],
      "metadata": {
        "id": "Q0SKfU290DO3"
      },
      "execution_count": 9,
      "outputs": []
    },
    {
      "cell_type": "code",
      "source": [
        "# Train a Gaussian Naive Bayes model for numerical columns\n",
        "gnb = GaussianNB()\n",
        "gnb = gnb.fit(train_df[numerical_columns].to_numpy(), train_df[target_column])\n",
        "\n",
        "# Train a Categorical Naive Bayes model for categorical columns\n",
        "cnb = CategoricalNB(alpha = 1)\n",
        "cnb = cnb.fit(train_df[categorical_columns].to_numpy(), train_df[target_column])\n",
        "\n",
        "# Get joint log probabilities for each model\n",
        "gnb_log_pred = gnb.predict_joint_log_proba(train_df[numerical_columns])\n",
        "cnb_log_pred = cnb.predict_joint_log_proba(train_df[categorical_columns])\n",
        "\n",
        "# Combine the log probabilities\n",
        "y_hat_prob = gnb_log_pred + cnb_log_pred\n",
        "\n",
        "# Convert log probabilities back to probabilities\n",
        "y_hat_prob = np.exp(y_hat_prob)\n",
        "y_hat_prob = y_hat_prob / y_hat_prob.sum(1, keepdims=True)  # normalize to get valid probabilities\n",
        "\n",
        "# Get the predicted class labels\n",
        "y_hat = np.argmax(y_hat_prob, axis=1)\n",
        "\n",
        "# Evaluate the combined model using custom functions\n",
        "# conf_matrix, class_report, auc, acc = get_scores(train_df[target_column], y_hat)\n",
        "conf_matrix, auc, acc, precision, recall, f1, class_report = get_scores(train_df[target_column], y_hat)\n",
        "print_scores(conf_matrix, auc, acc, precision, recall, f1, class_report)\n",
        "\n",
        "# Plot the ROC curve\n",
        "fpr, tpr, thresholds = roc_curve(train_df[target_column], y_hat_prob[:, 1])\n",
        "display = RocCurveDisplay(fpr=fpr, tpr=tpr, roc_auc=auc, estimator_name='Naive Bayes')\n",
        "display.plot()\n",
        "ax = plt.gca()\n",
        "ax.get_lines()[0].set_color('#9325c2')"
      ],
      "metadata": {
        "colab": {
          "base_uri": "https://localhost:8080/",
          "height": 895
        },
        "id": "qsMUAbbNGj1Y",
        "outputId": "69cacf8b-8867-445e-e386-eb20ddc5951e"
      },
      "execution_count": null,
      "outputs": [
        {
          "output_type": "stream",
          "name": "stdout",
          "text": [
            "Confusion Matrix:\n",
            "[[2053  809]\n",
            " [1032  916]]\n",
            "AUC :  0.5937782053875967\n",
            "Accuracy :  0.6172557172557173\n",
            "\n",
            "Precision:\n",
            "0.5310144927536232\n",
            "\n",
            "Recall:\n",
            "0.4702258726899384\n",
            "\n",
            "f1-score:\n",
            "0.4987748434522189\n",
            "\n",
            "Classification Report:\n",
            "              precision    recall  f1-score   support\n",
            "\n",
            "           0       0.67      0.72      0.69      2862\n",
            "           1       0.53      0.47      0.50      1948\n",
            "\n",
            "    accuracy                           0.62      4810\n",
            "   macro avg       0.60      0.59      0.59      4810\n",
            "weighted avg       0.61      0.62      0.61      4810\n",
            "\n"
          ]
        },
        {
          "output_type": "display_data",
          "data": {
            "text/plain": [
              "<Figure size 640x480 with 1 Axes>"
            ],
            "image/png": "[encoded data removed]"
          },
          "metadata": {}
        }
      ]
    },
    {
      "cell_type": "markdown",
      "source": [
        "Evaluating the Model on Validation Data\n",
        "\n",
        "---\n",
        "\n"
      ],
      "metadata": {
        "id": "Inid0gpFxAaU"
      }
    },
    {
      "cell_type": "code",
      "source": [
        "# Predict the joint log probabilities for each model on validation data\n",
        "gnb_log_pred = gnb.predict_joint_log_proba(valid_df[numerical_columns])\n",
        "cnb_log_pred = cnb.predict_joint_log_proba(valid_df[categorical_columns])\n",
        "\n",
        "# Combine the log probabilities\n",
        "y_hat_prob = gnb_log_pred + cnb_log_pred\n",
        "\n",
        "# Convert log probabilities back to probabilities\n",
        "y_hat_prob = np.exp(y_hat_prob)\n",
        "y_hat_prob = y_hat_prob / y_hat_prob.sum(1, keepdims=True)  # normalize to get valid probabilities\n",
        "\n",
        "# Get the predicted class labels for validation data\n",
        "y_hat = np.argmax(y_hat_prob, axis=1)\n",
        "\n",
        "# Evaluate the combined model on validation data using custom functions\n",
        "conf_matrix, auc, acc, precision, recall, f1, class_report = get_scores(valid_df[target_column], y_hat)\n",
        "print_scores(conf_matrix, auc, acc, precision, recall, f1, class_report)\n",
        "\n",
        "# Plot the ROC curve for validation data\n",
        "fpr, tpr, thresholds = roc_curve(valid_df[target_column], y_hat_prob[:, 1])\n",
        "display = RocCurveDisplay(fpr=fpr, tpr=tpr, roc_auc=auc, estimator_name='Naive Bayes')\n",
        "display.plot()\n",
        "ax = plt.gca()\n",
        "ax.get_lines()[0].set_color('#9325c2')"
      ],
      "metadata": {
        "colab": {
          "base_uri": "https://localhost:8080/",
          "height": 895
        },
        "id": "ZQc-VPJiw-g_",
        "outputId": "19ce02ae-c848-47fa-e35c-1444d426e4b4"
      },
      "execution_count": null,
      "outputs": [
        {
          "output_type": "stream",
          "name": "stdout",
          "text": [
            "Confusion Matrix:\n",
            "[[336 132]\n",
            " [162 172]]\n",
            "AUC :  0.6164593889144786\n",
            "Accuracy :  0.6334164588528678\n",
            "\n",
            "Precision:\n",
            "0.5657894736842105\n",
            "\n",
            "Recall:\n",
            "0.5149700598802395\n",
            "\n",
            "f1-score:\n",
            "0.5391849529780564\n",
            "\n",
            "Classification Report:\n",
            "              precision    recall  f1-score   support\n",
            "\n",
            "           0       0.67      0.72      0.70       468\n",
            "           1       0.57      0.51      0.54       334\n",
            "\n",
            "    accuracy                           0.63       802\n",
            "   macro avg       0.62      0.62      0.62       802\n",
            "weighted avg       0.63      0.63      0.63       802\n",
            "\n"
          ]
        },
        {
          "output_type": "display_data",
          "data": {
            "text/plain": [
              "<Figure size 640x480 with 1 Axes>"
            ],
            "image/png": "[encoded data removed]"
          },
          "metadata": {}
        }
      ]
    },
    {
      "cell_type": "markdown",
      "source": [
        "Tune paramaters using gridsearch\n",
        "\n",
        "---\n",
        "\n"
      ],
      "metadata": {
        "id": "KhNeh8uokrfi"
      }
    },
    {
      "cell_type": "code",
      "source": [
        "# for categorical variables\n",
        "from sklearn.model_selection import GridSearchCV\n",
        "\n",
        "param_grid = {'alpha': [i for i in range(0, 100)]}\n",
        "\n",
        "grid_search = GridSearchCV(estimator=CategoricalNB(), param_grid=param_grid, cv=10)\n",
        "\n",
        "grid_search.fit(train_df[categorical_columns].to_numpy(), train_df[target_column])\n",
        "\n",
        "best_alpha = grid_search.best_params_['alpha']\n",
        "print(best_alpha)"
      ],
      "metadata": {
        "colab": {
          "base_uri": "https://localhost:8080/"
        },
        "id": "lZZX_3FvQz6W",
        "outputId": "1d133603-04ec-4927-f2a4-cb1b29d9f480"
      },
      "execution_count": 33,
      "outputs": [
        {
          "output_type": "stream",
          "name": "stdout",
          "text": [
            "78\n"
          ]
        }
      ]
    },
    {
      "cell_type": "code",
      "source": [
        "# for continuous variables\n",
        "param_grid = {'var_smoothing': np.logspace(0,50,100)}\n",
        "\n",
        "grid_search = GridSearchCV(GaussianNB(), param_grid, cv=5, scoring='roc_auc', return_train_score=True)\n",
        "\n",
        "grid_search.fit(train_df[categorical_columns].to_numpy(), train_df[target_column])\n",
        "\n",
        "# Extracting best parameter and its corresponding AUC score on training data\n",
        "best_var_smoothing = grid_search.best_params_['var_smoothing']\n",
        "\n",
        "print(best_var_smoothing)"
      ],
      "metadata": {
        "colab": {
          "base_uri": "https://localhost:8080/"
        },
        "id": "1rlc5I2UUGvU",
        "outputId": "74d7ffa2-0dbf-4cce-a061-d1a1fcd56284"
      },
      "execution_count": 36,
      "outputs": [
        {
          "output_type": "stream",
          "name": "stdout",
          "text": [
            "3.1992671377973836\n"
          ]
        }
      ]
    },
    {
      "cell_type": "markdown",
      "source": [
        "- Will not be including as accuracy decreased"
      ],
      "metadata": {
        "id": "_Gbe9XuuW7St"
      }
    },
    {
      "cell_type": "markdown",
      "source": [
        "Use new parameters for model\n",
        "\n",
        "---\n",
        "\n"
      ],
      "metadata": {
        "id": "MdH4bs8VxNB4"
      }
    },
    {
      "cell_type": "code",
      "source": [
        "# Train a Gaussian Naive Bayes model for numerical columns\n",
        "gnb = GaussianNB() #var_smoothing = best_var_smoothing)\n",
        "gnb = gnb.fit(train_df[numerical_columns].to_numpy(), train_df[target_column])\n",
        "\n",
        "# Train a Categorical Naive Bayes model for categorical columns\n",
        "cnb = CategoricalNB(alpha = best_alpha)\n",
        "cnb = cnb.fit(train_df[categorical_columns].to_numpy(), train_df[target_column])\n",
        "\n",
        "# Get joint log probabilities for each model\n",
        "gnb_log_pred = gnb.predict_joint_log_proba(train_df[numerical_columns])\n",
        "cnb_log_pred = cnb.predict_joint_log_proba(train_df[categorical_columns])\n",
        "\n",
        "# Combine the log probabilities\n",
        "y_hat_prob = gnb_log_pred + cnb_log_pred\n",
        "\n",
        "# Convert log probabilities back to probabilities\n",
        "y_hat_prob = np.exp(y_hat_prob)\n",
        "y_hat_prob = y_hat_prob / y_hat_prob.sum(1, keepdims=True)  # normalize to get valid probabilities\n",
        "\n",
        "# Get the predicted class labels\n",
        "y_hat = np.argmax(y_hat_prob, axis=1)\n",
        "\n",
        "# Evaluate the combined model using custom functions\n",
        "conf_matrix, auc, acc, precision, recall, f1, class_report = get_scores(train_df[target_column], y_hat)\n",
        "print_scores(conf_matrix, auc, acc, precision, recall, f1, class_report)\n",
        "\n",
        "# Plot the ROC curve\n",
        "fpr, tpr, thresholds = roc_curve(train_df[target_column], y_hat_prob[:, 1])\n",
        "display = RocCurveDisplay(fpr=fpr, tpr=tpr, roc_auc=auc, estimator_name='Naive Bayes')\n",
        "display.plot()\n",
        "ax = plt.gca()\n",
        "ax.get_lines()[0].set_color('#9325c2')"
      ],
      "metadata": {
        "id": "F0qobyT4lom3",
        "colab": {
          "base_uri": "https://localhost:8080/",
          "height": 883
        },
        "outputId": "fb60aa60-3dc0-4a60-8191-f3597d477659"
      },
      "execution_count": 44,
      "outputs": [
        {
          "output_type": "stream",
          "name": "stdout",
          "text": [
            "Confusion Matrix:\n",
            "[[2139  703]\n",
            " [1149  819]]\n",
            "AUC :  0.58439876160725\n",
            "Accuracy :  0.614968814968815\n",
            "\n",
            "Precision:\n",
            "0.538107752956636\n",
            "\n",
            "Recall:\n",
            "0.41615853658536583\n",
            "\n",
            "f1-score:\n",
            "0.4693409742120344\n",
            "\n",
            "Classification Report:\n",
            "              precision    recall  f1-score   support\n",
            "\n",
            "           0       0.65      0.75      0.70      2842\n",
            "           1       0.54      0.42      0.47      1968\n",
            "\n",
            "    accuracy                           0.61      4810\n",
            "   macro avg       0.59      0.58      0.58      4810\n",
            "weighted avg       0.60      0.61      0.60      4810\n",
            "\n"
          ]
        },
        {
          "output_type": "display_data",
          "data": {
            "text/plain": [
              "<Figure size 640x480 with 1 Axes>"
            ],
            "image/png": "[encoded data removed]"
          },
          "metadata": {}
        }
      ]
    },
    {
      "cell_type": "markdown",
      "source": [
        "Test on validation data\n",
        "\n",
        "---\n",
        "\n"
      ],
      "metadata": {
        "id": "Z5_UqmDTx8mp"
      }
    },
    {
      "cell_type": "code",
      "source": [
        "# Predict the joint log probabilities for each model on validation data\n",
        "gnb_log_pred = gnb.predict_joint_log_proba(valid_df[numerical_columns])\n",
        "cnb_log_pred = cnb.predict_joint_log_proba(valid_df[categorical_columns])\n",
        "\n",
        "# Combine the log probabilities, adjusting for the multiplication of P(Y) term\n",
        "y_hat_prob = gnb_log_pred + cnb_log_pred\n",
        "\n",
        "# Convert log probabilities back to probabilities\n",
        "y_hat_prob = np.exp(y_hat_prob)\n",
        "y_hat_prob = y_hat_prob / y_hat_prob.sum(1, keepdims=True)  # normalize to get valid probabilities\n",
        "\n",
        "# Get the predicted class labels for validation data\n",
        "y_hat = np.argmax(y_hat_prob, axis=1)\n",
        "\n",
        "# Evaluate the combined model on validation data using custom functions\n",
        "conf_matrix, auc, acc, precision, recall, f1, class_report = get_scores(valid_df[target_column], y_hat)\n",
        "print_scores(conf_matrix, auc, acc, precision, recall, f1, class_report)\n",
        "\n",
        "\n",
        "# Plot the ROC curve for validation data\n",
        "fpr, tpr, thresholds = roc_curve(valid_df[target_column], y_hat_prob[:, 1])\n",
        "display = RocCurveDisplay(fpr=fpr, tpr=tpr, roc_auc=auc, estimator_name='Naive Bayes')\n",
        "display.plot()\n",
        "ax = plt.gca()\n",
        "ax.get_lines()[0].set_color('#9325c2')"
      ],
      "metadata": {
        "id": "BpqeyWqzlqWi",
        "colab": {
          "base_uri": "https://localhost:8080/",
          "height": 883
        },
        "outputId": "d2a0376b-042c-4517-9113-90798f00b8f1"
      },
      "execution_count": 43,
      "outputs": [
        {
          "output_type": "stream",
          "name": "stdout",
          "text": [
            "Confusion Matrix:\n",
            "[[382 103]\n",
            " [175 142]]\n",
            "AUC :  0.6177891963966308\n",
            "Accuracy :  0.6533665835411472\n",
            "\n",
            "Precision:\n",
            "0.5795918367346938\n",
            "\n",
            "Recall:\n",
            "0.4479495268138801\n",
            "\n",
            "f1-score:\n",
            "0.505338078291815\n",
            "\n",
            "Classification Report:\n",
            "              precision    recall  f1-score   support\n",
            "\n",
            "           0       0.69      0.79      0.73       485\n",
            "           1       0.58      0.45      0.51       317\n",
            "\n",
            "    accuracy                           0.65       802\n",
            "   macro avg       0.63      0.62      0.62       802\n",
            "weighted avg       0.64      0.65      0.64       802\n",
            "\n"
          ]
        },
        {
          "output_type": "display_data",
          "data": {
            "text/plain": [
              "<Figure size 640x480 with 1 Axes>"
            ],
            "image/png": "[encoded data removed]"
          },
          "metadata": {}
        }
      ]
    },
    {
      "cell_type": "markdown",
      "source": [
        "- validation accuracy increased but training accuracy was lower after using best param"
      ],
      "metadata": {
        "id": "Bd0li5CXSvl8"
      }
    },
    {
      "cell_type": "markdown",
      "source": [
        "Final test with Test data\n",
        "\n",
        "---\n",
        "\n"
      ],
      "metadata": {
        "id": "YYKuPsyuyocm"
      }
    },
    {
      "cell_type": "code",
      "source": [
        "# Predict the joint log probabilities for each model on validation data\n",
        "gnb_log_pred = gnb.predict_joint_log_proba(test_df[numerical_columns])\n",
        "cnb_log_pred = cnb.predict_joint_log_proba(test_df[categorical_columns])\n",
        "\n",
        "# Combine the log probabilities, adjusting for the multiplication of P(Y) term\n",
        "y_hat_prob = gnb_log_pred + cnb_log_pred\n",
        "\n",
        "# Convert log probabilities back to probabilities\n",
        "y_hat_prob = np.exp(y_hat_prob)\n",
        "y_hat_prob = y_hat_prob / y_hat_prob.sum(1, keepdims=True)  # normalize to get valid probabilities\n",
        "\n",
        "# Get the predicted class labels for validation data\n",
        "y_hat = np.argmax(y_hat_prob, axis=1)\n",
        "\n",
        "# Evaluate the combined model on validation data using custom functions\n",
        "conf_matrix, auc, acc, precision, recall, f1, class_report = get_scores(test_df[target_column], y_hat)\n",
        "print_scores(conf_matrix, auc, acc, precision, recall, f1, class_report)\n",
        "\n",
        "\n",
        "# Plot the ROC curve for validation data\n",
        "fpr, tpr, thresholds = roc_curve(test_df[target_column], y_hat_prob[:, 1])\n",
        "display = RocCurveDisplay(fpr=fpr, tpr=tpr, roc_auc=auc, estimator_name='Naive Bayes')\n",
        "display.plot()\n",
        "ax = plt.gca()\n",
        "ax.get_lines()[0].set_color('#9325c2')"
      ],
      "metadata": {
        "colab": {
          "base_uri": "https://localhost:8080/",
          "height": 825
        },
        "id": "H7izYRzCXEYu",
        "outputId": "758df545-9e8b-43e9-9060-98dc67a1230e"
      },
      "execution_count": 45,
      "outputs": [
        {
          "output_type": "stream",
          "name": "stdout",
          "text": [
            "Confusion Matrix:\n",
            "[[471   0]\n",
            " [331   0]]\n",
            "AUC :  0.5\n",
            "Accuracy :  0.587281795511222\n",
            "\n",
            "Precision:\n",
            "0.0\n",
            "\n",
            "Recall:\n",
            "0.0\n",
            "\n",
            "f1-score:\n",
            "0.0\n",
            "\n",
            "Classification Report:\n",
            "              precision    recall  f1-score   support\n",
            "\n",
            "           0       0.59      1.00      0.74       471\n",
            "           1       0.00      0.00      0.00       331\n",
            "\n",
            "    accuracy                           0.59       802\n",
            "   macro avg       0.29      0.50      0.37       802\n",
            "weighted avg       0.34      0.59      0.43       802\n",
            "\n"
          ]
        },
        {
          "output_type": "error",
          "ename": "ValueError",
          "evalue": "ignored",
          "traceback": [
            "\u001b[0;31m---------------------------------------------------------------------------\u001b[0m",
            "\u001b[0;31mValueError\u001b[0m                                Traceback (most recent call last)",
            "\u001b[0;32m<ipython-input-45-094c0fcc0912>\u001b[0m in \u001b[0;36m<cell line: 21>\u001b[0;34m()\u001b[0m\n\u001b[1;32m     19\u001b[0m \u001b[0;34m\u001b[0m\u001b[0m\n\u001b[1;32m     20\u001b[0m \u001b[0;31m# Plot the ROC curve for validation data\u001b[0m\u001b[0;34m\u001b[0m\u001b[0;34m\u001b[0m\u001b[0m\n\u001b[0;32m---> 21\u001b[0;31m \u001b[0mfpr\u001b[0m\u001b[0;34m,\u001b[0m \u001b[0mtpr\u001b[0m\u001b[0;34m,\u001b[0m \u001b[0mthresholds\u001b[0m \u001b[0;34m=\u001b[0m \u001b[0mroc_curve\u001b[0m\u001b[0;34m(\u001b[0m\u001b[0mtest_df\u001b[0m\u001b[0;34m[\u001b[0m\u001b[0mtarget_column\u001b[0m\u001b[0;34m]\u001b[0m\u001b[0;34m,\u001b[0m \u001b[0my_hat_prob\u001b[0m\u001b[0;34m[\u001b[0m\u001b[0;34m:\u001b[0m\u001b[0;34m,\u001b[0m \u001b[0;36m1\u001b[0m\u001b[0;34m]\u001b[0m\u001b[0;34m)\u001b[0m\u001b[0;34m\u001b[0m\u001b[0;34m\u001b[0m\u001b[0m\n\u001b[0m\u001b[1;32m     22\u001b[0m \u001b[0mdisplay\u001b[0m \u001b[0;34m=\u001b[0m \u001b[0mRocCurveDisplay\u001b[0m\u001b[0;34m(\u001b[0m\u001b[0mfpr\u001b[0m\u001b[0;34m=\u001b[0m\u001b[0mfpr\u001b[0m\u001b[0;34m,\u001b[0m \u001b[0mtpr\u001b[0m\u001b[0;34m=\u001b[0m\u001b[0mtpr\u001b[0m\u001b[0;34m,\u001b[0m \u001b[0mroc_auc\u001b[0m\u001b[0;34m=\u001b[0m\u001b[0mauc\u001b[0m\u001b[0;34m,\u001b[0m \u001b[0mestimator_name\u001b[0m\u001b[0;34m=\u001b[0m\u001b[0;34m'Naive Bayes'\u001b[0m\u001b[0;34m)\u001b[0m\u001b[0;34m\u001b[0m\u001b[0;34m\u001b[0m\u001b[0m\n\u001b[1;32m     23\u001b[0m \u001b[0mdisplay\u001b[0m\u001b[0;34m.\u001b[0m\u001b[0mplot\u001b[0m\u001b[0;34m(\u001b[0m\u001b[0;34m)\u001b[0m\u001b[0;34m\u001b[0m\u001b[0;34m\u001b[0m\u001b[0m\n",
            "\u001b[0;32m/usr/local/lib/python3.10/dist-packages/sklearn/metrics/_ranking.py\u001b[0m in \u001b[0;36mroc_curve\u001b[0;34m(y_true, y_score, pos_label, sample_weight, drop_intermediate)\u001b[0m\n\u001b[1;32m    990\u001b[0m     \u001b[0marray\u001b[0m\u001b[0;34m(\u001b[0m\u001b[0;34m[\u001b[0m\u001b[0;36m1.8\u001b[0m \u001b[0;34m,\u001b[0m \u001b[0;36m0.8\u001b[0m \u001b[0;34m,\u001b[0m \u001b[0;36m0.4\u001b[0m \u001b[0;34m,\u001b[0m \u001b[0;36m0.35\u001b[0m\u001b[0;34m,\u001b[0m \u001b[0;36m0.1\u001b[0m \u001b[0;34m]\u001b[0m\u001b[0;34m)\u001b[0m\u001b[0;34m\u001b[0m\u001b[0;34m\u001b[0m\u001b[0m\n\u001b[1;32m    991\u001b[0m     \"\"\"\n\u001b[0;32m--> 992\u001b[0;31m     fps, tps, thresholds = _binary_clf_curve(\n\u001b[0m\u001b[1;32m    993\u001b[0m         \u001b[0my_true\u001b[0m\u001b[0;34m,\u001b[0m \u001b[0my_score\u001b[0m\u001b[0;34m,\u001b[0m \u001b[0mpos_label\u001b[0m\u001b[0;34m=\u001b[0m\u001b[0mpos_label\u001b[0m\u001b[0;34m,\u001b[0m \u001b[0msample_weight\u001b[0m\u001b[0;34m=\u001b[0m\u001b[0msample_weight\u001b[0m\u001b[0;34m\u001b[0m\u001b[0;34m\u001b[0m\u001b[0m\n\u001b[1;32m    994\u001b[0m     )\n",
            "\u001b[0;32m/usr/local/lib/python3.10/dist-packages/sklearn/metrics/_ranking.py\u001b[0m in \u001b[0;36m_binary_clf_curve\u001b[0;34m(y_true, y_score, pos_label, sample_weight)\u001b[0m\n\u001b[1;32m    753\u001b[0m     \u001b[0my_score\u001b[0m \u001b[0;34m=\u001b[0m \u001b[0mcolumn_or_1d\u001b[0m\u001b[0;34m(\u001b[0m\u001b[0my_score\u001b[0m\u001b[0;34m)\u001b[0m\u001b[0;34m\u001b[0m\u001b[0;34m\u001b[0m\u001b[0m\n\u001b[1;32m    754\u001b[0m     \u001b[0massert_all_finite\u001b[0m\u001b[0;34m(\u001b[0m\u001b[0my_true\u001b[0m\u001b[0;34m)\u001b[0m\u001b[0;34m\u001b[0m\u001b[0;34m\u001b[0m\u001b[0m\n\u001b[0;32m--> 755\u001b[0;31m     \u001b[0massert_all_finite\u001b[0m\u001b[0;34m(\u001b[0m\u001b[0my_score\u001b[0m\u001b[0;34m)\u001b[0m\u001b[0;34m\u001b[0m\u001b[0;34m\u001b[0m\u001b[0m\n\u001b[0m\u001b[1;32m    756\u001b[0m \u001b[0;34m\u001b[0m\u001b[0m\n\u001b[1;32m    757\u001b[0m     \u001b[0;31m# Filter out zero-weighted samples, as they should not impact the result\u001b[0m\u001b[0;34m\u001b[0m\u001b[0;34m\u001b[0m\u001b[0m\n",
            "\u001b[0;32m/usr/local/lib/python3.10/dist-packages/sklearn/utils/validation.py\u001b[0m in \u001b[0;36massert_all_finite\u001b[0;34m(X, allow_nan, estimator_name, input_name)\u001b[0m\n\u001b[1;32m    188\u001b[0m         \u001b[0mdocumentation\u001b[0m\u001b[0;34m.\u001b[0m\u001b[0;34m\u001b[0m\u001b[0;34m\u001b[0m\u001b[0m\n\u001b[1;32m    189\u001b[0m     \"\"\"\n\u001b[0;32m--> 190\u001b[0;31m     _assert_all_finite(\n\u001b[0m\u001b[1;32m    191\u001b[0m         \u001b[0mX\u001b[0m\u001b[0;34m.\u001b[0m\u001b[0mdata\u001b[0m \u001b[0;32mif\u001b[0m \u001b[0msp\u001b[0m\u001b[0;34m.\u001b[0m\u001b[0missparse\u001b[0m\u001b[0;34m(\u001b[0m\u001b[0mX\u001b[0m\u001b[0;34m)\u001b[0m \u001b[0;32melse\u001b[0m \u001b[0mX\u001b[0m\u001b[0;34m,\u001b[0m\u001b[0;34m\u001b[0m\u001b[0;34m\u001b[0m\u001b[0m\n\u001b[1;32m    192\u001b[0m         \u001b[0mallow_nan\u001b[0m\u001b[0;34m=\u001b[0m\u001b[0mallow_nan\u001b[0m\u001b[0;34m,\u001b[0m\u001b[0;34m\u001b[0m\u001b[0;34m\u001b[0m\u001b[0m\n",
            "\u001b[0;32m/usr/local/lib/python3.10/dist-packages/sklearn/utils/validation.py\u001b[0m in \u001b[0;36m_assert_all_finite\u001b[0;34m(X, allow_nan, msg_dtype, estimator_name, input_name)\u001b[0m\n\u001b[1;32m    159\u001b[0m                 \u001b[0;34m\"#estimators-that-handle-nan-values\"\u001b[0m\u001b[0;34m\u001b[0m\u001b[0;34m\u001b[0m\u001b[0m\n\u001b[1;32m    160\u001b[0m             )\n\u001b[0;32m--> 161\u001b[0;31m         \u001b[0;32mraise\u001b[0m \u001b[0mValueError\u001b[0m\u001b[0;34m(\u001b[0m\u001b[0mmsg_err\u001b[0m\u001b[0;34m)\u001b[0m\u001b[0;34m\u001b[0m\u001b[0;34m\u001b[0m\u001b[0m\n\u001b[0m\u001b[1;32m    162\u001b[0m \u001b[0;34m\u001b[0m\u001b[0m\n\u001b[1;32m    163\u001b[0m \u001b[0;34m\u001b[0m\u001b[0m\n",
            "\u001b[0;31mValueError\u001b[0m: Input contains NaN."
          ]
        }
      ]
    },
    {
      "cell_type": "code",
      "source": [
        "# Train a Gaussian Naive Bayes model for numerical columns\n",
        "gnb = GaussianNB()\n",
        "gnb = gnb.fit(test_df[numerical_columns].to_numpy(), test_df[target_column])\n",
        "\n",
        "# Train a Categorical Naive Bayes model for categorical columns\n",
        "cnb = CategoricalNB(alpha = best_alpha)\n",
        "cnb = cnb.fit(test_df[categorical_columns].to_numpy(), test_df[target_column])\n",
        "\n",
        "# Get joint log probabilities for each model\n",
        "gnb_log_pred = gnb.predict_joint_log_proba(test_df[numerical_columns])\n",
        "cnb_log_pred = cnb.predict_joint_log_proba(test_df[categorical_columns])\n",
        "\n",
        "# Combine the log probabilities\n",
        "y_hat_prob = gnb_log_pred + cnb_log_pred\n",
        "\n",
        "# Convert log probabilities back to probabilities\n",
        "y_hat_prob = np.exp(y_hat_prob)\n",
        "y_hat_prob = y_hat_prob / y_hat_prob.sum(1, keepdims=True)  # normalize to get valid probabilities\n",
        "\n",
        "# Get the predicted class labels\n",
        "y_hat = np.argmax(y_hat_prob, axis=1)\n",
        "\n",
        "# Evaluate the combined model using custom functions\n",
        "conf_matrix, auc, acc, precision, recall, f1, class_report = get_scores(test_df[target_column], y_hat)\n",
        "print_scores(conf_matrix, auc, acc, precision, recall, f1, class_report)\n",
        "\n",
        "# Plot the ROC curve\n",
        "fpr, tpr, thresholds = roc_curve(test_df[target_column], y_hat_prob[:, 1])\n",
        "display = RocCurveDisplay(fpr=fpr, tpr=tpr, roc_auc=auc, estimator_name='Naive Bayes')\n",
        "display.plot()\n",
        "ax = plt.gca()\n",
        "ax.get_lines()[0].set_color('#9325c2')"
      ],
      "metadata": {
        "colab": {
          "base_uri": "https://localhost:8080/",
          "height": 883
        },
        "id": "HcfN7fbOyn8Y",
        "outputId": "82f1c651-74fa-420f-f60c-00e0c13738a7"
      },
      "execution_count": 46,
      "outputs": [
        {
          "output_type": "stream",
          "name": "stdout",
          "text": [
            "Confusion Matrix:\n",
            "[[383  88]\n",
            " [199 132]]\n",
            "AUC :  0.6059775113693947\n",
            "Accuracy :  0.64214463840399\n",
            "\n",
            "Precision:\n",
            "0.6\n",
            "\n",
            "Recall:\n",
            "0.3987915407854985\n",
            "\n",
            "f1-score:\n",
            "0.4791288566243194\n",
            "\n",
            "Classification Report:\n",
            "              precision    recall  f1-score   support\n",
            "\n",
            "           0       0.66      0.81      0.73       471\n",
            "           1       0.60      0.40      0.48       331\n",
            "\n",
            "    accuracy                           0.64       802\n",
            "   macro avg       0.63      0.61      0.60       802\n",
            "weighted avg       0.63      0.64      0.62       802\n",
            "\n"
          ]
        },
        {
          "output_type": "display_data",
          "data": {
            "text/plain": [
              "<Figure size 640x480 with 1 Axes>"
            ],
            "image/png": "[encoded data removed]"
          },
          "metadata": {}
        }
      ]
    },
    {
      "cell_type": "markdown",
      "source": [
        "- final accuracy 0.64"
      ],
      "metadata": {
        "id": "xq7tGFCsXaht"
      }
    }
  ]
}