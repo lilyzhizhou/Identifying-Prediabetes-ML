{
  "nbformat": 4,
  "nbformat_minor": 0,
  "metadata": {
    "colab": {
      "provenance": [],
      "authorship_tag": "ABX9TyPIPn4rimVOJ5cxe4RfIkzh",
      "include_colab_link": true
    },
    "kernelspec": {
      "name": "python3",
      "display_name": "Python 3"
    },
    "language_info": {
      "name": "python"
    }
  },
  "cells": [
    {
      "cell_type": "markdown",
      "metadata": {
        "id": "view-in-github",
        "colab_type": "text"
      },
      "source": [
        "<a href=\"https://colab.research.google.com/github/lilyzhizhou/datathon-3/blob/main/Random_Forest.ipynb\" target=\"_parent\"><img src=\"https://colab.research.google.com/assets/colab-badge.svg\" alt=\"Open In Colab\"/></a>"
      ]
    },
    {
      "cell_type": "markdown",
      "source": [
        "Import Libraries"
      ],
      "metadata": {
        "id": "6vf7_02g6ZIB"
      }
    },
    {
      "cell_type": "code",
      "source": [
        "import pandas as pd\n",
        "pd.set_option('display.max_columns', None)\n",
        "import numpy as np\n",
        "from sklearn.model_selection import train_test_split\n",
        "import warnings\n",
        "from sklearn import tree\n",
        "from sklearn.ensemble import RandomForestClassifier\n",
        "import seaborn as sns\n",
        "import scipy.stats as stats\n",
        "import matplotlib.pyplot as plt\n",
        "from sklearn.metrics import roc_auc_score, accuracy_score\n",
        "import plotly.express as px\n",
        "!pip install category_encoders\n",
        "from category_encoders import OneHotEncoder, TargetEncoder\n",
        "from sklearn.compose import ColumnTransformer\n",
        "from sklearn.pipeline import Pipeline\n",
        "from sklearn.model_selection import RandomizedSearchCV, StratifiedKFold\n",
        "from sklearn.ensemble import GradientBoostingClassifier\n",
        "from sklearn.model_selection import GridSearchCV\n",
        "from sklearn.feature_selection import SelectFromModel\n",
        "from sklearn.metrics import classification_report, confusion_matrix, roc_auc_score\n",
        "from sklearn.metrics import f1_score, recall_score, precision_score"
      ],
      "metadata": {
        "colab": {
          "base_uri": "https://localhost:8080/"
        },
        "id": "CJpI6RYX6ifu",
        "outputId": "6122d771-2a13-4546-f04b-7f74301c9475"
      },
      "execution_count": 19,
      "outputs": [
        {
          "output_type": "stream",
          "name": "stdout",
          "text": [
            "Requirement already satisfied: category_encoders in /usr/local/lib/python3.10/dist-packages (2.6.2)\n",
            "Requirement already satisfied: numpy>=1.14.0 in /usr/local/lib/python3.10/dist-packages (from category_encoders) (1.23.5)\n",
            "Requirement already satisfied: scikit-learn>=0.20.0 in /usr/local/lib/python3.10/dist-packages (from category_encoders) (1.2.2)\n",
            "Requirement already satisfied: scipy>=1.0.0 in /usr/local/lib/python3.10/dist-packages (from category_encoders) (1.11.3)\n",
            "Requirement already satisfied: statsmodels>=0.9.0 in /usr/local/lib/python3.10/dist-packages (from category_encoders) (0.14.0)\n",
            "Requirement already satisfied: pandas>=1.0.5 in /usr/local/lib/python3.10/dist-packages (from category_encoders) (1.5.3)\n",
            "Requirement already satisfied: patsy>=0.5.1 in /usr/local/lib/python3.10/dist-packages (from category_encoders) (0.5.3)\n",
            "Requirement already satisfied: python-dateutil>=2.8.1 in /usr/local/lib/python3.10/dist-packages (from pandas>=1.0.5->category_encoders) (2.8.2)\n",
            "Requirement already satisfied: pytz>=2020.1 in /usr/local/lib/python3.10/dist-packages (from pandas>=1.0.5->category_encoders) (2023.3.post1)\n",
            "Requirement already satisfied: six in /usr/local/lib/python3.10/dist-packages (from patsy>=0.5.1->category_encoders) (1.16.0)\n",
            "Requirement already satisfied: joblib>=1.1.1 in /usr/local/lib/python3.10/dist-packages (from scikit-learn>=0.20.0->category_encoders) (1.3.2)\n",
            "Requirement already satisfied: threadpoolctl>=2.0.0 in /usr/local/lib/python3.10/dist-packages (from scikit-learn>=0.20.0->category_encoders) (3.2.0)\n",
            "Requirement already satisfied: packaging>=21.3 in /usr/local/lib/python3.10/dist-packages (from statsmodels>=0.9.0->category_encoders) (23.2)\n"
          ]
        }
      ]
    },
    {
      "cell_type": "markdown",
      "source": [
        "Load Data"
      ],
      "metadata": {
        "id": "2nfu_Z9kA3bI"
      }
    },
    {
      "cell_type": "code",
      "source": [
        "from google.colab import drive\n",
        "drive.mount('/content/drive')"
      ],
      "metadata": {
        "colab": {
          "base_uri": "https://localhost:8080/"
        },
        "id": "E-b6OUgZ7nMw",
        "outputId": "740af4d3-96db-4f2c-918a-502f04c9ffc1"
      },
      "execution_count": 3,
      "outputs": [
        {
          "output_type": "stream",
          "name": "stdout",
          "text": [
            "Mounted at /content/drive\n"
          ]
        }
      ]
    },
    {
      "cell_type": "code",
      "source": [
        "data = pd.read_csv('/content/drive/MyDrive/Datathon #3/datapd.csv')"
      ],
      "metadata": {
        "id": "9lTV1fDr60To"
      },
      "execution_count": 4,
      "outputs": []
    },
    {
      "cell_type": "code",
      "source": [
        "print(data.shape)\n",
        "data.head()"
      ],
      "metadata": {
        "colab": {
          "base_uri": "https://localhost:8080/",
          "height": 224
        },
        "id": "t2ltMEAG6-ub",
        "outputId": "b509033e-8911-494f-88ed-1cee867ee2ba"
      },
      "execution_count": 5,
      "outputs": [
        {
          "output_type": "stream",
          "name": "stdout",
          "text": [
            "(6414, 13)\n"
          ]
        },
        {
          "output_type": "execute_result",
          "data": {
            "text/plain": [
              "   Unnamed: 0  predm  Age_at_Exam   BMI  Total_Cholesterol  Depression  HTN  \\\n",
              "0           2      1           63  30.9                NaN           0    1   \n",
              "1        2386      1           66  23.6               3.54           1    1   \n",
              "2        7781      0           68  34.3               5.55           1    1   \n",
              "3        7644      1           73  28.5               3.78           1    1   \n",
              "4        2290      0           53  33.4               5.38           0    1   \n",
              "\n",
              "   OA  COPD  corstrd_bin  htnmed_bin  Sex        Patient_ID  \n",
              "0   0     1            0           1    1  1001000000000054  \n",
              "1   1     0            0           1    1  1001000000004538  \n",
              "2   1     0            0           1    0  1001000000007331  \n",
              "3   0     1            1           1    0  1001000000007333  \n",
              "4   1     0            1           1    0  1001000000009032  "
            ],
            "text/html": [
              "\n",
              "  <div id=\"df-36ca29c7-8048-4d48-b2b9-858c92c62364\" class=\"colab-df-container\">\n",
              "    <div>\n",
              "<style scoped>\n",
              "    .dataframe tbody tr th:only-of-type {\n",
              "        vertical-align: middle;\n",
              "    }\n",
              "\n",
              "    .dataframe tbody tr th {\n",
              "        vertical-align: top;\n",
              "    }\n",
              "\n",
              "    .dataframe thead th {\n",
              "        text-align: right;\n",
              "    }\n",
              "</style>\n",
              "<table border=\"1\" class=\"dataframe\">\n",
              "  <thead>\n",
              "    <tr style=\"text-align: right;\">\n",
              "      <th></th>\n",
              "      <th>Unnamed: 0</th>\n",
              "      <th>predm</th>\n",
              "      <th>Age_at_Exam</th>\n",
              "      <th>BMI</th>\n",
              "      <th>Total_Cholesterol</th>\n",
              "      <th>Depression</th>\n",
              "      <th>HTN</th>\n",
              "      <th>OA</th>\n",
              "      <th>COPD</th>\n",
              "      <th>corstrd_bin</th>\n",
              "      <th>htnmed_bin</th>\n",
              "      <th>Sex</th>\n",
              "      <th>Patient_ID</th>\n",
              "    </tr>\n",
              "  </thead>\n",
              "  <tbody>\n",
              "    <tr>\n",
              "      <th>0</th>\n",
              "      <td>2</td>\n",
              "      <td>1</td>\n",
              "      <td>63</td>\n",
              "      <td>30.9</td>\n",
              "      <td>NaN</td>\n",
              "      <td>0</td>\n",
              "      <td>1</td>\n",
              "      <td>0</td>\n",
              "      <td>1</td>\n",
              "      <td>0</td>\n",
              "      <td>1</td>\n",
              "      <td>1</td>\n",
              "      <td>1001000000000054</td>\n",
              "    </tr>\n",
              "    <tr>\n",
              "      <th>1</th>\n",
              "      <td>2386</td>\n",
              "      <td>1</td>\n",
              "      <td>66</td>\n",
              "      <td>23.6</td>\n",
              "      <td>3.54</td>\n",
              "      <td>1</td>\n",
              "      <td>1</td>\n",
              "      <td>1</td>\n",
              "      <td>0</td>\n",
              "      <td>0</td>\n",
              "      <td>1</td>\n",
              "      <td>1</td>\n",
              "      <td>1001000000004538</td>\n",
              "    </tr>\n",
              "    <tr>\n",
              "      <th>2</th>\n",
              "      <td>7781</td>\n",
              "      <td>0</td>\n",
              "      <td>68</td>\n",
              "      <td>34.3</td>\n",
              "      <td>5.55</td>\n",
              "      <td>1</td>\n",
              "      <td>1</td>\n",
              "      <td>1</td>\n",
              "      <td>0</td>\n",
              "      <td>0</td>\n",
              "      <td>1</td>\n",
              "      <td>0</td>\n",
              "      <td>1001000000007331</td>\n",
              "    </tr>\n",
              "    <tr>\n",
              "      <th>3</th>\n",
              "      <td>7644</td>\n",
              "      <td>1</td>\n",
              "      <td>73</td>\n",
              "      <td>28.5</td>\n",
              "      <td>3.78</td>\n",
              "      <td>1</td>\n",
              "      <td>1</td>\n",
              "      <td>0</td>\n",
              "      <td>1</td>\n",
              "      <td>1</td>\n",
              "      <td>1</td>\n",
              "      <td>0</td>\n",
              "      <td>1001000000007333</td>\n",
              "    </tr>\n",
              "    <tr>\n",
              "      <th>4</th>\n",
              "      <td>2290</td>\n",
              "      <td>0</td>\n",
              "      <td>53</td>\n",
              "      <td>33.4</td>\n",
              "      <td>5.38</td>\n",
              "      <td>0</td>\n",
              "      <td>1</td>\n",
              "      <td>1</td>\n",
              "      <td>0</td>\n",
              "      <td>1</td>\n",
              "      <td>1</td>\n",
              "      <td>0</td>\n",
              "      <td>1001000000009032</td>\n",
              "    </tr>\n",
              "  </tbody>\n",
              "</table>\n",
              "</div>\n",
              "    <div class=\"colab-df-buttons\">\n",
              "\n",
              "  <div class=\"colab-df-container\">\n",
              "    <button class=\"colab-df-convert\" onclick=\"convertToInteractive('df-36ca29c7-8048-4d48-b2b9-858c92c62364')\"\n",
              "            title=\"Convert this dataframe to an interactive table.\"\n",
              "            style=\"display:none;\">\n",
              "\n",
              "  <svg xmlns=\"http://www.w3.org/2000/svg\" height=\"24px\" viewBox=\"0 -960 960 960\">\n",
              "    <path d=\"M120-120v-720h720v720H120Zm60-500h600v-160H180v160Zm220 220h160v-160H400v160Zm0 220h160v-160H400v160ZM180-400h160v-160H180v160Zm440 0h160v-160H620v160ZM180-180h160v-160H180v160Zm440 0h160v-160H620v160Z\"/>\n",
              "  </svg>\n",
              "    </button>\n",
              "\n",
              "  <style>\n",
              "    .colab-df-container {\n",
              "      display:flex;\n",
              "      gap: 12px;\n",
              "    }\n",
              "\n",
              "    .colab-df-convert {\n",
              "      background-color: #E8F0FE;\n",
              "      border: none;\n",
              "      border-radius: 50%;\n",
              "      cursor: pointer;\n",
              "      display: none;\n",
              "      fill: #1967D2;\n",
              "      height: 32px;\n",
              "      padding: 0 0 0 0;\n",
              "      width: 32px;\n",
              "    }\n",
              "\n",
              "    .colab-df-convert:hover {\n",
              "      background-color: #E2EBFA;\n",
              "      box-shadow: 0px 1px 2px rgba(60, 64, 67, 0.3), 0px 1px 3px 1px rgba(60, 64, 67, 0.15);\n",
              "      fill: #174EA6;\n",
              "    }\n",
              "\n",
              "    .colab-df-buttons div {\n",
              "      margin-bottom: 4px;\n",
              "    }\n",
              "\n",
              "    [theme=dark] .colab-df-convert {\n",
              "      background-color: #3B4455;\n",
              "      fill: #D2E3FC;\n",
              "    }\n",
              "\n",
              "    [theme=dark] .colab-df-convert:hover {\n",
              "      background-color: #434B5C;\n",
              "      box-shadow: 0px 1px 3px 1px rgba(0, 0, 0, 0.15);\n",
              "      filter: drop-shadow(0px 1px 2px rgba(0, 0, 0, 0.3));\n",
              "      fill: #FFFFFF;\n",
              "    }\n",
              "  </style>\n",
              "\n",
              "    <script>\n",
              "      const buttonEl =\n",
              "        document.querySelector('#df-36ca29c7-8048-4d48-b2b9-858c92c62364 button.colab-df-convert');\n",
              "      buttonEl.style.display =\n",
              "        google.colab.kernel.accessAllowed ? 'block' : 'none';\n",
              "\n",
              "      async function convertToInteractive(key) {\n",
              "        const element = document.querySelector('#df-36ca29c7-8048-4d48-b2b9-858c92c62364');\n",
              "        const dataTable =\n",
              "          await google.colab.kernel.invokeFunction('convertToInteractive',\n",
              "                                                    [key], {});\n",
              "        if (!dataTable) return;\n",
              "\n",
              "        const docLinkHtml = 'Like what you see? Visit the ' +\n",
              "          '<a target=\"_blank\" href=https://colab.research.google.com/notebooks/data_table.ipynb>data table notebook</a>'\n",
              "          + ' to learn more about interactive tables.';\n",
              "        element.innerHTML = '';\n",
              "        dataTable['output_type'] = 'display_data';\n",
              "        await google.colab.output.renderOutput(dataTable, element);\n",
              "        const docLink = document.createElement('div');\n",
              "        docLink.innerHTML = docLinkHtml;\n",
              "        element.appendChild(docLink);\n",
              "      }\n",
              "    </script>\n",
              "  </div>\n",
              "\n",
              "\n",
              "<div id=\"df-2fd35360-cf4a-4a32-8d7e-bf1d81390f68\">\n",
              "  <button class=\"colab-df-quickchart\" onclick=\"quickchart('df-2fd35360-cf4a-4a32-8d7e-bf1d81390f68')\"\n",
              "            title=\"Suggest charts.\"\n",
              "            style=\"display:none;\">\n",
              "\n",
              "<svg xmlns=\"http://www.w3.org/2000/svg\" height=\"24px\"viewBox=\"0 0 24 24\"\n",
              "     width=\"24px\">\n",
              "    <g>\n",
              "        <path d=\"M19 3H5c-1.1 0-2 .9-2 2v14c0 1.1.9 2 2 2h14c1.1 0 2-.9 2-2V5c0-1.1-.9-2-2-2zM9 17H7v-7h2v7zm4 0h-2V7h2v10zm4 0h-2v-4h2v4z\"/>\n",
              "    </g>\n",
              "</svg>\n",
              "  </button>\n",
              "\n",
              "<style>\n",
              "  .colab-df-quickchart {\n",
              "      --bg-color: #E8F0FE;\n",
              "      --fill-color: #1967D2;\n",
              "      --hover-bg-color: #E2EBFA;\n",
              "      --hover-fill-color: #174EA6;\n",
              "      --disabled-fill-color: #AAA;\n",
              "      --disabled-bg-color: #DDD;\n",
              "  }\n",
              "\n",
              "  [theme=dark] .colab-df-quickchart {\n",
              "      --bg-color: #3B4455;\n",
              "      --fill-color: #D2E3FC;\n",
              "      --hover-bg-color: #434B5C;\n",
              "      --hover-fill-color: #FFFFFF;\n",
              "      --disabled-bg-color: #3B4455;\n",
              "      --disabled-fill-color: #666;\n",
              "  }\n",
              "\n",
              "  .colab-df-quickchart {\n",
              "    background-color: var(--bg-color);\n",
              "    border: none;\n",
              "    border-radius: 50%;\n",
              "    cursor: pointer;\n",
              "    display: none;\n",
              "    fill: var(--fill-color);\n",
              "    height: 32px;\n",
              "    padding: 0;\n",
              "    width: 32px;\n",
              "  }\n",
              "\n",
              "  .colab-df-quickchart:hover {\n",
              "    background-color: var(--hover-bg-color);\n",
              "    box-shadow: 0 1px 2px rgba(60, 64, 67, 0.3), 0 1px 3px 1px rgba(60, 64, 67, 0.15);\n",
              "    fill: var(--button-hover-fill-color);\n",
              "  }\n",
              "\n",
              "  .colab-df-quickchart-complete:disabled,\n",
              "  .colab-df-quickchart-complete:disabled:hover {\n",
              "    background-color: var(--disabled-bg-color);\n",
              "    fill: var(--disabled-fill-color);\n",
              "    box-shadow: none;\n",
              "  }\n",
              "\n",
              "  .colab-df-spinner {\n",
              "    border: 2px solid var(--fill-color);\n",
              "    border-color: transparent;\n",
              "    border-bottom-color: var(--fill-color);\n",
              "    animation:\n",
              "      spin 1s steps(1) infinite;\n",
              "  }\n",
              "\n",
              "  @keyframes spin {\n",
              "    0% {\n",
              "      border-color: transparent;\n",
              "      border-bottom-color: var(--fill-color);\n",
              "      border-left-color: var(--fill-color);\n",
              "    }\n",
              "    20% {\n",
              "      border-color: transparent;\n",
              "      border-left-color: var(--fill-color);\n",
              "      border-top-color: var(--fill-color);\n",
              "    }\n",
              "    30% {\n",
              "      border-color: transparent;\n",
              "      border-left-color: var(--fill-color);\n",
              "      border-top-color: var(--fill-color);\n",
              "      border-right-color: var(--fill-color);\n",
              "    }\n",
              "    40% {\n",
              "      border-color: transparent;\n",
              "      border-right-color: var(--fill-color);\n",
              "      border-top-color: var(--fill-color);\n",
              "    }\n",
              "    60% {\n",
              "      border-color: transparent;\n",
              "      border-right-color: var(--fill-color);\n",
              "    }\n",
              "    80% {\n",
              "      border-color: transparent;\n",
              "      border-right-color: var(--fill-color);\n",
              "      border-bottom-color: var(--fill-color);\n",
              "    }\n",
              "    90% {\n",
              "      border-color: transparent;\n",
              "      border-bottom-color: var(--fill-color);\n",
              "    }\n",
              "  }\n",
              "</style>\n",
              "\n",
              "  <script>\n",
              "    async function quickchart(key) {\n",
              "      const quickchartButtonEl =\n",
              "        document.querySelector('#' + key + ' button');\n",
              "      quickchartButtonEl.disabled = true;  // To prevent multiple clicks.\n",
              "      quickchartButtonEl.classList.add('colab-df-spinner');\n",
              "      try {\n",
              "        const charts = await google.colab.kernel.invokeFunction(\n",
              "            'suggestCharts', [key], {});\n",
              "      } catch (error) {\n",
              "        console.error('Error during call to suggestCharts:', error);\n",
              "      }\n",
              "      quickchartButtonEl.classList.remove('colab-df-spinner');\n",
              "      quickchartButtonEl.classList.add('colab-df-quickchart-complete');\n",
              "    }\n",
              "    (() => {\n",
              "      let quickchartButtonEl =\n",
              "        document.querySelector('#df-2fd35360-cf4a-4a32-8d7e-bf1d81390f68 button');\n",
              "      quickchartButtonEl.style.display =\n",
              "        google.colab.kernel.accessAllowed ? 'block' : 'none';\n",
              "    })();\n",
              "  </script>\n",
              "</div>\n",
              "    </div>\n",
              "  </div>\n"
            ]
          },
          "metadata": {},
          "execution_count": 5
        }
      ]
    },
    {
      "cell_type": "markdown",
      "source": [
        "Preprocessing"
      ],
      "metadata": {
        "id": "txVsoESsoTE6"
      }
    },
    {
      "cell_type": "code",
      "source": [
        "#remove missing values\n",
        "print(data.isna().sum())"
      ],
      "metadata": {
        "colab": {
          "base_uri": "https://localhost:8080/"
        },
        "id": "j6BHmc_4Audc",
        "outputId": "25b6c245-e366-47fc-f24f-403e3f9d7fe6"
      },
      "execution_count": 6,
      "outputs": [
        {
          "output_type": "stream",
          "name": "stdout",
          "text": [
            "Unnamed: 0             0\n",
            "predm                  0\n",
            "Age_at_Exam            0\n",
            "BMI                    0\n",
            "Total_Cholesterol    152\n",
            "Depression             0\n",
            "HTN                    0\n",
            "OA                     0\n",
            "COPD                   0\n",
            "corstrd_bin            0\n",
            "htnmed_bin             0\n",
            "Sex                    0\n",
            "Patient_ID             0\n",
            "dtype: int64\n"
          ]
        }
      ]
    },
    {
      "cell_type": "markdown",
      "source": [
        "\n",
        "\n",
        "*  only cholesterol has missing data (2.35%)\n",
        "\n"
      ],
      "metadata": {
        "id": "heAKetqqBOYf"
      }
    },
    {
      "cell_type": "code",
      "source": [
        "#histogram of missing values in cholesterol column\n",
        "plt.hist(data['Total_Cholesterol'].dropna(), bins=50, alpha=0.7, color='blue', label='Missing Data in Total Cholesterol')\n",
        "plt.xlabel('Total_Cholesterol')\n",
        "plt.ylabel('Frequency')\n",
        "plt.legend()\n",
        "plt.title('Histogram of Total Cholesterol')"
      ],
      "metadata": {
        "colab": {
          "base_uri": "https://localhost:8080/",
          "height": 490
        },
        "id": "gpqnMOg3CSea",
        "outputId": "1c6718b3-6e76-49e2-c4a0-fcb845ae10d9"
      },
      "execution_count": 7,
      "outputs": [
        {
          "output_type": "execute_result",
          "data": {
            "text/plain": [
              "Text(0.5, 1.0, 'Histogram of Total Cholesterol')"
            ]
          },
          "metadata": {},
          "execution_count": 7
        },
        {
          "output_type": "display_data",
          "data": {
            "text/plain": [
              "<Figure size 640x480 with 1 Axes>"
            ],
            "image/png": "[encoded data removed]"
          },
          "metadata": {}
        }
      ]
    },
    {
      "cell_type": "markdown",
      "source": [
        "\n",
        "\n",
        "*   looks like its safe to impute the missing values with median based on the histogram\n",
        "\n"
      ],
      "metadata": {
        "id": "cNZwMTxDGhvU"
      }
    },
    {
      "cell_type": "code",
      "source": [
        "#impute missing data in the cholesterol column with median\n",
        "data['Total_Cholesterol']=data['Total_Cholesterol'].fillna(data['Total_Cholesterol'].median())\n",
        "\n",
        "data.info()\n",
        "\n",
        "# Print the cleaned DataFrame\n",
        "print(data)\n"
      ],
      "metadata": {
        "colab": {
          "base_uri": "https://localhost:8080/"
        },
        "id": "XwoqOtK5BIZW",
        "outputId": "dc6791d5-9719-4def-f7a8-6a2104d7838d"
      },
      "execution_count": 8,
      "outputs": [
        {
          "output_type": "stream",
          "name": "stdout",
          "text": [
            "<class 'pandas.core.frame.DataFrame'>\n",
            "RangeIndex: 6414 entries, 0 to 6413\n",
            "Data columns (total 13 columns):\n",
            " #   Column             Non-Null Count  Dtype  \n",
            "---  ------             --------------  -----  \n",
            " 0   Unnamed: 0         6414 non-null   int64  \n",
            " 1   predm              6414 non-null   int64  \n",
            " 2   Age_at_Exam        6414 non-null   int64  \n",
            " 3   BMI                6414 non-null   float64\n",
            " 4   Total_Cholesterol  6414 non-null   float64\n",
            " 5   Depression         6414 non-null   int64  \n",
            " 6   HTN                6414 non-null   int64  \n",
            " 7   OA                 6414 non-null   int64  \n",
            " 8   COPD               6414 non-null   int64  \n",
            " 9   corstrd_bin        6414 non-null   int64  \n",
            " 10  htnmed_bin         6414 non-null   int64  \n",
            " 11  Sex                6414 non-null   int64  \n",
            " 12  Patient_ID         6414 non-null   int64  \n",
            "dtypes: float64(2), int64(11)\n",
            "memory usage: 651.5 KB\n",
            "      Unnamed: 0  predm  Age_at_Exam   BMI  Total_Cholesterol  Depression  \\\n",
            "0              2      1           63  30.9               4.69           0   \n",
            "1           2386      1           66  23.6               3.54           1   \n",
            "2           7781      0           68  34.3               5.55           1   \n",
            "3           7644      1           73  28.5               3.78           1   \n",
            "4           2290      0           53  33.4               5.38           0   \n",
            "...          ...    ...          ...   ...                ...         ...   \n",
            "6409        6213      1           64  24.5               3.93           1   \n",
            "6410        6166      0           85  27.9               3.50           0   \n",
            "6411        1141      1           68  34.7               5.65           0   \n",
            "6412        1159      0           36  35.6               6.32           0   \n",
            "6413        6234      1           55  42.4               5.24           0   \n",
            "\n",
            "      HTN  OA  COPD  corstrd_bin  htnmed_bin  Sex         Patient_ID  \n",
            "0       1   0     1            0           1    1   1001000000000054  \n",
            "1       1   1     0            0           1    1   1001000000004538  \n",
            "2       1   1     0            0           1    0   1001000000007331  \n",
            "3       1   0     1            1           1    0   1001000000007333  \n",
            "4       1   1     0            1           1    0   1001000000009032  \n",
            "...   ...  ..   ...          ...         ...  ...                ...  \n",
            "6409    0   0     0            0           0    0  10001000000002952  \n",
            "6410    0   1     0            0           1    1  10001000000002980  \n",
            "6411    0   0     0            0           1    0  10001000000003260  \n",
            "6412    0   0     0            0           0    0  10001000000003816  \n",
            "6413    1   1     1            1           1    0  10001000000003852  \n",
            "\n",
            "[6414 rows x 13 columns]\n"
          ]
        }
      ]
    },
    {
      "cell_type": "code",
      "source": [
        "#check again for missing values (NaN should be 0)\n",
        "print(data.isna().sum())\n",
        "median_chol = np.median(data['Total_Cholesterol'])\n",
        "median_chol"
      ],
      "metadata": {
        "colab": {
          "base_uri": "https://localhost:8080/"
        },
        "id": "lr8ICJYBHjl2",
        "outputId": "96cf903a-949e-463c-c5d7-1539460f4aeb"
      },
      "execution_count": 9,
      "outputs": [
        {
          "output_type": "stream",
          "name": "stdout",
          "text": [
            "Unnamed: 0           0\n",
            "predm                0\n",
            "Age_at_Exam          0\n",
            "BMI                  0\n",
            "Total_Cholesterol    0\n",
            "Depression           0\n",
            "HTN                  0\n",
            "OA                   0\n",
            "COPD                 0\n",
            "corstrd_bin          0\n",
            "htnmed_bin           0\n",
            "Sex                  0\n",
            "Patient_ID           0\n",
            "dtype: int64\n"
          ]
        },
        {
          "output_type": "execute_result",
          "data": {
            "text/plain": [
              "4.69"
            ]
          },
          "metadata": {},
          "execution_count": 9
        }
      ]
    },
    {
      "cell_type": "code",
      "source": [
        "#check if the median of the newly imputed values are the same in each category of predm as before imputation (look at table file in drive for comparison)\n",
        "chol_predm0 = data[data['predm'] == 0]\n",
        "chol_predm1 = data[data['predm'] == 1]\n",
        "\n",
        "# Calculate the median of taotal cholesterol for each category of predm\n",
        "median_for_predm_0 = chol_predm0['Total_Cholesterol'].median()\n",
        "median_for_predm_1 = chol_predm1['Total_Cholesterol'].median()\n",
        "\n",
        "print(\"Median for predm 1:\", median_for_predm_0)\n",
        "print(\"Median for predm 1:\", median_for_predm_1)"
      ],
      "metadata": {
        "colab": {
          "base_uri": "https://localhost:8080/"
        },
        "id": "e-Ph6VLqIiQM",
        "outputId": "1bca04cb-4893-423c-8e1c-31f08d8bd212"
      },
      "execution_count": 10,
      "outputs": [
        {
          "output_type": "stream",
          "name": "stdout",
          "text": [
            "Median for predm 1: 4.78\n",
            "Median for predm 1: 4.48\n"
          ]
        }
      ]
    },
    {
      "cell_type": "markdown",
      "source": [
        "Data Splitting"
      ],
      "metadata": {
        "id": "PGpDx9v-8mM8"
      }
    },
    {
      "cell_type": "code",
      "source": [
        "# Splitting the data into 75% training and 25% testing\n",
        "train = data.sample(frac=0.75, random_state=10)\n",
        "test = data.drop(train.index)"
      ],
      "metadata": {
        "id": "CX8kJ8Lul1XX"
      },
      "execution_count": 11,
      "outputs": []
    },
    {
      "cell_type": "markdown",
      "source": [
        "Model Building"
      ],
      "metadata": {
        "id": "CuRzom5doYxX"
      }
    },
    {
      "cell_type": "code",
      "source": [
        "# Initializing a Random Forest classifier\n",
        "random_forest = RandomForestClassifier(criterion='entropy', class_weight='balanced_subsample', oob_score=True)\n",
        "\n",
        " #Classifier Pipeline\n",
        "model = Pipeline([\n",
        "    ('classifier', RandomForestClassifier())\n",
        "])\n",
        "model"
      ],
      "metadata": {
        "colab": {
          "base_uri": "https://localhost:8080/",
          "height": 91
        },
        "id": "O35sueBEmUZY",
        "outputId": "b1a24161-cd39-48b3-a2ed-eab54b8b2dcf"
      },
      "execution_count": 12,
      "outputs": [
        {
          "output_type": "execute_result",
          "data": {
            "text/plain": [
              "Pipeline(steps=[('classifier', RandomForestClassifier())])"
            ],
            "text/html": [
              "<style>#sk-container-id-1 {color: black;background-color: white;}#sk-container-id-1 pre{padding: 0;}#sk-container-id-1 div.sk-toggleable {background-color: white;}#sk-container-id-1 label.sk-toggleable__label {cursor: pointer;display: block;width: 100%;margin-bottom: 0;padding: 0.3em;box-sizing: border-box;text-align: center;}#sk-container-id-1 label.sk-toggleable__label-arrow:before {content: \"▸\";float: left;margin-right: 0.25em;color: #696969;}#sk-container-id-1 label.sk-toggleable__label-arrow:hover:before {color: black;}#sk-container-id-1 div.sk-estimator:hover label.sk-toggleable__label-arrow:before {color: black;}#sk-container-id-1 div.sk-toggleable__content {max-height: 0;max-width: 0;overflow: hidden;text-align: left;background-color: #f0f8ff;}#sk-container-id-1 div.sk-toggleable__content pre {margin: 0.2em;color: black;border-radius: 0.25em;background-color: #f0f8ff;}#sk-container-id-1 input.sk-toggleable__control:checked~div.sk-toggleable__content {max-height: 200px;max-width: 100%;overflow: auto;}#sk-container-id-1 input.sk-toggleable__control:checked~label.sk-toggleable__label-arrow:before {content: \"▾\";}#sk-container-id-1 div.sk-estimator input.sk-toggleable__control:checked~label.sk-toggleable__label {background-color: #d4ebff;}#sk-container-id-1 div.sk-label input.sk-toggleable__control:checked~label.sk-toggleable__label {background-color: #d4ebff;}#sk-container-id-1 input.sk-hidden--visually {border: 0;clip: rect(1px 1px 1px 1px);clip: rect(1px, 1px, 1px, 1px);height: 1px;margin: -1px;overflow: hidden;padding: 0;position: absolute;width: 1px;}#sk-container-id-1 div.sk-estimator {font-family: monospace;background-color: #f0f8ff;border: 1px dotted black;border-radius: 0.25em;box-sizing: border-box;margin-bottom: 0.5em;}#sk-container-id-1 div.sk-estimator:hover {background-color: #d4ebff;}#sk-container-id-1 div.sk-parallel-item::after {content: \"\";width: 100%;border-bottom: 1px solid gray;flex-grow: 1;}#sk-container-id-1 div.sk-label:hover label.sk-toggleable__label {background-color: #d4ebff;}#sk-container-id-1 div.sk-serial::before {content: \"\";position: absolute;border-left: 1px solid gray;box-sizing: border-box;top: 0;bottom: 0;left: 50%;z-index: 0;}#sk-container-id-1 div.sk-serial {display: flex;flex-direction: column;align-items: center;background-color: white;padding-right: 0.2em;padding-left: 0.2em;position: relative;}#sk-container-id-1 div.sk-item {position: relative;z-index: 1;}#sk-container-id-1 div.sk-parallel {display: flex;align-items: stretch;justify-content: center;background-color: white;position: relative;}#sk-container-id-1 div.sk-item::before, #sk-container-id-1 div.sk-parallel-item::before {content: \"\";position: absolute;border-left: 1px solid gray;box-sizing: border-box;top: 0;bottom: 0;left: 50%;z-index: -1;}#sk-container-id-1 div.sk-parallel-item {display: flex;flex-direction: column;z-index: 1;position: relative;background-color: white;}#sk-container-id-1 div.sk-parallel-item:first-child::after {align-self: flex-end;width: 50%;}#sk-container-id-1 div.sk-parallel-item:last-child::after {align-self: flex-start;width: 50%;}#sk-container-id-1 div.sk-parallel-item:only-child::after {width: 0;}#sk-container-id-1 div.sk-dashed-wrapped {border: 1px dashed gray;margin: 0 0.4em 0.5em 0.4em;box-sizing: border-box;padding-bottom: 0.4em;background-color: white;}#sk-container-id-1 div.sk-label label {font-family: monospace;font-weight: bold;display: inline-block;line-height: 1.2em;}#sk-container-id-1 div.sk-label-container {text-align: center;}#sk-container-id-1 div.sk-container {/* jupyter's `normalize.less` sets `[hidden] { display: none; }` but bootstrap.min.css set `[hidden] { display: none !important; }` so we also need the `!important` here to be able to override the default hidden behavior on the sphinx rendered scikit-learn.org. See: https://github.com/scikit-learn/scikit-learn/issues/21755 */display: inline-block !important;position: relative;}#sk-container-id-1 div.sk-text-repr-fallback {display: none;}</style><div id=\"sk-container-id-1\" class=\"sk-top-container\"><div class=\"sk-text-repr-fallback\"><pre>Pipeline(steps=[(&#x27;classifier&#x27;, RandomForestClassifier())])</pre><b>In a Jupyter environment, please rerun this cell to show the HTML representation or trust the notebook. <br />On GitHub, the HTML representation is unable to render, please try loading this page with nbviewer.org.</b></div><div class=\"sk-container\" hidden><div class=\"sk-item sk-dashed-wrapped\"><div class=\"sk-label-container\"><div class=\"sk-label sk-toggleable\"><input class=\"sk-toggleable__control sk-hidden--visually\" id=\"sk-estimator-id-1\" type=\"checkbox\" ><label for=\"sk-estimator-id-1\" class=\"sk-toggleable__label sk-toggleable__label-arrow\">Pipeline</label><div class=\"sk-toggleable__content\"><pre>Pipeline(steps=[(&#x27;classifier&#x27;, RandomForestClassifier())])</pre></div></div></div><div class=\"sk-serial\"><div class=\"sk-item\"><div class=\"sk-estimator sk-toggleable\"><input class=\"sk-toggleable__control sk-hidden--visually\" id=\"sk-estimator-id-2\" type=\"checkbox\" ><label for=\"sk-estimator-id-2\" class=\"sk-toggleable__label sk-toggleable__label-arrow\">RandomForestClassifier</label><div class=\"sk-toggleable__content\"><pre>RandomForestClassifier()</pre></div></div></div></div></div></div></div>"
            ]
          },
          "metadata": {},
          "execution_count": 12
        }
      ]
    },
    {
      "cell_type": "markdown",
      "source": [
        "Model Training and Evaluation"
      ],
      "metadata": {
        "id": "Z2OU7apy3vBw"
      }
    },
    {
      "cell_type": "code",
      "source": [
        "# Using the pipeline model to train on the training data.\n",
        "# Dropping the target column ('predm') from the input features.\n",
        "model = model.fit(train.drop('predm', axis=1), train['predm'])\n",
        "\n",
        "# Predicting the target variable on the training set and evaluating the model's accuracy.\n",
        "Y_train_pred = model.predict(train.drop('predm', axis=1))\n",
        "Y_train_pred = accuracy_score(train['predm'], Y_train_pred)\n",
        "print(\"Train Set Accuracy:\", Y_train_pred)\n",
        "\n",
        "# Predicting the target variable on the test set and evaluating the model's accuracy.\n",
        "Y_test_pred = model.predict(test.drop('predm', axis=1))\n",
        "Y_test_pred = accuracy_score(test['predm'], Y_test_pred)\n",
        "print(\"Train Set Accuracy:\", Y_test_pred)"
      ],
      "metadata": {
        "colab": {
          "base_uri": "https://localhost:8080/"
        },
        "id": "p4t2MXRN3wCa",
        "outputId": "2dbd2f68-0e5c-4565-e6d7-29c7d6a41977"
      },
      "execution_count": 13,
      "outputs": [
        {
          "output_type": "stream",
          "name": "stdout",
          "text": [
            "Train Set Accuracy: 1.0\n",
            "Train Set Accuracy: 0.7306733167082294\n"
          ]
        }
      ]
    },
    {
      "cell_type": "markdown",
      "source": [
        "Hyperparameter Tuning with Grid Search"
      ],
      "metadata": {
        "id": "JVuirkXEodM4"
      }
    },
    {
      "cell_type": "code",
      "source": [
        "# Setting hyperparameters for Random Forest for the Grid Search.\n",
        "param_dist = {\n",
        "    \"classifier__n_estimators\" : [200, 300, 400],\n",
        "    \"classifier__max_depth\" : [5,7,10],\n",
        "    \"classifier__min_samples_leaf\" : [15, 20 ,25],\n",
        "    \"classifier__max_features\" : [6,8,10],\n",
        "    \"classifier__criterion\" : ['gini'],\n",
        "    \"classifier__min_samples_split\" : [5, 10, 15],\n",
        "    \"classifier__min_samples_leaf\" : [1],\n",
        "    \"classifier__max_leaf_nodes\" : [100],\n",
        "    \"classifier__min_impurity_decrease\" : [0.01],\n",
        "    \"classifier__min_weight_fraction_leaf\" : [0.1],\n",
        "    \"classifier__bootstrap\" : [True],\n",
        "    \"classifier__oob_score\" : [True],\n",
        "    \"classifier__n_jobs\" : [None],\n",
        "    \"classifier__warm_start\" : [False]\n",
        "}\n",
        "\n",
        "# Initializing stratified K-fold cross-validation. This ensures each fold has the same proportion of target labels as the whole dataset.\n",
        "kf = KFold(n_splits=10)\n",
        "\n",
        "# Setting up GridSearchCV to search through the parameter space.\n",
        "# It will evaluate the model for each combination of hyperparameters provided using stratified K-fold cross-validation.\n",
        "random_search = GridSearchCV(\n",
        "    model, param_grid=param_dist, cv=skf\n",
        ")\n",
        "\n",
        "# Running the GridSearchCV on the training data.\n",
        "random_search.fit(train.drop('predm', axis=1), train['predm'])\n",
        "\n",
        "# Extracting the results of the Grid Search into a DataFrame for analysis.\n",
        "results = pd.DataFrame(random_search.cv_results_)\n",
        "\n",
        "# Filtering to get the rows with the best performing hyperparameters.\n",
        "results[results['rank_test_score'] == 1]"
      ],
      "metadata": {
        "colab": {
          "base_uri": "https://localhost:8080/",
          "height": 118
        },
        "id": "DFpkxr1xmyFC",
        "outputId": "713e5157-6503-41d3-bd76-5a0c77bffb80"
      },
      "execution_count": 37,
      "outputs": [
        {
          "output_type": "execute_result",
          "data": {
            "text/plain": [
              "    mean_fit_time  std_fit_time  mean_score_time  std_score_time  \\\n",
              "55       1.343952      0.246705         0.028512        0.005986   \n",
              "\n",
              "   param_classifier__bootstrap param_classifier__criterion  \\\n",
              "55                        True                        gini   \n",
              "\n",
              "   param_classifier__max_depth param_classifier__max_features  \\\n",
              "55                          10                              6   \n",
              "\n",
              "   param_classifier__max_leaf_nodes param_classifier__min_impurity_decrease  \\\n",
              "55                              100                                    0.01   \n",
              "\n",
              "   param_classifier__min_samples_leaf param_classifier__min_samples_split  \\\n",
              "55                                  1                                   5   \n",
              "\n",
              "   param_classifier__min_weight_fraction_leaf param_classifier__n_estimators  \\\n",
              "55                                        0.1                            300   \n",
              "\n",
              "   param_classifier__n_jobs param_classifier__oob_score  \\\n",
              "55                     None                        True   \n",
              "\n",
              "   param_classifier__warm_start  \\\n",
              "55                        False   \n",
              "\n",
              "                                               params  split0_test_score  \\\n",
              "55  {'classifier__bootstrap': True, 'classifier__c...           0.713098   \n",
              "\n",
              "    split1_test_score  split2_test_score  split3_test_score  \\\n",
              "55           0.686071           0.744283           0.725572   \n",
              "\n",
              "    split4_test_score  split5_test_score  split6_test_score  \\\n",
              "55           0.717256           0.725572           0.704782   \n",
              "\n",
              "    split7_test_score  split8_test_score  split9_test_score  mean_test_score  \\\n",
              "55           0.738046           0.738046           0.717256         0.720998   \n",
              "\n",
              "    std_test_score  rank_test_score  \n",
              "55        0.016549                1  "
            ],
            "text/html": [
              "\n",
              "  <div id=\"df-6007c18a-59c8-4702-a2e1-c24ae173629d\" class=\"colab-df-container\">\n",
              "    <div>\n",
              "<style scoped>\n",
              "    .dataframe tbody tr th:only-of-type {\n",
              "        vertical-align: middle;\n",
              "    }\n",
              "\n",
              "    .dataframe tbody tr th {\n",
              "        vertical-align: top;\n",
              "    }\n",
              "\n",
              "    .dataframe thead th {\n",
              "        text-align: right;\n",
              "    }\n",
              "</style>\n",
              "<table border=\"1\" class=\"dataframe\">\n",
              "  <thead>\n",
              "    <tr style=\"text-align: right;\">\n",
              "      <th></th>\n",
              "      <th>mean_fit_time</th>\n",
              "      <th>std_fit_time</th>\n",
              "      <th>mean_score_time</th>\n",
              "      <th>std_score_time</th>\n",
              "      <th>param_classifier__bootstrap</th>\n",
              "      <th>param_classifier__criterion</th>\n",
              "      <th>param_classifier__max_depth</th>\n",
              "      <th>param_classifier__max_features</th>\n",
              "      <th>param_classifier__max_leaf_nodes</th>\n",
              "      <th>param_classifier__min_impurity_decrease</th>\n",
              "      <th>param_classifier__min_samples_leaf</th>\n",
              "      <th>param_classifier__min_samples_split</th>\n",
              "      <th>param_classifier__min_weight_fraction_leaf</th>\n",
              "      <th>param_classifier__n_estimators</th>\n",
              "      <th>param_classifier__n_jobs</th>\n",
              "      <th>param_classifier__oob_score</th>\n",
              "      <th>param_classifier__warm_start</th>\n",
              "      <th>params</th>\n",
              "      <th>split0_test_score</th>\n",
              "      <th>split1_test_score</th>\n",
              "      <th>split2_test_score</th>\n",
              "      <th>split3_test_score</th>\n",
              "      <th>split4_test_score</th>\n",
              "      <th>split5_test_score</th>\n",
              "      <th>split6_test_score</th>\n",
              "      <th>split7_test_score</th>\n",
              "      <th>split8_test_score</th>\n",
              "      <th>split9_test_score</th>\n",
              "      <th>mean_test_score</th>\n",
              "      <th>std_test_score</th>\n",
              "      <th>rank_test_score</th>\n",
              "    </tr>\n",
              "  </thead>\n",
              "  <tbody>\n",
              "    <tr>\n",
              "      <th>55</th>\n",
              "      <td>1.343952</td>\n",
              "      <td>0.246705</td>\n",
              "      <td>0.028512</td>\n",
              "      <td>0.005986</td>\n",
              "      <td>True</td>\n",
              "      <td>gini</td>\n",
              "      <td>10</td>\n",
              "      <td>6</td>\n",
              "      <td>100</td>\n",
              "      <td>0.01</td>\n",
              "      <td>1</td>\n",
              "      <td>5</td>\n",
              "      <td>0.1</td>\n",
              "      <td>300</td>\n",
              "      <td>None</td>\n",
              "      <td>True</td>\n",
              "      <td>False</td>\n",
              "      <td>{'classifier__bootstrap': True, 'classifier__c...</td>\n",
              "      <td>0.713098</td>\n",
              "      <td>0.686071</td>\n",
              "      <td>0.744283</td>\n",
              "      <td>0.725572</td>\n",
              "      <td>0.717256</td>\n",
              "      <td>0.725572</td>\n",
              "      <td>0.704782</td>\n",
              "      <td>0.738046</td>\n",
              "      <td>0.738046</td>\n",
              "      <td>0.717256</td>\n",
              "      <td>0.720998</td>\n",
              "      <td>0.016549</td>\n",
              "      <td>1</td>\n",
              "    </tr>\n",
              "  </tbody>\n",
              "</table>\n",
              "</div>\n",
              "    <div class=\"colab-df-buttons\">\n",
              "\n",
              "  <div class=\"colab-df-container\">\n",
              "    <button class=\"colab-df-convert\" onclick=\"convertToInteractive('df-6007c18a-59c8-4702-a2e1-c24ae173629d')\"\n",
              "            title=\"Convert this dataframe to an interactive table.\"\n",
              "            style=\"display:none;\">\n",
              "\n",
              "  <svg xmlns=\"http://www.w3.org/2000/svg\" height=\"24px\" viewBox=\"0 -960 960 960\">\n",
              "    <path d=\"M120-120v-720h720v720H120Zm60-500h600v-160H180v160Zm220 220h160v-160H400v160Zm0 220h160v-160H400v160ZM180-400h160v-160H180v160Zm440 0h160v-160H620v160ZM180-180h160v-160H180v160Zm440 0h160v-160H620v160Z\"/>\n",
              "  </svg>\n",
              "    </button>\n",
              "\n",
              "  <style>\n",
              "    .colab-df-container {\n",
              "      display:flex;\n",
              "      gap: 12px;\n",
              "    }\n",
              "\n",
              "    .colab-df-convert {\n",
              "      background-color: #E8F0FE;\n",
              "      border: none;\n",
              "      border-radius: 50%;\n",
              "      cursor: pointer;\n",
              "      display: none;\n",
              "      fill: #1967D2;\n",
              "      height: 32px;\n",
              "      padding: 0 0 0 0;\n",
              "      width: 32px;\n",
              "    }\n",
              "\n",
              "    .colab-df-convert:hover {\n",
              "      background-color: #E2EBFA;\n",
              "      box-shadow: 0px 1px 2px rgba(60, 64, 67, 0.3), 0px 1px 3px 1px rgba(60, 64, 67, 0.15);\n",
              "      fill: #174EA6;\n",
              "    }\n",
              "\n",
              "    .colab-df-buttons div {\n",
              "      margin-bottom: 4px;\n",
              "    }\n",
              "\n",
              "    [theme=dark] .colab-df-convert {\n",
              "      background-color: #3B4455;\n",
              "      fill: #D2E3FC;\n",
              "    }\n",
              "\n",
              "    [theme=dark] .colab-df-convert:hover {\n",
              "      background-color: #434B5C;\n",
              "      box-shadow: 0px 1px 3px 1px rgba(0, 0, 0, 0.15);\n",
              "      filter: drop-shadow(0px 1px 2px rgba(0, 0, 0, 0.3));\n",
              "      fill: #FFFFFF;\n",
              "    }\n",
              "  </style>\n",
              "\n",
              "    <script>\n",
              "      const buttonEl =\n",
              "        document.querySelector('#df-6007c18a-59c8-4702-a2e1-c24ae173629d button.colab-df-convert');\n",
              "      buttonEl.style.display =\n",
              "        google.colab.kernel.accessAllowed ? 'block' : 'none';\n",
              "\n",
              "      async function convertToInteractive(key) {\n",
              "        const element = document.querySelector('#df-6007c18a-59c8-4702-a2e1-c24ae173629d');\n",
              "        const dataTable =\n",
              "          await google.colab.kernel.invokeFunction('convertToInteractive',\n",
              "                                                    [key], {});\n",
              "        if (!dataTable) return;\n",
              "\n",
              "        const docLinkHtml = 'Like what you see? Visit the ' +\n",
              "          '<a target=\"_blank\" href=https://colab.research.google.com/notebooks/data_table.ipynb>data table notebook</a>'\n",
              "          + ' to learn more about interactive tables.';\n",
              "        element.innerHTML = '';\n",
              "        dataTable['output_type'] = 'display_data';\n",
              "        await google.colab.output.renderOutput(dataTable, element);\n",
              "        const docLink = document.createElement('div');\n",
              "        docLink.innerHTML = docLinkHtml;\n",
              "        element.appendChild(docLink);\n",
              "      }\n",
              "    </script>\n",
              "  </div>\n",
              "\n",
              "    </div>\n",
              "  </div>\n"
            ]
          },
          "metadata": {},
          "execution_count": 37
        }
      ]
    },
    {
      "cell_type": "code",
      "source": [
        "# Retrieve the best hyperparameters after Grid Search\n",
        "random_search.best_params_"
      ],
      "metadata": {
        "colab": {
          "base_uri": "https://localhost:8080/"
        },
        "id": "18RUc18oD6cz",
        "outputId": "245bc051-a52b-4c38-c16c-3a943ce05a10"
      },
      "execution_count": 40,
      "outputs": [
        {
          "output_type": "execute_result",
          "data": {
            "text/plain": [
              "{'classifier__bootstrap': True,\n",
              " 'classifier__criterion': 'gini',\n",
              " 'classifier__max_depth': 10,\n",
              " 'classifier__max_features': 6,\n",
              " 'classifier__max_leaf_nodes': 100,\n",
              " 'classifier__min_impurity_decrease': 0.01,\n",
              " 'classifier__min_samples_leaf': 1,\n",
              " 'classifier__min_samples_split': 5,\n",
              " 'classifier__min_weight_fraction_leaf': 0.1,\n",
              " 'classifier__n_estimators': 300,\n",
              " 'classifier__n_jobs': None,\n",
              " 'classifier__oob_score': True,\n",
              " 'classifier__warm_start': False}"
            ]
          },
          "metadata": {},
          "execution_count": 40
        }
      ]
    },
    {
      "cell_type": "markdown",
      "source": [
        "Using Optimal Hyperparameters to Train and Evaluate the Model"
      ],
      "metadata": {
        "id": "g67z6aRYow7D"
      }
    },
    {
      "cell_type": "code",
      "source": [
        "# Updating the model's hyperparameters with the best parameters identified from the Grid Search.\n",
        "model = model.set_params(**random_search.best_params_)\n",
        "\n",
        "# Retraining the model with the updated hyperparameters on the training data.\n",
        "model = model.fit(train.drop('predm', axis=1), train['predm'])\n",
        "\n",
        "# Predicting the target variable on the training set and evaluating the model's accuracy.\n",
        "Y_train_pred = model.predict(train.drop('predm', axis=1))\n",
        "accuracy = accuracy_score(train['predm'], Y_train_pred)\n",
        "print(\"Train Set Accuracy:\", accuracy)\n",
        "\n",
        "# Predicting the target variable on the test set and evaluating the model's accuracy.\n",
        "Y_test_pred = model.predict(test.drop('predm', axis=1))\n",
        "accuracy = accuracy_score(test['predm'], Y_test_pred)\n",
        "print(\"Test Set Accuracy:\", accuracy)"
      ],
      "metadata": {
        "colab": {
          "base_uri": "https://localhost:8080/"
        },
        "id": "7rGrgOyOnVLc",
        "outputId": "d3f3a79e-5f69-4472-ad40-bb28c807ff88"
      },
      "execution_count": 46,
      "outputs": [
        {
          "output_type": "stream",
          "name": "stdout",
          "text": [
            "Train Set Accuracy: 0.7203742203742204\n",
            "Test Set Accuracy: 0.7350374064837906\n"
          ]
        }
      ]
    },
    {
      "cell_type": "markdown",
      "source": [
        "Performance Metrics"
      ],
      "metadata": {
        "id": "ANdBXp2gAycp"
      }
    },
    {
      "cell_type": "code",
      "source": [
        "# F1\n",
        "F1 = f1_score(test['predm'], Y_test_pred)\n",
        "print(\"Test Set F1:\", F1)"
      ],
      "metadata": {
        "colab": {
          "base_uri": "https://localhost:8080/"
        },
        "id": "y1C1GfIZAxpk",
        "outputId": "3973beda-f244-4c2b-c826-0eeece2d3bf7"
      },
      "execution_count": 48,
      "outputs": [
        {
          "output_type": "stream",
          "name": "stdout",
          "text": [
            "Test Set F1: 0.6222222222222223\n"
          ]
        }
      ]
    },
    {
      "cell_type": "code",
      "source": [
        "# Precision Score\n",
        "Precision = precision_score(test['predm'], Y_test_pred)\n",
        "print(\"Test Set Precision:\", Precision)"
      ],
      "metadata": {
        "colab": {
          "base_uri": "https://localhost:8080/"
        },
        "id": "emVXyFd15Ei8",
        "outputId": "8004df93-4a37-45a7-b8d0-aabbe7f06dbe"
      },
      "execution_count": 49,
      "outputs": [
        {
          "output_type": "stream",
          "name": "stdout",
          "text": [
            "Test Set Precision: 0.7760532150776053\n"
          ]
        }
      ]
    },
    {
      "cell_type": "code",
      "source": [
        "# Recall Score\n",
        "Recall = recall_score(test['predm'], Y_test_pred)\n",
        "print(\"Test Set Recall:\", Recall)"
      ],
      "metadata": {
        "colab": {
          "base_uri": "https://localhost:8080/"
        },
        "id": "WSqabDth5ErJ",
        "outputId": "e10978ef-3c5c-4be3-f402-797c0e3ccb09"
      },
      "execution_count": 50,
      "outputs": [
        {
          "output_type": "stream",
          "name": "stdout",
          "text": [
            "Test Set Recall: 0.5192878338278932\n"
          ]
        }
      ]
    },
    {
      "cell_type": "code",
      "source": [
        "#AUC\n",
        "roc_auc = roc_auc_score(test['predm'], Y_test_pred)\n",
        "print(\"Test Set AUC:\", roc_auc)"
      ],
      "metadata": {
        "colab": {
          "base_uri": "https://localhost:8080/"
        },
        "id": "03gcbn3b5EyG",
        "outputId": "0995d996-55d1-4993-dcd9-0c140b409231"
      },
      "execution_count": 51,
      "outputs": [
        {
          "output_type": "stream",
          "name": "stdout",
          "text": [
            "Test Set AUC: 0.7053428416451294\n"
          ]
        }
      ]
    },
    {
      "cell_type": "code",
      "source": [
        "#confusion matrix\n",
        "Y = test['predm']\n",
        "conf_matrix = confusion_matrix(Y, Y_test_pred)\n",
        "sns.heatmap(conf_matrix, annot=True, fmt='d')\n",
        "plt.ylabel('Actual')\n",
        "plt.xlabel('Predicted')\n",
        "plt.show()"
      ],
      "metadata": {
        "colab": {
          "base_uri": "https://localhost:8080/",
          "height": 449
        },
        "id": "7BPjPH765E5C",
        "outputId": "2f0ceff5-122f-479e-f0af-878fe0a0e172"
      },
      "execution_count": 53,
      "outputs": [
        {
          "output_type": "display_data",
          "data": {
            "text/plain": [
              "<Figure size 640x480 with 2 Axes>"
            ],
            "image/png": "[encoded data removed]"
          },
          "metadata": {}
        }
      ]
    }
  ]
}